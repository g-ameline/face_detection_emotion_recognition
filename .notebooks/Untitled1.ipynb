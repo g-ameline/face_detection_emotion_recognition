{
 "cells": [
  {
   "cell_type": "code",
   "execution_count": 1,
   "id": "2c67b280-964c-4bfa-a9cf-38863ad0041c",
   "metadata": {},
   "outputs": [],
   "source": [
    "import threading\n",
    "threadLock = threading.Lock()"
   ]
  },
  {
   "cell_type": "code",
   "execution_count": 5,
   "id": "f8df824f-3e88-4fc8-8804-e95e3c8c2e60",
   "metadata": {},
   "outputs": [],
   "source": [
    "global_counter = 0"
   ]
  },
  {
   "cell_type": "code",
   "execution_count": 6,
   "id": "225d959f-f3d9-44c5-98b5-f0a89b7fd55f",
   "metadata": {},
   "outputs": [],
   "source": [
    "\n",
    "with threadLock:\n",
    "    global_counter += 1"
   ]
  },
  {
   "cell_type": "code",
   "execution_count": 7,
   "id": "5aa6817b-0a29-48a2-8618-9ac3460b4245",
   "metadata": {},
   "outputs": [
    {
     "data": {
      "text/plain": [
       "1"
      ]
     },
     "execution_count": 7,
     "metadata": {},
     "output_type": "execute_result"
    }
   ],
   "source": [
    "global_counter"
   ]
  },
  {
   "cell_type": "code",
   "execution_count": null,
   "id": "03432ea9-745f-406b-a4a2-6bd04c090cd9",
   "metadata": {},
   "outputs": [],
   "source": [
    "    from threading import Thread\n",
    "    from threading import Lock"
   ]
  },
  {
   "cell_type": "code",
   "execution_count": 43,
   "id": "8ad81e1d-966a-40fa-8c1c-cf35a9981ec8",
   "metadata": {},
   "outputs": [],
   "source": [
    "class Counter():\n",
    "    def __init__(self):\n",
    "        from threading import Thread\n",
    "        from threading import Lock\n",
    "        self._counter = 0\n",
    "        self._lock = Lock()\n",
    "    def int(self):\n",
    "        with self._lock:\n",
    "            self._counter += 1\n",
    "            return self._counter\n",
    "    def str(self):\n",
    "        with self._lock:\n",
    "            self._counter += 1\n",
    "            return str(self._counter)"
   ]
  },
  {
   "cell_type": "code",
   "execution_count": 44,
   "id": "58488c80-f848-47ad-8eed-61bd1fc1f2c2",
   "metadata": {},
   "outputs": [],
   "source": [
    "counter = Counter()"
   ]
  },
  {
   "cell_type": "code",
   "execution_count": 45,
   "id": "4587957b-3259-4b95-b8c5-03f3185da18c",
   "metadata": {},
   "outputs": [
    {
     "data": {
      "text/plain": [
       "'1'"
      ]
     },
     "execution_count": 45,
     "metadata": {},
     "output_type": "execute_result"
    }
   ],
   "source": [
    "counter.string()"
   ]
  },
  {
   "cell_type": "code",
   "execution_count": null,
   "id": "b371c074-c4af-499f-a649-85f79015c42d",
   "metadata": {},
   "outputs": [],
   "source": []
  }
 ],
 "metadata": {
  "kernelspec": {
   "display_name": "Python 3 (ipykernel)",
   "language": "python",
   "name": "python3"
  },
  "language_info": {
   "codemirror_mode": {
    "name": "ipython",
    "version": 3
   },
   "file_extension": ".py",
   "mimetype": "text/x-python",
   "name": "python",
   "nbconvert_exporter": "python",
   "pygments_lexer": "ipython3",
   "version": "3.11.7"
  }
 },
 "nbformat": 4,
 "nbformat_minor": 5
}
