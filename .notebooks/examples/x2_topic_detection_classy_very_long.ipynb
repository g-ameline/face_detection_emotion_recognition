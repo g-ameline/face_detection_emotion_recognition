{
 "cells": [
  {
   "cell_type": "markdown",
   "id": "1d7269c9-d6b8-409c-902e-fca2bf6dc4e8",
   "metadata": {},
   "source": [
    "# 2 topic detection\n",
    "## get BBC training data\n",
    "## train model at 0.95+ score \n",
    "## and save as pickle\n",
    "## save/show learning curve"
   ]
  },
  {
   "cell_type": "code",
   "execution_count": 1,
   "id": "a7df95d3-a9ba-4ed2-8760-119de5d2a041",
   "metadata": {},
   "outputs": [],
   "source": [
    "topic_classification_folder = '../topic_classification/'\n",
    "import os\n",
    "if not os.path.exists(topic_classification_folder):\n",
    "    os.makedirs(topic_classification_folder)"
   ]
  },
  {
   "cell_type": "code",
   "execution_count": 2,
   "id": "7b5aff3e-77bc-45cf-b6a8-660d41f7c55c",
   "metadata": {},
   "outputs": [],
   "source": [
    "url_topic_train = 'https://raw.githubusercontent.com/01-edu/public/master/subjects/ai/nlp-scraper/bbc_news_train.csv'\n",
    "url_topic_test = 'https://github.com/01-edu/public/blob/master/subjects/ai/nlp-scraper/bbc_news_tests.csv'"
   ]
  },
  {
   "cell_type": "code",
   "execution_count": 3,
   "id": "28028e4c-a8a3-42bd-a75d-ab4a8a44ef13",
   "metadata": {},
   "outputs": [],
   "source": [
    "def fetch_file_stream(folder,file_name,url):\n",
    "    import requests\n",
    "    import os\n",
    "    path_destination = folder+file_name\n",
    "    if not os.path.exists(folder):\n",
    "        os.makedirs(folder)\n",
    "    if not os.path.exists(path_destination):\n",
    "        response = requests.get(url,stream=True)\n",
    "        with open(path_destination, 'wb') as file_destination:\n",
    "            for chunk in response.iter_content(chunk_size=128):\n",
    "                file_destination.write(chunk)"
   ]
  },
  {
   "cell_type": "code",
   "execution_count": 4,
   "id": "17120de6-ba50-4476-9e07-91d9af0f6cb4",
   "metadata": {},
   "outputs": [],
   "source": [
    "def get_topic_detection_train_and_test_data(topic_training_material_folder):\n",
    "    import pandas\n",
    "    import os\n",
    "    # if not os.path.exists(topic_training_material_folder):\n",
    "    #     os.makedirs(topic_training_material_folder)\n",
    "    url_topic_train = 'https://raw.githubusercontent.com/01-edu/public/master/subjects/ai/nlp-scraper/bbc_news_train.csv'\n",
    "    url_topic_test = 'https://raw.githubusercontent.com/01-edu/public/master/subjects/ai/nlp-scraper/bbc_news_tests.csv'\n",
    "    xs_topic_train_filename = 'topic_train.csv'\n",
    "    xs_topic_test_filename = 'topic_test.csv'\n",
    "    fetch_file_stream(\n",
    "        topic_training_material_folder,\n",
    "        xs_topic_train_filename,\n",
    "        url_topic_train,\n",
    "    )\n",
    "    fetch_file_stream(\n",
    "        topic_training_material_folder,\n",
    "        xs_topic_test_filename,\n",
    "        url_topic_test,\n",
    "    )\n",
    "    xss_topic_train = pandas.read_csv(\n",
    "        topic_training_material_folder+xs_topic_train_filename,\n",
    "        sep=',',\n",
    "        engine = 'pyarrow',\n",
    "    )\n",
    "    xss_topic_test = pandas.read_csv(\n",
    "        topic_training_material_folder+xs_topic_test_filename,\n",
    "        sep=',',\n",
    "        engine = 'pyarrow',\n",
    "    )\n",
    "    return xss_topic_train, xss_topic_test"
   ]
  },
  {
   "cell_type": "code",
   "execution_count": 5,
   "id": "b3540368-097d-4235-b3c5-373ad5453def",
   "metadata": {},
   "outputs": [],
   "source": [
    "xss_bbc_train_raw, xss_bbc_test_raw = get_topic_detection_train_and_test_data(topic_classification_folder)"
   ]
  },
  {
   "cell_type": "code",
   "execution_count": 6,
   "id": "65e4fd73-82cd-477e-84c7-7744a7af6dfd",
   "metadata": {},
   "outputs": [
    {
     "data": {
      "text/plain": [
       "Index(['ArticleId', 'Text', 'Category'], dtype='object')"
      ]
     },
     "execution_count": 6,
     "metadata": {},
     "output_type": "execute_result"
    }
   ],
   "source": [
    "xss_bbc_train_raw.columns"
   ]
  },
  {
   "cell_type": "code",
   "execution_count": 7,
   "id": "364a2a54-be3e-4968-bafe-2d9ef2260939",
   "metadata": {},
   "outputs": [
    {
     "data": {
      "text/plain": [
       "(1490,)"
      ]
     },
     "execution_count": 7,
     "metadata": {},
     "output_type": "execute_result"
    }
   ],
   "source": [
    "xss_bbc_train_raw['Category'].shape"
   ]
  },
  {
   "cell_type": "code",
   "execution_count": 8,
   "id": "4c172434-bcd7-4ce8-80db-5cefa7343a27",
   "metadata": {},
   "outputs": [],
   "source": [
    "def get_spacy_stuff(stuff_name='en_core_web_sm'):\n",
    "    match stuff_name:\n",
    "        case 'small':\n",
    "            stuff_name='en_core_web_sm'\n",
    "        case 'medium':\n",
    "            stuff_name='en_core_web_md'\n",
    "        case 'large':\n",
    "            stuff_name='en_core_web_lg'\n",
    "        case 'transformer':\n",
    "            stuff_name='en_core_web_trf' \n",
    "        case _:\n",
    "            stuff_name=stuff_name\n",
    "    import spacy\n",
    "    if not spacy.util.is_package(stuff_name):\n",
    "        spacy.cli.download(stuff_name) \n",
    "    return spacy.load(stuff_name)"
   ]
  },
  {
   "cell_type": "markdown",
   "id": "e4a23e45-1fb4-4a3e-bf8c-f5b58d75f997",
   "metadata": {},
   "source": [
    "## with spacy and classy_classification"
   ]
  },
  {
   "cell_type": "code",
   "execution_count": 9,
   "id": "0ffc61a4-af17-4ec9-b99c-75a0931d8071",
   "metadata": {},
   "outputs": [],
   "source": [
    "def format_data_for_label_training(xs_text, ys_label):\n",
    "    training_data_for_labelizing = []\n",
    "    each_labels = ys_label.unique()\n",
    "    for i, text in enumerate(xs_text):\n",
    "        topic_of_the_text = ys_label[i]\n",
    "        row = (text)\n",
    "        categories_dictionary = {\"cats\": {label: label == topic_of_the_text for label in each_labels}}\n",
    "        row = (text, categories_dictionary)\n",
    "        training_data_for_labelizing.append(row)\n",
    "    return training_data_for_labelizing"
   ]
  },
  {
   "cell_type": "code",
   "execution_count": 10,
   "id": "28efa4aa-accd-4150-a073-cabb70949299",
   "metadata": {},
   "outputs": [],
   "source": [
    "def format_data_for_classy_training(xs_text, ys_label):\n",
    "    labels_to_textss = {topic:[] for topic in ys_label.unique()}\n",
    "    for text,label in zip(xs_text, ys_label):\n",
    "        labels_to_textss[label].append(text)\n",
    "    return labels_to_textss"
   ]
  },
  {
   "cell_type": "code",
   "execution_count": 11,
   "id": "80264b97-4e61-4951-bb89-1acd55a33bf3",
   "metadata": {},
   "outputs": [],
   "source": [
    "def train_topic_classy_classifier_spacy(xs_text, ys_label, nlp=None):\n",
    "    import random\n",
    "    try:\n",
    "      import classy_classification\n",
    "    except:\n",
    "        !pip install classy_classification\n",
    "        # import os\n",
    "        # os.system('pip install classy_classification')\n",
    "    import classy_classification\n",
    "    \n",
    "    import classy_classification\n",
    "    if nlp is None:\n",
    "        nlp = get_spacy_stuff('medium')\n",
    "    classy_training_data = format_data_for_classy_training(xs_text, ys_label)\n",
    "    nlp.add_pipe(\n",
    "        \"classy_classification\",\n",
    "        config={\n",
    "            'data': classy_training_data,\n",
    "            'model':'spacy',\n",
    "        },\n",
    "    )\n",
    "    return nlp"
   ]
  },
  {
   "cell_type": "code",
   "execution_count": 12,
   "id": "97de0042-bb22-4a0e-92e5-1ad187683055",
   "metadata": {},
   "outputs": [
    {
     "name": "stderr",
     "output_type": "stream",
     "text": [
      "2024-03-20 10:53:19.773486: I tensorflow/core/util/port.cc:113] oneDNN custom operations are on. You may see slightly different numerical results due to floating-point round-off errors from different computation orders. To turn them off, set the environment variable `TF_ENABLE_ONEDNN_OPTS=0`.\n",
      "2024-03-20 10:53:21.299991: I tensorflow/core/platform/cpu_feature_guard.cc:210] This TensorFlow binary is optimized to use available CPU instructions in performance-critical operations.\n",
      "To enable the following instructions: AVX2 AVX512F AVX512_VNNI FMA, in other operations, rebuild TensorFlow with the appropriate compiler flags.\n",
      "2024-03-20 10:53:26.221375: W tensorflow/compiler/tf2tensorrt/utils/py_utils.cc:38] TF-TRT Warning: Could not find TensorRT\n",
      "/home/wam/kood/nlp-scraper/envs/nlp_scraper/lib/python3.11/site-packages/transformers/utils/generic.py:441: UserWarning: torch.utils._pytree._register_pytree_node is deprecated. Please use torch.utils._pytree.register_pytree_node instead.\n",
      "  _torch_pytree._register_pytree_node(\n"
     ]
    }
   ],
   "source": [
    "classifier_model_classy = train_topic_classy_classifier_spacy(\n",
    "    xss_bbc_train_raw['Text'],\n",
    "    xss_bbc_train_raw['Category'],\n",
    ")"
   ]
  },
  {
   "cell_type": "code",
   "execution_count": 13,
   "id": "f5072c89-e1eb-4570-9474-659a6c377bb6",
   "metadata": {},
   "outputs": [
    {
     "data": {
      "text/plain": [
       "{'business': 0.9648643762488617,\n",
       " 'entertainment': 0.005311315861420202,\n",
       " 'politics': 0.010333569915212906,\n",
       " 'sport': 0.0013157527986121147,\n",
       " 'tech': 0.01817498517589292}"
      ]
     },
     "execution_count": 13,
     "metadata": {},
     "output_type": "execute_result"
    }
   ],
   "source": [
    "classifier_model_classy(\n",
    "    'let make company and sell stuff and buy other organisation and make big profit and fire people ?'\n",
    ")._.cats"
   ]
  },
  {
   "cell_type": "code",
   "execution_count": 14,
   "id": "0e9ad89e-3551-4ee6-b7d1-24f5549a1f7e",
   "metadata": {},
   "outputs": [],
   "source": [
    "def most_probable_category(classy_nlp, text):\n",
    "    return max(classy_nlp(text)._.cats, key=classy_nlp(text)._.cats.get)   \n",
    "def categories_from_texts(nlp_classy, xs_text):\n",
    "    return xs_text.apply(lambda text : most_probable_category(nlp_classy,text))"
   ]
  },
  {
   "cell_type": "code",
   "execution_count": 15,
   "id": "2cbf47fb-115c-4a8e-b94f-5415af18a1e7",
   "metadata": {},
   "outputs": [
    {
     "name": "stdout",
     "output_type": "stream",
     "text": [
      "accuracy over the testing set 0.9619047619047619\n"
     ]
    }
   ],
   "source": [
    "ys_test_true = xss_bbc_test_raw['Category']\n",
    "ys_test_predicted = categories_from_texts(classifier_model_classy, xss_bbc_test_raw['Text'])\n",
    "from sklearn.metrics import accuracy_score\n",
    "print(\"accuracy over the testing set\", accuracy_score(ys_test_true, ys_test_predicted))"
   ]
  },
  {
   "cell_type": "code",
   "execution_count": 16,
   "id": "699270d8-692f-4091-9428-628628e73e01",
   "metadata": {},
   "outputs": [],
   "source": [
    "def save_data_as_pickle(data,filepath):\n",
    "    import pypickle\n",
    "    return pypickle.save(filepath, data)"
   ]
  },
  {
   "cell_type": "code",
   "execution_count": 17,
   "id": "c7615771-b4cd-460b-a4c7-e9e9f9719654",
   "metadata": {},
   "outputs": [
    {
     "name": "stdout",
     "output_type": "stream",
     "text": [
      "[pypickle] File already exists and is not overwritten: [../topic_classification/topic_classifier_classy.pickle]\n"
     ]
    },
    {
     "data": {
      "text/plain": [
       "False"
      ]
     },
     "execution_count": 17,
     "metadata": {},
     "output_type": "execute_result"
    }
   ],
   "source": [
    "save_data_as_pickle(classifier_model_classy, topic_classification_folder+'topic_classifier_classy.pickle')"
   ]
  },
  {
   "cell_type": "markdown",
   "id": "681b64a7-4edf-477d-8ab8-90e557132483",
   "metadata": {},
   "source": [
    "# apply to the 300ish articles"
   ]
  },
  {
   "cell_type": "code",
   "execution_count": 18,
   "id": "666759fb-7294-498b-8464-8b238b8ae712",
   "metadata": {},
   "outputs": [],
   "source": [
    "articles_folder = '../articles/'"
   ]
  },
  {
   "cell_type": "code",
   "execution_count": 19,
   "id": "f7840bb8-037b-4aec-8f66-9d856503d801",
   "metadata": {},
   "outputs": [],
   "source": [
    "def get_all_articles():\n",
    "    import pandas\n",
    "    filename = 'three_hundredish_articles_1.ignore.csv'\n",
    "    return pandas.read_csv(articles_folder+filename, index_col=0)"
   ]
  },
  {
   "cell_type": "code",
   "execution_count": 20,
   "id": "c81c6842-c1c2-4a55-8384-acd65321dabe",
   "metadata": {},
   "outputs": [
    {
     "ename": "FileNotFoundError",
     "evalue": "[Errno 2] No such file or directory: '../articles/three_hundredish_articles_1.ignore.csv'",
     "output_type": "error",
     "traceback": [
      "\u001b[0;31m---------------------------------------------------------------------------\u001b[0m",
      "\u001b[0;31mFileNotFoundError\u001b[0m                         Traceback (most recent call last)",
      "Cell \u001b[0;32mIn[20], line 1\u001b[0m\n\u001b[0;32m----> 1\u001b[0m articles \u001b[38;5;241m=\u001b[39m \u001b[43mget_all_articles\u001b[49m\u001b[43m(\u001b[49m\u001b[43m)\u001b[49m\n",
      "Cell \u001b[0;32mIn[19], line 4\u001b[0m, in \u001b[0;36mget_all_articles\u001b[0;34m()\u001b[0m\n\u001b[1;32m      2\u001b[0m \u001b[38;5;28;01mimport\u001b[39;00m \u001b[38;5;21;01mpandas\u001b[39;00m\n\u001b[1;32m      3\u001b[0m filename \u001b[38;5;241m=\u001b[39m \u001b[38;5;124m'\u001b[39m\u001b[38;5;124mthree_hundredish_articles_1.ignore.csv\u001b[39m\u001b[38;5;124m'\u001b[39m\n\u001b[0;32m----> 4\u001b[0m \u001b[38;5;28;01mreturn\u001b[39;00m \u001b[43mpandas\u001b[49m\u001b[38;5;241;43m.\u001b[39;49m\u001b[43mread_csv\u001b[49m\u001b[43m(\u001b[49m\u001b[43marticles_folder\u001b[49m\u001b[38;5;241;43m+\u001b[39;49m\u001b[43mfilename\u001b[49m\u001b[43m,\u001b[49m\u001b[43m \u001b[49m\u001b[43mindex_col\u001b[49m\u001b[38;5;241;43m=\u001b[39;49m\u001b[38;5;241;43m0\u001b[39;49m\u001b[43m)\u001b[49m\n",
      "File \u001b[0;32m~/kood/nlp-scraper/envs/nlp_scraper/lib/python3.11/site-packages/pandas/util/_decorators.py:211\u001b[0m, in \u001b[0;36mdeprecate_kwarg.<locals>._deprecate_kwarg.<locals>.wrapper\u001b[0;34m(*args, **kwargs)\u001b[0m\n\u001b[1;32m    209\u001b[0m     \u001b[38;5;28;01melse\u001b[39;00m:\n\u001b[1;32m    210\u001b[0m         kwargs[new_arg_name] \u001b[38;5;241m=\u001b[39m new_arg_value\n\u001b[0;32m--> 211\u001b[0m \u001b[38;5;28;01mreturn\u001b[39;00m \u001b[43mfunc\u001b[49m\u001b[43m(\u001b[49m\u001b[38;5;241;43m*\u001b[39;49m\u001b[43margs\u001b[49m\u001b[43m,\u001b[49m\u001b[43m \u001b[49m\u001b[38;5;241;43m*\u001b[39;49m\u001b[38;5;241;43m*\u001b[39;49m\u001b[43mkwargs\u001b[49m\u001b[43m)\u001b[49m\n",
      "File \u001b[0;32m~/kood/nlp-scraper/envs/nlp_scraper/lib/python3.11/site-packages/pandas/util/_decorators.py:331\u001b[0m, in \u001b[0;36mdeprecate_nonkeyword_arguments.<locals>.decorate.<locals>.wrapper\u001b[0;34m(*args, **kwargs)\u001b[0m\n\u001b[1;32m    325\u001b[0m \u001b[38;5;28;01mif\u001b[39;00m \u001b[38;5;28mlen\u001b[39m(args) \u001b[38;5;241m>\u001b[39m num_allow_args:\n\u001b[1;32m    326\u001b[0m     warnings\u001b[38;5;241m.\u001b[39mwarn(\n\u001b[1;32m    327\u001b[0m         msg\u001b[38;5;241m.\u001b[39mformat(arguments\u001b[38;5;241m=\u001b[39m_format_argument_list(allow_args)),\n\u001b[1;32m    328\u001b[0m         \u001b[38;5;167;01mFutureWarning\u001b[39;00m,\n\u001b[1;32m    329\u001b[0m         stacklevel\u001b[38;5;241m=\u001b[39mfind_stack_level(),\n\u001b[1;32m    330\u001b[0m     )\n\u001b[0;32m--> 331\u001b[0m \u001b[38;5;28;01mreturn\u001b[39;00m \u001b[43mfunc\u001b[49m\u001b[43m(\u001b[49m\u001b[38;5;241;43m*\u001b[39;49m\u001b[43margs\u001b[49m\u001b[43m,\u001b[49m\u001b[43m \u001b[49m\u001b[38;5;241;43m*\u001b[39;49m\u001b[38;5;241;43m*\u001b[39;49m\u001b[43mkwargs\u001b[49m\u001b[43m)\u001b[49m\n",
      "File \u001b[0;32m~/kood/nlp-scraper/envs/nlp_scraper/lib/python3.11/site-packages/pandas/io/parsers/readers.py:950\u001b[0m, in \u001b[0;36mread_csv\u001b[0;34m(filepath_or_buffer, sep, delimiter, header, names, index_col, usecols, squeeze, prefix, mangle_dupe_cols, dtype, engine, converters, true_values, false_values, skipinitialspace, skiprows, skipfooter, nrows, na_values, keep_default_na, na_filter, verbose, skip_blank_lines, parse_dates, infer_datetime_format, keep_date_col, date_parser, dayfirst, cache_dates, iterator, chunksize, compression, thousands, decimal, lineterminator, quotechar, quoting, doublequote, escapechar, comment, encoding, encoding_errors, dialect, error_bad_lines, warn_bad_lines, on_bad_lines, delim_whitespace, low_memory, memory_map, float_precision, storage_options)\u001b[0m\n\u001b[1;32m    935\u001b[0m kwds_defaults \u001b[38;5;241m=\u001b[39m _refine_defaults_read(\n\u001b[1;32m    936\u001b[0m     dialect,\n\u001b[1;32m    937\u001b[0m     delimiter,\n\u001b[0;32m   (...)\u001b[0m\n\u001b[1;32m    946\u001b[0m     defaults\u001b[38;5;241m=\u001b[39m{\u001b[38;5;124m\"\u001b[39m\u001b[38;5;124mdelimiter\u001b[39m\u001b[38;5;124m\"\u001b[39m: \u001b[38;5;124m\"\u001b[39m\u001b[38;5;124m,\u001b[39m\u001b[38;5;124m\"\u001b[39m},\n\u001b[1;32m    947\u001b[0m )\n\u001b[1;32m    948\u001b[0m kwds\u001b[38;5;241m.\u001b[39mupdate(kwds_defaults)\n\u001b[0;32m--> 950\u001b[0m \u001b[38;5;28;01mreturn\u001b[39;00m \u001b[43m_read\u001b[49m\u001b[43m(\u001b[49m\u001b[43mfilepath_or_buffer\u001b[49m\u001b[43m,\u001b[49m\u001b[43m \u001b[49m\u001b[43mkwds\u001b[49m\u001b[43m)\u001b[49m\n",
      "File \u001b[0;32m~/kood/nlp-scraper/envs/nlp_scraper/lib/python3.11/site-packages/pandas/io/parsers/readers.py:605\u001b[0m, in \u001b[0;36m_read\u001b[0;34m(filepath_or_buffer, kwds)\u001b[0m\n\u001b[1;32m    602\u001b[0m _validate_names(kwds\u001b[38;5;241m.\u001b[39mget(\u001b[38;5;124m\"\u001b[39m\u001b[38;5;124mnames\u001b[39m\u001b[38;5;124m\"\u001b[39m, \u001b[38;5;28;01mNone\u001b[39;00m))\n\u001b[1;32m    604\u001b[0m \u001b[38;5;66;03m# Create the parser.\u001b[39;00m\n\u001b[0;32m--> 605\u001b[0m parser \u001b[38;5;241m=\u001b[39m \u001b[43mTextFileReader\u001b[49m\u001b[43m(\u001b[49m\u001b[43mfilepath_or_buffer\u001b[49m\u001b[43m,\u001b[49m\u001b[43m \u001b[49m\u001b[38;5;241;43m*\u001b[39;49m\u001b[38;5;241;43m*\u001b[39;49m\u001b[43mkwds\u001b[49m\u001b[43m)\u001b[49m\n\u001b[1;32m    607\u001b[0m \u001b[38;5;28;01mif\u001b[39;00m chunksize \u001b[38;5;129;01mor\u001b[39;00m iterator:\n\u001b[1;32m    608\u001b[0m     \u001b[38;5;28;01mreturn\u001b[39;00m parser\n",
      "File \u001b[0;32m~/kood/nlp-scraper/envs/nlp_scraper/lib/python3.11/site-packages/pandas/io/parsers/readers.py:1442\u001b[0m, in \u001b[0;36mTextFileReader.__init__\u001b[0;34m(self, f, engine, **kwds)\u001b[0m\n\u001b[1;32m   1439\u001b[0m     \u001b[38;5;28mself\u001b[39m\u001b[38;5;241m.\u001b[39moptions[\u001b[38;5;124m\"\u001b[39m\u001b[38;5;124mhas_index_names\u001b[39m\u001b[38;5;124m\"\u001b[39m] \u001b[38;5;241m=\u001b[39m kwds[\u001b[38;5;124m\"\u001b[39m\u001b[38;5;124mhas_index_names\u001b[39m\u001b[38;5;124m\"\u001b[39m]\n\u001b[1;32m   1441\u001b[0m \u001b[38;5;28mself\u001b[39m\u001b[38;5;241m.\u001b[39mhandles: IOHandles \u001b[38;5;241m|\u001b[39m \u001b[38;5;28;01mNone\u001b[39;00m \u001b[38;5;241m=\u001b[39m \u001b[38;5;28;01mNone\u001b[39;00m\n\u001b[0;32m-> 1442\u001b[0m \u001b[38;5;28mself\u001b[39m\u001b[38;5;241m.\u001b[39m_engine \u001b[38;5;241m=\u001b[39m \u001b[38;5;28;43mself\u001b[39;49m\u001b[38;5;241;43m.\u001b[39;49m\u001b[43m_make_engine\u001b[49m\u001b[43m(\u001b[49m\u001b[43mf\u001b[49m\u001b[43m,\u001b[49m\u001b[43m \u001b[49m\u001b[38;5;28;43mself\u001b[39;49m\u001b[38;5;241;43m.\u001b[39;49m\u001b[43mengine\u001b[49m\u001b[43m)\u001b[49m\n",
      "File \u001b[0;32m~/kood/nlp-scraper/envs/nlp_scraper/lib/python3.11/site-packages/pandas/io/parsers/readers.py:1735\u001b[0m, in \u001b[0;36mTextFileReader._make_engine\u001b[0;34m(self, f, engine)\u001b[0m\n\u001b[1;32m   1733\u001b[0m     \u001b[38;5;28;01mif\u001b[39;00m \u001b[38;5;124m\"\u001b[39m\u001b[38;5;124mb\u001b[39m\u001b[38;5;124m\"\u001b[39m \u001b[38;5;129;01mnot\u001b[39;00m \u001b[38;5;129;01min\u001b[39;00m mode:\n\u001b[1;32m   1734\u001b[0m         mode \u001b[38;5;241m+\u001b[39m\u001b[38;5;241m=\u001b[39m \u001b[38;5;124m\"\u001b[39m\u001b[38;5;124mb\u001b[39m\u001b[38;5;124m\"\u001b[39m\n\u001b[0;32m-> 1735\u001b[0m \u001b[38;5;28mself\u001b[39m\u001b[38;5;241m.\u001b[39mhandles \u001b[38;5;241m=\u001b[39m \u001b[43mget_handle\u001b[49m\u001b[43m(\u001b[49m\n\u001b[1;32m   1736\u001b[0m \u001b[43m    \u001b[49m\u001b[43mf\u001b[49m\u001b[43m,\u001b[49m\n\u001b[1;32m   1737\u001b[0m \u001b[43m    \u001b[49m\u001b[43mmode\u001b[49m\u001b[43m,\u001b[49m\n\u001b[1;32m   1738\u001b[0m \u001b[43m    \u001b[49m\u001b[43mencoding\u001b[49m\u001b[38;5;241;43m=\u001b[39;49m\u001b[38;5;28;43mself\u001b[39;49m\u001b[38;5;241;43m.\u001b[39;49m\u001b[43moptions\u001b[49m\u001b[38;5;241;43m.\u001b[39;49m\u001b[43mget\u001b[49m\u001b[43m(\u001b[49m\u001b[38;5;124;43m\"\u001b[39;49m\u001b[38;5;124;43mencoding\u001b[39;49m\u001b[38;5;124;43m\"\u001b[39;49m\u001b[43m,\u001b[49m\u001b[43m \u001b[49m\u001b[38;5;28;43;01mNone\u001b[39;49;00m\u001b[43m)\u001b[49m\u001b[43m,\u001b[49m\n\u001b[1;32m   1739\u001b[0m \u001b[43m    \u001b[49m\u001b[43mcompression\u001b[49m\u001b[38;5;241;43m=\u001b[39;49m\u001b[38;5;28;43mself\u001b[39;49m\u001b[38;5;241;43m.\u001b[39;49m\u001b[43moptions\u001b[49m\u001b[38;5;241;43m.\u001b[39;49m\u001b[43mget\u001b[49m\u001b[43m(\u001b[49m\u001b[38;5;124;43m\"\u001b[39;49m\u001b[38;5;124;43mcompression\u001b[39;49m\u001b[38;5;124;43m\"\u001b[39;49m\u001b[43m,\u001b[49m\u001b[43m \u001b[49m\u001b[38;5;28;43;01mNone\u001b[39;49;00m\u001b[43m)\u001b[49m\u001b[43m,\u001b[49m\n\u001b[1;32m   1740\u001b[0m \u001b[43m    \u001b[49m\u001b[43mmemory_map\u001b[49m\u001b[38;5;241;43m=\u001b[39;49m\u001b[38;5;28;43mself\u001b[39;49m\u001b[38;5;241;43m.\u001b[39;49m\u001b[43moptions\u001b[49m\u001b[38;5;241;43m.\u001b[39;49m\u001b[43mget\u001b[49m\u001b[43m(\u001b[49m\u001b[38;5;124;43m\"\u001b[39;49m\u001b[38;5;124;43mmemory_map\u001b[39;49m\u001b[38;5;124;43m\"\u001b[39;49m\u001b[43m,\u001b[49m\u001b[43m \u001b[49m\u001b[38;5;28;43;01mFalse\u001b[39;49;00m\u001b[43m)\u001b[49m\u001b[43m,\u001b[49m\n\u001b[1;32m   1741\u001b[0m \u001b[43m    \u001b[49m\u001b[43mis_text\u001b[49m\u001b[38;5;241;43m=\u001b[39;49m\u001b[43mis_text\u001b[49m\u001b[43m,\u001b[49m\n\u001b[1;32m   1742\u001b[0m \u001b[43m    \u001b[49m\u001b[43merrors\u001b[49m\u001b[38;5;241;43m=\u001b[39;49m\u001b[38;5;28;43mself\u001b[39;49m\u001b[38;5;241;43m.\u001b[39;49m\u001b[43moptions\u001b[49m\u001b[38;5;241;43m.\u001b[39;49m\u001b[43mget\u001b[49m\u001b[43m(\u001b[49m\u001b[38;5;124;43m\"\u001b[39;49m\u001b[38;5;124;43mencoding_errors\u001b[39;49m\u001b[38;5;124;43m\"\u001b[39;49m\u001b[43m,\u001b[49m\u001b[43m \u001b[49m\u001b[38;5;124;43m\"\u001b[39;49m\u001b[38;5;124;43mstrict\u001b[39;49m\u001b[38;5;124;43m\"\u001b[39;49m\u001b[43m)\u001b[49m\u001b[43m,\u001b[49m\n\u001b[1;32m   1743\u001b[0m \u001b[43m    \u001b[49m\u001b[43mstorage_options\u001b[49m\u001b[38;5;241;43m=\u001b[39;49m\u001b[38;5;28;43mself\u001b[39;49m\u001b[38;5;241;43m.\u001b[39;49m\u001b[43moptions\u001b[49m\u001b[38;5;241;43m.\u001b[39;49m\u001b[43mget\u001b[49m\u001b[43m(\u001b[49m\u001b[38;5;124;43m\"\u001b[39;49m\u001b[38;5;124;43mstorage_options\u001b[39;49m\u001b[38;5;124;43m\"\u001b[39;49m\u001b[43m,\u001b[49m\u001b[43m \u001b[49m\u001b[38;5;28;43;01mNone\u001b[39;49;00m\u001b[43m)\u001b[49m\u001b[43m,\u001b[49m\n\u001b[1;32m   1744\u001b[0m \u001b[43m\u001b[49m\u001b[43m)\u001b[49m\n\u001b[1;32m   1745\u001b[0m \u001b[38;5;28;01massert\u001b[39;00m \u001b[38;5;28mself\u001b[39m\u001b[38;5;241m.\u001b[39mhandles \u001b[38;5;129;01mis\u001b[39;00m \u001b[38;5;129;01mnot\u001b[39;00m \u001b[38;5;28;01mNone\u001b[39;00m\n\u001b[1;32m   1746\u001b[0m f \u001b[38;5;241m=\u001b[39m \u001b[38;5;28mself\u001b[39m\u001b[38;5;241m.\u001b[39mhandles\u001b[38;5;241m.\u001b[39mhandle\n",
      "File \u001b[0;32m~/kood/nlp-scraper/envs/nlp_scraper/lib/python3.11/site-packages/pandas/io/common.py:856\u001b[0m, in \u001b[0;36mget_handle\u001b[0;34m(path_or_buf, mode, encoding, compression, memory_map, is_text, errors, storage_options)\u001b[0m\n\u001b[1;32m    851\u001b[0m \u001b[38;5;28;01melif\u001b[39;00m \u001b[38;5;28misinstance\u001b[39m(handle, \u001b[38;5;28mstr\u001b[39m):\n\u001b[1;32m    852\u001b[0m     \u001b[38;5;66;03m# Check whether the filename is to be opened in binary mode.\u001b[39;00m\n\u001b[1;32m    853\u001b[0m     \u001b[38;5;66;03m# Binary mode does not support 'encoding' and 'newline'.\u001b[39;00m\n\u001b[1;32m    854\u001b[0m     \u001b[38;5;28;01mif\u001b[39;00m ioargs\u001b[38;5;241m.\u001b[39mencoding \u001b[38;5;129;01mand\u001b[39;00m \u001b[38;5;124m\"\u001b[39m\u001b[38;5;124mb\u001b[39m\u001b[38;5;124m\"\u001b[39m \u001b[38;5;129;01mnot\u001b[39;00m \u001b[38;5;129;01min\u001b[39;00m ioargs\u001b[38;5;241m.\u001b[39mmode:\n\u001b[1;32m    855\u001b[0m         \u001b[38;5;66;03m# Encoding\u001b[39;00m\n\u001b[0;32m--> 856\u001b[0m         handle \u001b[38;5;241m=\u001b[39m \u001b[38;5;28;43mopen\u001b[39;49m\u001b[43m(\u001b[49m\n\u001b[1;32m    857\u001b[0m \u001b[43m            \u001b[49m\u001b[43mhandle\u001b[49m\u001b[43m,\u001b[49m\n\u001b[1;32m    858\u001b[0m \u001b[43m            \u001b[49m\u001b[43mioargs\u001b[49m\u001b[38;5;241;43m.\u001b[39;49m\u001b[43mmode\u001b[49m\u001b[43m,\u001b[49m\n\u001b[1;32m    859\u001b[0m \u001b[43m            \u001b[49m\u001b[43mencoding\u001b[49m\u001b[38;5;241;43m=\u001b[39;49m\u001b[43mioargs\u001b[49m\u001b[38;5;241;43m.\u001b[39;49m\u001b[43mencoding\u001b[49m\u001b[43m,\u001b[49m\n\u001b[1;32m    860\u001b[0m \u001b[43m            \u001b[49m\u001b[43merrors\u001b[49m\u001b[38;5;241;43m=\u001b[39;49m\u001b[43merrors\u001b[49m\u001b[43m,\u001b[49m\n\u001b[1;32m    861\u001b[0m \u001b[43m            \u001b[49m\u001b[43mnewline\u001b[49m\u001b[38;5;241;43m=\u001b[39;49m\u001b[38;5;124;43m\"\u001b[39;49m\u001b[38;5;124;43m\"\u001b[39;49m\u001b[43m,\u001b[49m\n\u001b[1;32m    862\u001b[0m \u001b[43m        \u001b[49m\u001b[43m)\u001b[49m\n\u001b[1;32m    863\u001b[0m     \u001b[38;5;28;01melse\u001b[39;00m:\n\u001b[1;32m    864\u001b[0m         \u001b[38;5;66;03m# Binary mode\u001b[39;00m\n\u001b[1;32m    865\u001b[0m         handle \u001b[38;5;241m=\u001b[39m \u001b[38;5;28mopen\u001b[39m(handle, ioargs\u001b[38;5;241m.\u001b[39mmode)\n",
      "\u001b[0;31mFileNotFoundError\u001b[0m: [Errno 2] No such file or directory: '../articles/three_hundredish_articles_1.ignore.csv'"
     ]
    }
   ],
   "source": [
    "articles = get_all_articles()"
   ]
  },
  {
   "cell_type": "code",
   "execution_count": null,
   "id": "293b87ce-b00d-4c28-a896-17788af990aa",
   "metadata": {},
   "outputs": [],
   "source": [
    "articles['topic'] = categories_from_texts(classifier_model_classy, articles['body'])"
   ]
  },
  {
   "cell_type": "code",
   "execution_count": null,
   "id": "cb364037-d947-456e-97f8-e771f35ddc17",
   "metadata": {},
   "outputs": [],
   "source": [
    "articles.head(2)['topic']"
   ]
  },
  {
   "cell_type": "code",
   "execution_count": null,
   "id": "1293eb97-33e6-493f-9094-4a4add28648b",
   "metadata": {},
   "outputs": [],
   "source": [
    "print(articles.iloc[0]['headline'])\n",
    "print(articles.iloc[1]['headline'])"
   ]
  },
  {
   "cell_type": "code",
   "execution_count": null,
   "id": "0eaaa0f5-2bdd-4b2a-9b13-702da773dfc0",
   "metadata": {},
   "outputs": [],
   "source": [
    "articles.to_csv( articles_folder+'three_hundredish_articles_2.ignore.csv')"
   ]
  }
 ],
 "metadata": {
  "kernelspec": {
   "display_name": "nlp_scraper",
   "language": "python",
   "name": "nlp_scraper"
  },
  "language_info": {
   "codemirror_mode": {
    "name": "ipython",
    "version": 3
   },
   "file_extension": ".py",
   "mimetype": "text/x-python",
   "name": "python",
   "nbconvert_exporter": "python",
   "pygments_lexer": "ipython3",
   "version": "3.11.7"
  }
 },
 "nbformat": 4,
 "nbformat_minor": 5
}
