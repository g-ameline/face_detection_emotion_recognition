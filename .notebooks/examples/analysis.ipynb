{
 "cells": [
  {
   "cell_type": "markdown",
   "id": "1df87125-3054-40d2-b7a7-577b3fe19bbb",
   "metadata": {},
   "source": [
    "# Import modules"
   ]
  },
  {
   "cell_type": "code",
   "execution_count": 1,
   "id": "4de947c8-3cfb-4909-8a94-4653546b6708",
   "metadata": {},
   "outputs": [],
   "source": [
    "import os, sys\n",
    "os.getcwd()\n",
    "if \"../scripts/\" not in sys.path:  # to prevent multyadding  \n",
    "    sys.path.append(\"../scripts/\") \n",
    "\n",
    "from IO import fetch_file, csv_filepath_to_dataframe, save_data_as_txt\n",
    "\n",
    "from reducing import reduce_integers_and_floats, dataframe_footprint, convert_serie_to_unsigned_integer\n",
    "\n",
    "from EDA import missing_values_analysis, plot_missing_values, plot_outliers, moving_averages, averaged_companies_over_time\n",
    "from preprocessing import split_inliers_ouliers\n",
    "from feature_engineering import filter_dataframe_outside_time_range, filter_serie_outside_time_range\n",
    "from preprocessing import index_wth_formatted_date\n",
    "from signaling import n_highest_per_row, average_n_past_values"
   ]
  },
  {
   "cell_type": "markdown",
   "id": "47e11ff5-3c8a-4195-87e7-eaf819385eca",
   "metadata": {},
   "source": [
    "# Fetch data\n",
    "fetch stock_prices.csv and sp500.csv and save them in the data directory (../data/)"
   ]
  },
  {
   "cell_type": "code",
   "execution_count": 2,
   "id": "75422154-7268-4023-8347-98a6f7751b18",
   "metadata": {},
   "outputs": [],
   "source": [
    "data_folder = \"../data/\"\n",
    "results_folder = \"../results/\"\n",
    "\n",
    "stock_prices_url = 'https://raw.githubusercontent.com/01-edu/public/master/subjects/ai/backtesting-sp500/data/stock_prices.csv'\n",
    "stock_prices_filename = 'stock_prices.csv'\n",
    "stock_prices_filepath = data_folder+stock_prices_filename\n",
    "\n",
    "sp500_url = 'https://raw.githubusercontent.com/01-edu/public/master/subjects/ai/backtesting-sp500/data/sp500.csv'\n",
    "sp500_filename = 'sp500.csv'\n",
    "sp500_filepath = data_folder+sp500_filename\n",
    "\n",
    "# fetch data from the net into data folder as csv file\n",
    "fetch_file(\n",
    "    folder = data_folder,\n",
    "    filename = sp500_filename,\n",
    "    url = sp500_url\n",
    ")\n",
    "fetch_file(\n",
    "    folder = data_folder,\n",
    "    filename = stock_prices_filename,\n",
    "    url = stock_prices_url\n",
    ")"
   ]
  },
  {
   "cell_type": "markdown",
   "id": "04cc5f4f-e650-48e1-8470-9aae5a74e8aa",
   "metadata": {},
   "source": [
    "# 1. Preliminary: load from csv files to pandas dataframes and optimize memory footprint\n",
    "> For float data the smaller data type used is np.float32"
   ]
  },
  {
   "cell_type": "markdown",
   "id": "da6966d3-3ef3-4508-881c-f4428a8448ac",
   "metadata": {},
   "source": [
    "function to check date format"
   ]
  },
  {
   "cell_type": "code",
   "execution_count": 3,
   "id": "9bfd1f52-ba2d-4abd-834a-e061f6c52244",
   "metadata": {},
   "outputs": [],
   "source": [
    "def check_date_year_first(series):\n",
    "    import pandas as pd\n",
    "    str_stock_prices = series.astype(str).str[:4]\n",
    "    try:\n",
    "        years_stock_prices = pd.to_numeric(str_stock_prices,downcast='unsigned')\n",
    "    except Exception as inst:\n",
    "        print(inst)\n",
    "    not_years_stock_prices = years_stock_prices[(years_stock_prices // 1000) <= 0]\n",
    "    return not_years_stock_prices\n"
   ]
  },
  {
   "cell_type": "markdown",
   "id": "db080665-d1b9-4c32-9164-910cfb12593d",
   "metadata": {},
   "source": [
    "## 1.1 stock prices"
   ]
  },
  {
   "cell_type": "markdown",
   "id": "652b22de-4f83-4a03-a156-4f5deec6395f",
   "metadata": {},
   "source": [
    "### read csv file"
   ]
  },
  {
   "cell_type": "code",
   "execution_count": 4,
   "id": "f99c351c-724e-47f1-a74d-db07b2f9488a",
   "metadata": {},
   "outputs": [
    {
     "name": "stdout",
     "output_type": "stream",
     "text": [
      "                 A           AA         AAPL          ACT          ZMH\n",
      "count  3533.000000  3527.000000  3530.000000  3526.000000  3379.000000\n",
      "mean     23.274053    19.813023    28.242043    58.185425    63.213848\n",
      "std       8.105599     8.704232    30.022492    51.803983    18.878693\n",
      "min       7.278983     4.920114     0.887419    18.620000    24.291195\n",
      "25%      17.154249    11.182526     2.053170    29.030000    49.946464\n",
      "50%      22.807468    19.784224    16.180510    36.595000    63.708561\n",
      "75%      27.198820    27.171104    47.942927    61.950000    76.121148\n",
      "max      45.324249    42.033146   119.000000   270.610000   114.828615\n"
     ]
    }
   ],
   "source": [
    "stock_prices_data_raw = csv_filepath_to_dataframe( stock_prices_filepath )\n",
    "print(stock_prices_data_raw[['A','AA','AAPL', 'ACT','ZMH']].describe())"
   ]
  },
  {
   "cell_type": "markdown",
   "id": "48276b03-d122-4189-82e3-8f660cbb8abd",
   "metadata": {},
   "source": [
    "### index by date"
   ]
  },
  {
   "cell_type": "code",
   "execution_count": 5,
   "id": "31091ba0-50cb-4ec2-85c8-c9f4dcc426d3",
   "metadata": {},
   "outputs": [
    {
     "name": "stdout",
     "output_type": "stream",
     "text": [
      "Number of dates with not a years at the very begin:  0\n"
     ]
    }
   ],
   "source": [
    "print('Number of dates with not a years at the very begin: ', check_date_year_first(stock_prices_data_raw['Date']).size)\n",
    "stock_prices_data_date_indexed = index_wth_formatted_date( stock_prices_data_raw )"
   ]
  },
  {
   "cell_type": "markdown",
   "id": "b42c4c96-17dc-48df-bae6-9996dac79a11",
   "metadata": {},
   "source": [
    "### optimyze memory\n",
    "it also removes the largest outliers"
   ]
  },
  {
   "cell_type": "code",
   "execution_count": 6,
   "id": "116ac9f4-a8be-4e1c-ab25-df0436bb723d",
   "metadata": {},
   "outputs": [
    {
     "name": "stdout",
     "output_type": "stream",
     "text": [
      "--before memory reducing--\n",
      "that many bytes : 15858820\n",
      "that many kilobytes : 15487.12890625\n",
      "that many megabytes : 15.124149322509766\n",
      "\n",
      "--after memory reducing--\n",
      "that many bytes : 9922612\n",
      "that many kilobytes : 9690.05078125\n",
      "that many megabytes : 9.462940216064453\n",
      "\n",
      "                A         AA       AAPL         ACT         ZMH\n",
      "count     3533.0     3527.0     3530.0      3526.0      3379.0\n",
      "mean   23.274052  19.813021  28.242044   58.185432   63.213848\n",
      "std     8.105598   8.704231  30.022493   51.803986   18.878695\n",
      "min     7.278983   4.920114   0.887419   18.620001   24.291195\n",
      "25%    17.154249  11.182526    2.05317   29.030001   49.946465\n",
      "50%    22.807468  19.784224   16.18051   36.595001   63.708561\n",
      "75%     27.19882  27.171104  47.942928   61.950001   76.121147\n",
      "max    45.324249  42.033146      119.0  270.609985  114.828613\n",
      "\n",
      "-- types--\n",
      "A       Float32\n",
      "AA      Float32\n",
      "AAPL    Float32\n",
      "ABBV    Float32\n",
      "ABC     Float32\n",
      "dtype: object\n",
      "\n",
      "Nnumber of collumns which type is not Float32:  0\n"
     ]
    }
   ],
   "source": [
    "print(\"--before memory reducing--\")\n",
    "dataframe_footprint(stock_prices_data_raw)\n",
    "stock_prices_data_reduced = reduce_integers_and_floats( stock_prices_data_date_indexed )\n",
    "print(\"\\n--after memory reducing--\")\n",
    "dataframe_footprint(stock_prices_data_reduced)\n",
    "print('\\n', stock_prices_data_reduced[['A','AA','AAPL', 'ACT','ZMH']].describe())\n",
    "print('\\n-- types--')\n",
    "print(stock_prices_data_reduced.dtypes.head())\n",
    "print('\\nNnumber of collumns which type is not Float32: ', (stock_prices_data_reduced.dtypes!='Float32').sum()) \n",
    "# all collumns are Float32, we cant use smaller type, because it may reduce the precision of the data\n"
   ]
  },
  {
   "cell_type": "markdown",
   "id": "8dc539ef-d3f4-4c2f-8334-128bfe3f2248",
   "metadata": {},
   "source": [
    "## 1.2 sp500"
   ]
  },
  {
   "cell_type": "markdown",
   "id": "35d506ee-e65e-44df-879b-452870093f17",
   "metadata": {},
   "source": [
    "### read csv file"
   ]
  },
  {
   "cell_type": "code",
   "execution_count": 7,
   "id": "fb75ff27-62a6-4bad-ac80-9edc9b1b29ee",
   "metadata": {},
   "outputs": [
    {
     "name": "stdout",
     "output_type": "stream",
     "text": [
      "              Open         High          Low        Close        Volume  \\\n",
      "count  3770.000000  3770.000000  3770.000000  3770.000000  3.770000e+03   \n",
      "mean   1281.580164  1289.919486  1272.655725  1281.755169  2.914031e+09   \n",
      "std     268.602896   268.140247   269.265603   268.828237  1.619203e+09   \n",
      "min     679.280029   695.270020   666.789978   676.530029  3.560700e+08   \n",
      "25%    1109.432526  1116.277527  1102.799988  1109.442535  1.450800e+09   \n",
      "50%    1257.414978  1264.794983  1248.354981  1257.510010  2.742005e+09   \n",
      "75%    1417.792481  1427.252502  1408.780029  1418.092468  3.930722e+09   \n",
      "max    2084.300049  2092.699951  2084.300049  2088.770020  1.145623e+10   \n",
      "\n",
      "       Adjusted Close  \n",
      "count     3770.000000  \n",
      "mean      1281.755169  \n",
      "std        268.828237  \n",
      "min        676.530029  \n",
      "25%       1109.442535  \n",
      "50%       1257.510010  \n",
      "75%       1418.092468  \n",
      "max       2088.770020  \n"
     ]
    }
   ],
   "source": [
    "sp500_data_raw = csv_filepath_to_dataframe( sp500_filepath )\n",
    "print(sp500_data_raw.describe())\n"
   ]
  },
  {
   "cell_type": "markdown",
   "id": "e72b065b-caac-406f-8d16-7d74bbf239fa",
   "metadata": {},
   "source": [
    "### index by date"
   ]
  },
  {
   "cell_type": "code",
   "execution_count": 8,
   "id": "8e35f483-404b-4b3f-a6e7-2df72d888bd5",
   "metadata": {},
   "outputs": [
    {
     "name": "stdout",
     "output_type": "stream",
     "text": [
      "Number of dates with not a years at the very begin:  0\n"
     ]
    }
   ],
   "source": [
    "print('Number of dates with not a years at the very begin: ', check_date_year_first(sp500_data_raw['Date']).size)\n",
    "sp500_data_date_indexed = index_wth_formatted_date( sp500_data_raw )"
   ]
  },
  {
   "cell_type": "markdown",
   "id": "9cc5f915-8ab0-419f-8d8c-3528af7e93d6",
   "metadata": {},
   "source": [
    "### optimyze memory"
   ]
  },
  {
   "cell_type": "code",
   "execution_count": 9,
   "id": "f34f803c-45e0-4830-80fc-2bddef088f6b",
   "metadata": {},
   "outputs": [
    {
     "name": "stdout",
     "output_type": "stream",
     "text": [
      "--before memory reducing--\n",
      "that many bytes : 211252\n",
      "that many kilobytes : 206.30078125\n",
      "that many megabytes : 0.20146560668945312\n",
      "min, max 356070000.0 11456230000.0\n",
      "\n",
      "--after memory reducing--\n",
      "that many bytes : 158340\n",
      "that many kilobytes : 154.62890625\n",
      "that many megabytes : 0.15100479125976562\n",
      "\n",
      "               Open         High          Low        Close             Volume  \\\n",
      "count       3770.0       3770.0       3770.0       3770.0             3770.0   \n",
      "mean   1281.580078  1289.919556  1272.655762  1281.755127  2914030879.405836   \n",
      "std     268.602905   268.140228   269.265594   268.828217  1619202889.881393   \n",
      "min     679.280029    695.27002   666.789978   676.530029        356070016.0   \n",
      "25%    1109.432526  1116.277527  1102.799988  1109.442535       1450800000.0   \n",
      "50%    1257.414978  1264.794983   1248.35498   1257.51001       2742004992.0   \n",
      "75%     1417.79248  1427.252502  1408.780029  1418.092468       3930722560.0   \n",
      "max    2084.300049  2092.699951  2084.300049   2088.77002      11456230400.0   \n",
      "\n",
      "       Adjusted Close  \n",
      "count          3770.0  \n",
      "mean      1281.755127  \n",
      "std        268.828217  \n",
      "min        676.530029  \n",
      "25%       1109.442535  \n",
      "50%        1257.51001  \n",
      "75%       1418.092468  \n",
      "max        2088.77002  \n",
      "\n",
      "-- types--\n",
      "Open              Float32\n",
      "High              Float32\n",
      "Low               Float32\n",
      "Close             Float32\n",
      "Volume             UInt64\n",
      "Adjusted Close    Float32\n",
      "dtype: object\n"
     ]
    }
   ],
   "source": [
    "print(\"--before memory reducing--\")\n",
    "dataframe_footprint(sp500_data_raw)\n",
    "sp500_data_reduced = reduce_integers_and_floats( sp500_data_date_indexed )\n",
    "sp500_data_reduced['Volume'] = convert_serie_to_unsigned_integer(sp500_data_reduced['Volume'])\n",
    "\n",
    "print(\"\\n--after memory reducing--\")\n",
    "dataframe_footprint(sp500_data_reduced)\n",
    "print('\\n', sp500_data_reduced.describe())\n",
    "\n",
    "print('\\n-- types--')\n",
    "print(sp500_data_reduced.dtypes)\n"
   ]
  },
  {
   "cell_type": "markdown",
   "id": "ecb8c9dd-8383-463a-a9a4-7572a37f4634",
   "metadata": {},
   "source": [
    "# 2. Data wrangling and preprocessing\n",
    "## Missing values analysis\n",
    "make little stat on the missing values and save/show a plot about where missing valeus are located.\n",
    "\n",
    "We saved plots to html files to keep them interactive.\n",
    "\n",
    "Remove filepath from the functions call to plot graph in the notebook (beware it is big)\n",
    "### stock prices\n",
    "print number of missing values per ticket\n"
   ]
  },
  {
   "cell_type": "code",
   "execution_count": 10,
   "id": "860a704e-47c6-47c1-b9ea-ba922251953a",
   "metadata": {},
   "outputs": [
    {
     "name": "stdout",
     "output_type": "stream",
     "text": [
      "Total number of columns:  543\n",
      "columns with missing values:\n",
      "Index(['A', 'AA', 'AAPL', 'ABBV', 'ABC', 'ABT', 'ACE', 'ACI', 'ACN', 'ACT',\n",
      "       ...\n",
      "       'XOM', 'XRAY', 'XRX', 'XYL', 'YHOO', 'YUM', 'ZION', 'ZLC', 'ZMH',\n",
      "       'ZNGA'],\n",
      "      dtype='object', length=543)\n",
      "\n",
      "missing values information:\n",
      "      missing_count  missing_percentage\n",
      "A               111                3.05\n",
      "AA              117                3.21\n",
      "AAPL            114                3.13\n",
      "ABBV           3137               86.09\n",
      "ABC             120                3.29\n",
      "...             ...                 ...\n",
      "YUM             119                3.27\n",
      "ZION            119                3.27\n",
      "ZLC             262                7.19\n",
      "ZMH             265                7.27\n",
      "ZNGA           2890               79.31\n",
      "\n",
      "[543 rows x 2 columns]\n",
      "\n",
      "columns with >10% missing values information:\n",
      "      missing_count  missing_percentage\n",
      "ABBV           3137               86.09\n",
      "ADT            3086               84.69\n",
      "AIZ             905               24.84\n",
      "AMP            1312               36.00\n",
      "ARO             466               12.79\n",
      "...             ...                 ...\n",
      "WU             1575               43.22\n",
      "WYN            1523               41.79\n",
      "WYNN            587               16.11\n",
      "XYL            2843               78.02\n",
      "ZNGA           2890               79.31\n",
      "\n",
      "[80 rows x 2 columns]\n"
     ]
    }
   ],
   "source": [
    "print('Total number of columns: ',stock_prices_data_reduced.columns.size)\n",
    "missing_values_analysis(stock_prices_data_reduced)\n",
    "plot_missing_values(stock_prices_data_reduced,\"../results/stock_prices_missing_values.png\") # remove filepath to plot graph below (beware it is big)"
   ]
  },
  {
   "cell_type": "markdown",
   "id": "99458079-7ba8-49c2-959a-770014a74ca5",
   "metadata": {},
   "source": [
    "### sp500"
   ]
  },
  {
   "cell_type": "code",
   "execution_count": 11,
   "id": "e739d71c-3d56-4031-b92c-52b7615ef480",
   "metadata": {},
   "outputs": [
    {
     "name": "stdout",
     "output_type": "stream",
     "text": [
      "columns with missing values:\n",
      "Index([], dtype='object')\n",
      "\n",
      "missing values information:\n",
      "Empty DataFrame\n",
      "Columns: [missing_count, missing_percentage]\n",
      "Index: []\n",
      "\n",
      "columns with >10% missing values information:\n",
      "Empty DataFrame\n",
      "Columns: [missing_count, missing_percentage]\n",
      "Index: []\n"
     ]
    }
   ],
   "source": [
    "missing_values_analysis(sp500_data_reduced)\n",
    "plot_missing_values(sp500_data_reduced,\"../results/sp500_missing_values.png\")"
   ]
  },
  {
   "cell_type": "markdown",
   "id": "fa7fc791-5281-4c9b-9a3c-7d80ff275881",
   "metadata": {},
   "source": [
    "## Outliers analysis"
   ]
  },
  {
   "cell_type": "code",
   "execution_count": 12,
   "id": "c72238c9-bf4c-4dda-bd52-c4ec862137fe",
   "metadata": {},
   "outputs": [
    {
     "name": "stderr",
     "output_type": "stream",
     "text": [
      "No artists with labels found to put in legend.  Note that artists whose label start with an underscore are ignored when legend() is called with no argument.\n"
     ]
    },
    {
     "data": {
      "image/png": "[encoded data removed]",
      "text/plain": [
       "<Figure size 1200x600 with 1 Axes>"
      ]
     },
     "metadata": {},
     "output_type": "display_data"
    }
   ],
   "source": [
    "import pandas as pd\n",
    "import matplotlib.pyplot as plt\n",
    "import numpy as np\n",
    "ig, ax = plt.subplots(figsize=(12, 6))\n",
    "for col in stock_prices_data_reduced.columns:\n",
    "    ax.scatter(stock_prices_data_reduced.index, stock_prices_data_reduced[col]/1_000_000)\n",
    "ax.set_title('Scatter Plot of DataFrame Columns')\n",
    "ax.set_xlabel('date')\n",
    "ax.set_ylabel('price in million')\n",
    "ax.legend()\n",
    "plt.show()"
   ]
  },
  {
   "cell_type": "code",
   "execution_count": 13,
   "id": "60e3710e-c8ea-44ca-9311-2bfecf3965c1",
   "metadata": {},
   "outputs": [],
   "source": [
    "plot_outliers(stock_prices_data_reduced, results_folder+\"stock_prices_outliers.png\")"
   ]
  },
  {
   "cell_type": "markdown",
   "id": "70f7cda4-b923-4558-b6c1-e547ca775859",
   "metadata": {},
   "source": [
    "#### average price for companies over time "
   ]
  },
  {
   "cell_type": "code",
   "execution_count": 14,
   "id": "06e62707-e4fc-470a-a218-1cbd1c79a4fd",
   "metadata": {},
   "outputs": [
    {
     "data": {
      "image/png": "[encoded data removed]",
      "text/plain": [
       "<Figure size 1200x600 with 1 Axes>"
      ]
     },
     "metadata": {},
     "output_type": "display_data"
    }
   ],
   "source": [
    "## if you want the average price of multiple companies over time\n",
    "\n",
    "averaged_companies_over_time(stock_prices_data_reduced.groupby(stock_prices_data_reduced.index.year).mean(), stock_prices_data_reduced.columns,\"../results/stock_prices_averaged.png\")"
   ]
  },
  {
   "cell_type": "markdown",
   "id": "792482f8-43c1-409c-ac65-751faedecb2f",
   "metadata": {},
   "source": [
    "print outliers in 2000"
   ]
  },
  {
   "cell_type": "code",
   "execution_count": 15,
   "id": "6d5a2763-1f46-409a-b463-c359fb2009fa",
   "metadata": {},
   "outputs": [
    {
     "name": "stdout",
     "output_type": "stream",
     "text": [
      "                  SPG        SPLS    SRCL\n",
      "Date                                     \n",
      "2000-12-12  13.531988  11725800.0   8.875\n",
      "2000-12-13  13.671839   8462100.0   9.015\n",
      "2000-12-14  13.565553  15376600.0  8.9375\n",
      "2000-12-15  13.565553  23464500.0  9.3125\n",
      "2000-12-18  13.845255   7931200.0    9.25\n",
      "2000-12-19  13.738968   8903700.0  9.4525\n",
      "2000-12-20  13.531988  10049200.0  9.1875\n",
      "2000-12-21  13.492829   7453800.0    8.89\n",
      "2000-12-22  13.459266   6113400.0  8.7975\n",
      "2000-12-26  13.358573   9224200.0  9.3275\n",
      "2000-12-27   13.81169  17116300.0    9.78\n",
      "2000-12-28  13.738968  12562500.0    9.75\n"
     ]
    }
   ],
   "source": [
    "out2000_ix = stock_prices_data_reduced.groupby(stock_prices_data_reduced.index.year).mean().iloc[0].argmax()\n",
    "print(stock_prices_data_reduced.iloc[:12,out2000_ix-1:out2000_ix+2 ])"
   ]
  },
  {
   "cell_type": "markdown",
   "id": "70b858f7-5089-4231-b462-29c473540475",
   "metadata": {},
   "source": [
    "### sp500\n",
    "\n",
    "#### only volume"
   ]
  },
  {
   "cell_type": "code",
   "execution_count": 16,
   "id": "38359923-6c8a-412e-b1c3-479ac3f06453",
   "metadata": {},
   "outputs": [],
   "source": [
    "plot_outliers(sp500_data_reduced[['Volume']],\"../results/sp500_volume_outliers.png\")"
   ]
  },
  {
   "cell_type": "markdown",
   "id": "6fe75754-aca9-44c6-b4f6-e82d2456c7ed",
   "metadata": {},
   "source": [
    "#### 'Open','High','Low','Close' and 'Adjusted Close'"
   ]
  },
  {
   "cell_type": "code",
   "execution_count": 17,
   "id": "36e1cf44-dede-49a0-89a7-df4dc39798fc",
   "metadata": {
    "scrolled": true
   },
   "outputs": [],
   "source": [
    "plot_outliers(sp500_data_reduced[['Open','High','Low','Close','Adjusted Close']],\"../results/sp500_others_outliers.png\")"
   ]
  },
  {
   "cell_type": "markdown",
   "id": "c6f8b19f-a6bc-441c-88d1-e12e08d1b199",
   "metadata": {},
   "source": [
    "## Describe at least 5 outliers \n",
    "('ticker', 'date', 'price'). Put them in outliers.txt file with the 3 fields on the folder results.\n"
   ]
  },
  {
   "cell_type": "code",
   "execution_count": 38,
   "id": "a9add188-1f21-450a-83dd-d14ba761c5a5",
   "metadata": {},
   "outputs": [
    {
     "name": "stdout",
     "output_type": "stream",
     "text": [
      "ticker: CSC; price: 0.0; data: 2000-12-12 00:00:00\n",
      "\n",
      "ticker: DHR; price: 0.0; data: 2000-12-12 00:00:00\n",
      "\n",
      "ticker: EMC; price: 0.0; data: 2000-12-12 00:00:00\n",
      "\n",
      "ticker: KIM; price: 0.0; data: 2000-12-12 00:00:00\n",
      "\n",
      "ticker: SPLS; price: 11725800.0; data: 2000-12-12 00:00:00\n",
      "\n"
     ]
    }
   ],
   "source": [
    "import pandas\n",
    "stock_prices_data_inliers, stock_prices_data_outliers = split_inliers_ouliers(\n",
    "    data=stock_prices_data_reduced, \n",
    "    min=0.1, \n",
    "    max=10_000\n",
    ")\n",
    "\n",
    "stock_prices_data_outliers= stock_prices_data_outliers.dropna(axis=1, how='all')\n",
    "outliers_file = 'outliers.txt'\n",
    "save_data_as_txt(f'outliers from stock prices\\n', results_folder, outliers_file, 'wt')\n",
    "i = 0\n",
    "for index, row in stock_prices_data_outliers.iterrows():\n",
    "    if i == 5:\n",
    "        break\n",
    "    for col in stock_prices_data_outliers.columns:\n",
    "        if i == 5:\n",
    "            break\n",
    "        if row[col] is not pandas.NA :\n",
    "            save_data_as_txt(\n",
    "                f'ticker: {col}; price: {row[col]}; data: {index}\\n', \n",
    "                results_folder, outliers_file, \n",
    "                'a'\n",
    "            )\n",
    "            print(f'ticker: {col}; price: {row[col]}; data: {index}\\n')\n",
    "            i += 1\n",
    "            continue\n",
    "    break"
   ]
  },
  {
   "cell_type": "markdown",
   "id": "d957d26f-ca2f-410b-a11e-6969f7364762",
   "metadata": {},
   "source": [
    "## Preprocess prices data \n",
    "### Resample data on month and keep the last value\n",
    "\n",
    "#### stock prices"
   ]
  },
  {
   "cell_type": "code",
   "execution_count": 21,
   "id": "af98026b-07ca-4b22-b91b-0c2b070cccd5",
   "metadata": {},
   "outputs": [],
   "source": [
    "stock_prices_data_resampled = stock_prices_data_reduced.resample('BME').last()"
   ]
  },
  {
   "cell_type": "markdown",
   "id": "05e3e4fa-f476-47ec-bba4-77ad78d57883",
   "metadata": {},
   "source": [
    "#### sp500"
   ]
  },
  {
   "cell_type": "code",
   "execution_count": 22,
   "id": "bc8cbb9a-bc24-4d6a-bf0a-e92ed3c9fd64",
   "metadata": {},
   "outputs": [],
   "source": [
    "sp500_data_resampled = sp500_data_reduced.resample('BME').last()"
   ]
  },
  {
   "cell_type": "markdown",
   "id": "7d0b6eb8-a94c-43b2-9804-999cecf39fb2",
   "metadata": {},
   "source": [
    "### Remove prices outside the range 0.1, 10k\n",
    "#### stock prices"
   ]
  },
  {
   "cell_type": "code",
   "execution_count": 23,
   "id": "701c47df-bb7c-4704-9735-76e7ec31a716",
   "metadata": {},
   "outputs": [],
   "source": [
    "resampled_stock_prices_data_inliers, resampled_stock_prices_data_outliers = split_inliers_ouliers(stock_prices_data_resampled, 0.1, 10_000)"
   ]
  },
  {
   "cell_type": "markdown",
   "id": "23bbc427-c345-425e-9797-7cae4421f84e",
   "metadata": {},
   "source": [
    "### Compute monthly returns : \n",
    "We compute what profit/loss 1$ on one ticker.\n",
    "\n",
    "Historical returns:  Rh(t) = (P(t) - P(t-1))/P(t-1) = P(t)/P(t-1) - 1\n",
    "Future returns: Rf(t) = (P(t+1)-P(t))/P(t) = P(t+1)/P(t) - 1\n",
    " let x=t+1 => Rf(x-1) = (P(x)-P(x-1)/P(x-1) = Rh(x) \n",
    " so future returns = historical returns shifted by 1 day\n",
    "\n",
    "#### stock prices\n",
    "\n"
   ]
  },
  {
   "cell_type": "code",
   "execution_count": 24,
   "id": "4e44ad44-9d05-43b3-8aed-f9775cd975ae",
   "metadata": {},
   "outputs": [
    {
     "name": "stdout",
     "output_type": "stream",
     "text": [
      "                   A        AA      AAPL  ABBV       ABC\n",
      "Date                                                    \n",
      "2000-12-29      <NA>      <NA>      <NA>  <NA>      <NA>\n",
      "2001-01-31 -0.003653  0.101194  0.452957  <NA> -0.052871\n",
      "2001-02-28 -0.340055 -0.026674 -0.155874  <NA>  0.123145\n",
      "                   A        AA      AAPL  ABBV       ABC\n",
      "Date                                                    \n",
      "2000-12-29 -0.003653  0.101194  0.452957  <NA> -0.052871\n",
      "2001-01-31 -0.340055 -0.026674 -0.155874  <NA>  0.123145\n",
      "2001-02-28 -0.146389  0.005313  0.209315  <NA> -0.086932\n"
     ]
    }
   ],
   "source": [
    "past_monthly_return_stock_prices_data = resampled_stock_prices_data_inliers.pct_change(fill_method=None)\n",
    "print(past_monthly_return_stock_prices_data.iloc[:3,:5])\n",
    "\n",
    "futur_monthly_return_stock_prices_data = past_monthly_return_stock_prices_data.shift(-1)\n",
    "print(futur_monthly_return_stock_prices_data.iloc[:3,:5])"
   ]
  },
  {
   "cell_type": "markdown",
   "id": "46dea4ea-807e-4133-9edf-5a7261869cec",
   "metadata": {},
   "source": [
    "#### sp500"
   ]
  },
  {
   "cell_type": "code",
   "execution_count": 25,
   "id": "70de92af-2cd6-4239-925b-0c92b84be96d",
   "metadata": {},
   "outputs": [
    {
     "name": "stdout",
     "output_type": "stream",
     "text": [
      "                   Open         High          Low        Close      Volume  \\\n",
      "Date                                                                         \n",
      "2000-01-31  1360.160034   1394.47998  1350.140015  1394.459961   993800000   \n",
      "2000-02-29  1348.050049  1369.630005  1348.050049  1366.420044  1204300032   \n",
      "2000-03-31  1487.920044  1519.810059  1484.380005  1498.579956  1227399936   \n",
      "\n",
      "            Adjusted Close  monthly_past_return  monthly_futur_return  \n",
      "Date                                                                   \n",
      "2000-01-31     1394.459961                 <NA>             -0.020108  \n",
      "2000-02-29     1366.420044            -0.020108               0.09672  \n",
      "2000-03-31     1498.579956              0.09672             -0.030796  \n"
     ]
    }
   ],
   "source": [
    "sp500_data_resampled['monthly_past_return'] = sp500_data_resampled['Adjusted Close'].pct_change(fill_method=None)\n",
    "#sp500_data_resampled['monthly_futur_return'] = -sp500_data_resampled['Adjusted Close'].pct_change(-1,fill_method=None)\n",
    "sp500_data_resampled['monthly_futur_return'] = sp500_data_resampled['monthly_past_return'].shift(-1)\n",
    "print(sp500_data_resampled.head(3))"
   ]
  },
  {
   "cell_type": "markdown",
   "id": "daecaff8-7bc4-48cd-b885-2885a3cbff9e",
   "metadata": {},
   "source": [
    "### Remove monthly returns outliers outside of 2008 crisis \n",
    "\n",
    "#### stock prices\n",
    "\n",
    "  make null any value outside of the 2008 and 2009 period and [-0.5, 1] range "
   ]
  },
  {
   "cell_type": "code",
   "execution_count": 26,
   "id": "f3a6c1bc-a345-4cdd-aa65-56423e0d74fe",
   "metadata": {},
   "outputs": [],
   "source": [
    "filtered_past_monthly_return_stock_prices_data = filter_dataframe_outside_time_range(\n",
    "    dataframe = past_monthly_return_stock_prices_data,\n",
    "    start_date = '2008-01-01',\n",
    "    end_date = '2009-12-31',\n",
    "    min_value = -0.5,\n",
    "    max_value = 1,  \n",
    "    # max_value = 10,  \n",
    ")\n",
    "filtered_futur_monthly_return_stock_prices_data = filter_dataframe_outside_time_range(\n",
    "    dataframe = futur_monthly_return_stock_prices_data,\n",
    "    start_date = '2008-01-01',\n",
    "    end_date = '2009-12-31',\n",
    "    min_value = -0.5,\n",
    "    max_value = 1,  \n",
    "    # max_value = 10,  \n",
    ")"
   ]
  },
  {
   "cell_type": "markdown",
   "id": "c2ec1b22-acdc-495d-bc0c-7cc85f6d462e",
   "metadata": {},
   "source": [
    "fill missing values by the last value available regarding the company \n"
   ]
  },
  {
   "cell_type": "code",
   "execution_count": 27,
   "id": "43af4c14-b8fb-4820-8b8a-c53c99533b92",
   "metadata": {},
   "outputs": [
    {
     "name": "stdout",
     "output_type": "stream",
     "text": [
      "                     Price  past_monthly_return  futur_monthly_return\n",
      "Date                                                                 \n",
      "2000-12-29 A     36.730354                 <NA>             -0.003653\n",
      "           AA    25.950483                 <NA>              0.101194\n",
      "           AAPL   1.006463                 <NA>              0.452957\n",
      "           ABC   11.438262                 <NA>             -0.052871\n",
      "           ABT   38.794544                 <NA>              -0.07205\n",
      "...                    ...                  ...                   ...\n",
      "2014-12-31 YUM   73.279999            -0.051392             -0.051392\n",
      "           ZION      28.67             0.021739              0.021739\n",
      "           ZLC        <NA>            -0.017298             -0.017298\n",
      "           ZMH      114.57             0.022272              0.022272\n",
      "           ZNGA       2.72             0.046154              0.046154\n",
      "\n",
      "[83954 rows x 3 columns]\n"
     ]
    }
   ],
   "source": [
    "filled_past_monthly_return_stock_prices_data = filtered_past_monthly_return_stock_prices_data.ffill()\n",
    "filled_futur_monthly_return_stock_prices_data = filtered_futur_monthly_return_stock_prices_data.ffill()\n",
    "\n",
    "import pandas as pd\n",
    "print( pd.DataFrame({'Price': resampled_stock_prices_data_inliers.stack(),\n",
    " 'past_monthly_return': filled_past_monthly_return_stock_prices_data.stack(),\n",
    " 'futur_monthly_return':filled_futur_monthly_return_stock_prices_data.stack()}))"
   ]
  },
  {
   "cell_type": "markdown",
   "id": "bce43cdb-1bbb-41fb-98f0-9b43d352adf2",
   "metadata": {},
   "source": [
    "#### sp500\n",
    "make null any value outside of the 2008 and 2009 period and [-0.5, 1] range"
   ]
  },
  {
   "cell_type": "code",
   "execution_count": 28,
   "id": "a4f6472f-a81a-48db-af2e-cdbd36701241",
   "metadata": {},
   "outputs": [],
   "source": [
    "sp500_data_resampled['monthly_past_return'] = filter_serie_outside_time_range(\n",
    "    serie = sp500_data_resampled['monthly_past_return'],\n",
    "    start_date = '2008-01-01',\n",
    "    end_date = '2009-12-31',\n",
    "    min_value = -0.5,\n",
    "    max_value = 1,  \n",
    ")\n",
    "sp500_data_resampled['monthly_futur_return'] = filter_serie_outside_time_range(\n",
    "    serie = sp500_data_resampled['monthly_futur_return'],\n",
    "    start_date = '2008-01-01',\n",
    "    end_date = '2009-12-31',\n",
    "    min_value = -0.5,\n",
    "    max_value = 1,  \n",
    ")"
   ]
  },
  {
   "cell_type": "markdown",
   "id": "00f29a9f-f5ba-4385-84c3-3ffa41bb81b7",
   "metadata": {},
   "source": [
    "fill missing values by the last value available regarding the company."
   ]
  },
  {
   "cell_type": "code",
   "execution_count": 29,
   "id": "6d0812ee-628f-41f7-9696-ec9381ba64bb",
   "metadata": {},
   "outputs": [
    {
     "data": {
      "text/plain": [
       "Open                    0\n",
       "High                    0\n",
       "Low                     0\n",
       "Close                   0\n",
       "Volume                  0\n",
       "Adjusted Close          0\n",
       "monthly_past_return     1\n",
       "monthly_futur_return    1\n",
       "dtype: int64"
      ]
     },
     "execution_count": 29,
     "metadata": {},
     "output_type": "execute_result"
    }
   ],
   "source": [
    "sp500_data_resampled['monthly_past_return'] = sp500_data_resampled['monthly_past_return'].ffill()\n",
    "\n",
    "# we check that only first or last return (past/futur) are missing\n",
    "sp500_data_resampled.isna().sum()"
   ]
  },
  {
   "cell_type": "markdown",
   "id": "671e7b1b-9896-4a51-ac5b-4779ff00942f",
   "metadata": {},
   "source": [
    "# 3. Create signal\n",
    "## Average of monthly returns of the previous year\n",
    " get past year returns for each ticker for each month\n",
    " for stock prices only"
   ]
  },
  {
   "cell_type": "code",
   "execution_count": 30,
   "id": "7273fd48-23d9-40a2-8418-f08c5f5d35f6",
   "metadata": {},
   "outputs": [
    {
     "name": "stdout",
     "output_type": "stream",
     "text": [
      "                   A        AA      AAPL  ABBV       ABC\n",
      "Date                                                    \n",
      "2001-12-31 -0.036539  0.011402  0.051190   NaN  0.022666\n",
      "2002-01-31 -0.030856  0.003673  0.024174   NaN  0.028620\n",
      "2002-02-28 -0.000322  0.010283  0.026983   NaN  0.022190\n",
      "2002-03-29  0.022070  0.010217  0.017105   NaN  0.030173\n",
      "2002-04-30 -0.012088 -0.010608  0.006304   NaN  0.032988\n"
     ]
    }
   ],
   "source": [
    "past_year_averaged_monthly_return = average_n_past_values( filled_past_monthly_return_stock_prices_data, 12 )\n",
    "#print(filled_past_monthly_return_stock_prices_data.iloc[:15,:3])\n",
    "print(past_year_averaged_monthly_return.iloc[:5,:5])"
   ]
  },
  {
   "cell_type": "markdown",
   "id": "218e0f64-62af-489c-8150-ab7f2c9308cd",
   "metadata": {},
   "source": [
    "## Define signal\n",
    "20 selected ticker with the highest monthly average returns \n",
    "we should buy their stock each month\n"
   ]
  },
  {
   "cell_type": "code",
   "execution_count": 31,
   "id": "44fa5352-fdb7-464b-855e-dba716aeb05a",
   "metadata": {},
   "outputs": [],
   "source": [
    "signal = n_highest_per_row(past_year_averaged_monthly_return,20)"
   ]
  },
  {
   "cell_type": "markdown",
   "id": "afe7201e-ac8c-431f-96f8-0c28c4f9ab66",
   "metadata": {},
   "source": [
    "# 4. Backtester\n",
    "## Compute the PnL and the total return\n",
    "### 20 selected strategy\n"
   ]
  },
  {
   "cell_type": "code",
   "execution_count": 32,
   "id": "4352bce6-32bc-4510-8eb6-15843f265315",
   "metadata": {},
   "outputs": [
    {
     "name": "stdout",
     "output_type": "stream",
     "text": [
      "-- PnL--\n",
      "Date\n",
      "2001-12-31    0.447674\n",
      "2002-01-31    0.180102\n",
      "2002-02-28    0.696765\n",
      "Freq: BME, dtype: Float32\n",
      "-- total return --\n",
      "66.74962\n"
     ]
    }
   ],
   "source": [
    "top20_pnl = filled_futur_monthly_return_stock_prices_data[signal].mean(axis=1)\n",
    "# what if we spend 20 $ each month on those 20 selected ticker ? (and cashed it out all every next month too)\n",
    "# monthly PnL\n",
    "top20_pnl_20_bucks_each_month = top20_pnl*20\n",
    "print('-- PnL--')\n",
    "print(top20_pnl_20_bucks_each_month[12:15]) # no strategy for first 12 months\n",
    "print('-- total return --')\n",
    "total20 = top20_pnl_20_bucks_each_month.sum()\n",
    "print(total20)"
   ]
  },
  {
   "cell_type": "markdown",
   "id": "c621f3d8-4c85-46bb-b68e-0f19467bf551",
   "metadata": {},
   "source": [
    "###  investing 20$ each month on the SP500."
   ]
  },
  {
   "cell_type": "code",
   "execution_count": 33,
   "id": "bd0cca37-4220-4d0b-a780-dfd5f90aa8b9",
   "metadata": {},
   "outputs": [
    {
     "name": "stdout",
     "output_type": "stream",
     "text": [
      "-- PnL--\n",
      "Date\n",
      "2001-01-31    0.692732\n",
      "2001-02-28   -1.845815\n",
      "2001-03-30   -1.284094\n",
      "Freq: BME, Name: monthly_past_return, dtype: Float32\n",
      "-- total return --\n",
      "11.589245\n"
     ]
    }
   ],
   "source": [
    "## pnl if we blindly just invested 20 $ in the SP500 ; (and cash it out all every month)\n",
    "sp500_pnl = sp500_data_resampled['monthly_past_return']\n",
    "sp500_pnl_20_bucks_each_month = sp500_pnl*20\n",
    "print('-- PnL--')\n",
    "print(sp500_pnl_20_bucks_each_month[12:15]) # no strategy for first 12 months\n",
    "print('-- total return --')\n",
    "total500 = sp500_pnl_20_bucks_each_month.sum()\n",
    "print(total500)\n",
    "# top20_pnl_20_bucks_each_month.plot()\n",
    "# sp500_pnl_20_bucks_each_month.plot()"
   ]
  },
  {
   "cell_type": "markdown",
   "id": "803648c2-403b-409c-a8dd-e2b351a6484f",
   "metadata": {},
   "source": [
    "## Compare 2 strategy"
   ]
  },
  {
   "cell_type": "code",
   "execution_count": 34,
   "id": "66310fd5-d999-45af-b3eb-018db5169da9",
   "metadata": {},
   "outputs": [
    {
     "name": "stdout",
     "output_type": "stream",
     "text": [
      "-- difference between 2 strategy (selected20 - sp500)--\n",
      "55.160374\n"
     ]
    }
   ],
   "source": [
    "print('-- difference between 2 strategy (selected20 - sp500)--')\n",
    "diff_strategy = total20 - total500\n",
    "print(diff_strategy)"
   ]
  },
  {
   "cell_type": "markdown",
   "id": "3e501647-9031-4f17-93fd-8eb0383f1184",
   "metadata": {},
   "source": [
    "## Save the results in a text file results.txt"
   ]
  },
  {
   "cell_type": "code",
   "execution_count": 35,
   "id": "bf535a9d-f5e0-4117-a2c9-575a94bd1139",
   "metadata": {},
   "outputs": [],
   "source": [
    "folder_results =  \"../results/\"\n",
    "file_results =\"results.txt\"\n",
    "destination_results = folder_results + file_results\n",
    "if not os.path.exists(folder_results):\n",
    "    os.makedirs(folder_results)\n",
    "with open(destination_results, 'a') as file_destination:\n",
    "    file_destination.write(f'total return of strategy \"selected 20\": {total20}\\n')\n",
    "    file_destination.write(f'total return of strategy \"sp500\": {total500}\\n')\n",
    "    file_destination.write(f'difference between 2 strategy (selected20 - sp500): {diff_strategy}\\n')\n",
    "        "
   ]
  },
  {
   "cell_type": "markdown",
   "id": "9df2fe38-2c87-48d3-9f93-658053f90a73",
   "metadata": {},
   "source": [
    "## Create a plot that shows the performance of the strategy over time \n",
    "A data point (x-axis: date, y-axis: cumulated_return) is: the cumulated returns from the beginning of the strategy at date t. \n",
    "\n",
    "Save the plot in the results folder."
   ]
  },
  {
   "cell_type": "code",
   "execution_count": 36,
   "id": "559e3365-bb13-4d6b-8fee-bc3f00e1da0a",
   "metadata": {},
   "outputs": [
    {
     "data": {
      "image/png": "[encoded data removed]",
      "text/plain": [
       "<Figure size 1000x600 with 1 Axes>"
      ]
     },
     "metadata": {},
     "output_type": "display_data"
    }
   ],
   "source": [
    "# drop na - first 12 motnth dont have a strategy\n",
    "#top20_cumulated_return = ((top20_pnl.dropna()*20).cumsum())\n",
    "#sp500_cumulated_return = (sp500_pnl.loc[sp500_pnl.index>='2001-12-31']*20).cumsum() \n",
    "import matplotlib.pyplot as plt\n",
    "top20_cumulated_return = ((top20_pnl_20_bucks_each_month.dropna()).cumsum())\n",
    "sp500_cumulated_return = (sp500_pnl_20_bucks_each_month.loc[sp500_pnl_20_bucks_each_month.index>='2001-12-31']).cumsum() \n",
    "\n",
    "top20_cumulated_return.plot(figsize = (10,6), grid = True, title = 'Cumulative performance')\n",
    "sp500_cumulated_return.plot( grid = True)\n",
    "plt.savefig(folder_results+\"cumulative_performance.png\")"
   ]
  },
  {
   "cell_type": "code",
   "execution_count": null,
   "id": "e802e5c4-639b-4179-9803-b58332b38d7c",
   "metadata": {},
   "outputs": [],
   "source": []
  },
  {
   "cell_type": "code",
   "execution_count": null,
   "id": "17e87dfc-2ecd-4492-af8f-72fe92a290bb",
   "metadata": {},
   "outputs": [],
   "source": []
  }
 ],
 "metadata": {
  "kernelspec": {
   "display_name": "Python 3 (ipykernel)",
   "language": "python",
   "name": "python3"
  },
  "language_info": {
   "codemirror_mode": {
    "name": "ipython",
    "version": 3
   },
   "file_extension": ".py",
   "mimetype": "text/x-python",
   "name": "python",
   "nbconvert_exporter": "python",
   "pygments_lexer": "ipython3",
   "version": "3.11.7"
  }
 },
 "nbformat": 4,
 "nbformat_minor": 5
}
