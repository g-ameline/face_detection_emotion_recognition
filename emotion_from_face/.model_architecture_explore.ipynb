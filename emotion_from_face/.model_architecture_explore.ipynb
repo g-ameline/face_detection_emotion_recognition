{
 "cells": [
  {
   "cell_type": "code",
   "execution_count": 1,
   "id": "71df8e97-a68c-439d-ad5c-70facf3b48fc",
   "metadata": {},
   "outputs": [],
   "source": [
    "data_url = 'https://assets.01-edu.org/ai-branch/project3/emotions-detector.zip'\n",
    "data_folder_path = '../data/'"
   ]
  },
  {
   "cell_type": "code",
   "execution_count": 2,
   "id": "4ed402dc-a603-4bab-9db1-782437f97019",
   "metadata": {},
   "outputs": [],
   "source": [
    "downloaded_data_file_name = 'downloaded_data.zip'"
   ]
  },
  {
   "cell_type": "code",
   "execution_count": 3,
   "id": "a1a4c23a-e9eb-4360-a936-2353e4819a9b",
   "metadata": {},
   "outputs": [],
   "source": [
    "unzipped_data_folder_name = 'unzipped_data/'"
   ]
  },
  {
   "cell_type": "code",
   "execution_count": 4,
   "id": "7e9f2724-136b-4a60-8b9c-3cec721b7892",
   "metadata": {},
   "outputs": [],
   "source": [
    "data_set_names = ['train', 'validate', 'test']"
   ]
  },
  {
   "cell_type": "code",
   "execution_count": 5,
   "id": "3cb53941-4c5c-48a6-a196-ff32c8cef2a6",
   "metadata": {},
   "outputs": [],
   "source": [
    "import utils"
   ]
  },
  {
   "cell_type": "code",
   "execution_count": 18,
   "id": "e8e94932-1932-41d3-8a38-577094b1dd1c",
   "metadata": {},
   "outputs": [],
   "source": [
    "import pandas"
   ]
  },
  {
   "cell_type": "code",
   "execution_count": 24,
   "id": "b3b7e01e-e549-486d-9122-c568a4a66738",
   "metadata": {},
   "outputs": [],
   "source": [
    "import utils_fer\n",
    "import numpy"
   ]
  },
  {
   "cell_type": "code",
   "execution_count": 7,
   "id": "c2689624-9691-45c2-8e34-6efe4f764c5d",
   "metadata": {
    "scrolled": true
   },
   "outputs": [],
   "source": [
    "# # case we want all data, with images as byte array and validate set merge with train\n",
    "# train_data_path, validate_data_path, test_data_path = (\n",
    "#     utils_fer.saved_facial_emotion_recognition_data_sets_from_url(\n",
    "#         data_folder_path=data_folder_path,\n",
    "#         downloaded_data_file_name=downloaded_data_file_name,\n",
    "#         unzipped_data_folder_name=unzipped_data_folder_name,\n",
    "#         image_type='png',\n",
    "#         # image_type='bytes',\n",
    "#         # sampling=100,\n",
    "#         merge_training_and_validate=False,\n",
    "# ))"
   ]
  },
  {
   "cell_type": "code",
   "execution_count": 8,
   "id": "7fca85dd-1b89-4b92-a5e0-96eeb12f306d",
   "metadata": {},
   "outputs": [],
   "source": [
    "# skip download step\n",
    "train_data_path = '../data/train/data.csv'\n",
    "validate_data_path ='../data/validate/data.csv'\n",
    "test_data_path ='../data/test/data.csv'"
   ]
  },
  {
   "cell_type": "code",
   "execution_count": 9,
   "id": "b870f56d-cf96-434a-be94-f8f7d3fc074c",
   "metadata": {
    "scrolled": true
   },
   "outputs": [
    {
     "name": "stdout",
     "output_type": "stream",
     "text": [
      "../data/\n",
      "  └ downloaded_data.zip\n",
      " train/\n",
      "  └ data.csv\n",
      "  images/\n",
      "   angry/\n",
      "    ├ 0.png\n",
      "    ├ 1.png\n",
      "    ├ 10.png\n",
      "    ├ ... 3991 files\n",
      "    └ 28707.png\n",
      "   fear/\n",
      "    ├ 2.png\n",
      "    ├ 5.png\n",
      "    ├ 9.png\n",
      "    ├ ... 4093 files\n",
      "    └ 28704.png\n",
      "   sad/\n",
      "    ├ 3.png\n",
      "    ├ 6.png\n",
      "    ├ 19.png\n",
      "    ├ ... 4826 files\n",
      "    └ 28708.png\n",
      "   neutral/\n",
      "    ├ 4.png\n",
      "    ├ 11.png\n",
      "    ├ 12.png\n",
      "    ├ ... 4961 files\n",
      "    └ 28699.png\n",
      "   happy/\n",
      "    ├ 7.png\n",
      "    ├ 8.png\n",
      "    ├ 14.png\n",
      "    ├ ... 7211 files\n",
      "    └ 28698.png\n",
      "   surprise/\n",
      "    ├ 15.png\n",
      "    ├ 26.png\n",
      "    ├ 29.png\n",
      "    ├ ... 3167 files\n",
      "    └ 28703.png\n",
      "   disgust/\n",
      "    ├ 299.png\n",
      "    ├ 388.png\n",
      "    ├ 416.png\n",
      "    ├ ... 432 files\n",
      "    └ 28650.png\n",
      " validate/\n",
      "  └ data.csv\n",
      "  images/\n",
      "   angry/\n",
      "    ├ 28709.png\n",
      "    ├ 28716.png\n",
      "    ├ 28718.png\n",
      "    ├ ... 463 files\n",
      "    └ 32281.png\n",
      "   disgust/\n",
      "    ├ 28710.png\n",
      "    ├ 28791.png\n",
      "    ├ 28851.png\n",
      "    ├ ... 52 files\n",
      "    └ 32289.png\n",
      "   sad/\n",
      "    ├ 28711.png\n",
      "    ├ 28721.png\n",
      "    ├ 28732.png\n",
      "    ├ ... 649 files\n",
      "    └ 32297.png\n",
      "   neutral/\n",
      "    ├ 28712.png\n",
      "    ├ 28723.png\n",
      "    ├ 28740.png\n",
      "    ├ ... 603 files\n",
      "    └ 32285.png\n",
      "   happy/\n",
      "    ├ 28713.png\n",
      "    ├ 28714.png\n",
      "    ├ 28719.png\n",
      "    ├ ... 891 files\n",
      "    └ 32294.png\n",
      "   fear/\n",
      "    ├ 28715.png\n",
      "    ├ 28717.png\n",
      "    ├ 28722.png\n",
      "    ├ ... 492 files\n",
      "    └ 32290.png\n",
      "   surprise/\n",
      "    ├ 28725.png\n",
      "    ├ 28727.png\n",
      "    ├ 28730.png\n",
      "    ├ ... 411 files\n",
      "    └ 32284.png\n",
      " test/\n",
      "  └ data.csv\n",
      "  .../\n"
     ]
    }
   ],
   "source": [
    "utils.show_folders_and_files(data_folder_path)"
   ]
  },
  {
   "cell_type": "code",
   "execution_count": 11,
   "id": "3a9c2807-7bc8-41b3-90fa-52affbee5867",
   "metadata": {},
   "outputs": [],
   "source": [
    "def get_data_from_path(data_path, sampling_quantity=None):\n",
    "    data_frame = pandas.read_csv(\n",
    "        data_path, \n",
    "        index_col=0,\n",
    "        dtype={\n",
    "            # 'emotion':numpy.uint8, 'image':'string'}\n",
    "            'emotion':pandas.StringDtype(), 'image':pandas.StringDtype()}\n",
    "    )\n",
    "    # data_frame['emotion'] = data_frame['emotion'].astype(pandas.CategoricalDtype()) \n",
    "#seems that keras want perticular combo of dtype and class_mode\n",
    "# try either  .astype(uint8) * class_mode='raw' | .astype(string) * class_mode='categorical'\n",
    "    if sampling_quantity:\n",
    "        data_frame=utils_fer.sampled_data_frame(\n",
    "            data_frame=data_frame,\n",
    "            sampling_quantity=sampling_quantity,\n",
    "            to_be_preserved_column_names=['emotion'],\n",
    "        )\n",
    "    return data_frame"
   ]
  },
  {
   "cell_type": "code",
   "execution_count": 12,
   "id": "d391204a-ef14-4503-ab80-1f841a47400c",
   "metadata": {},
   "outputs": [],
   "source": [
    "train_data_frame = utils_fer.get_data_from_path(utils_fer.train_data_path)"
   ]
  },
  {
   "cell_type": "code",
   "execution_count": 13,
   "id": "6beaf971-2b0e-4218-b413-91a792fdce91",
   "metadata": {},
   "outputs": [],
   "source": [
    "validate_data_frame = utils_fer.get_data_from_path(utils_fer.validate_data_path)"
   ]
  },
  {
   "cell_type": "code",
   "execution_count": 14,
   "id": "4b0e4a34-191f-49ea-87ca-247f5858a207",
   "metadata": {},
   "outputs": [
    {
     "data": {
      "text/plain": [
       "string[python]"
      ]
     },
     "execution_count": 14,
     "metadata": {},
     "output_type": "execute_result"
    }
   ],
   "source": [
    "train_data_frame['emotion'].dtypes"
   ]
  },
  {
   "cell_type": "code",
   "execution_count": 19,
   "id": "17a91ed3-c6b7-43e8-b337-c8d8e521ccd8",
   "metadata": {},
   "outputs": [
    {
     "data": {
      "text/plain": [
       "False"
      ]
     },
     "execution_count": 19,
     "metadata": {},
     "output_type": "execute_result"
    }
   ],
   "source": [
    "isinstance(train_data_frame['emotion'].dtypes, pandas.CategoricalDtype)"
   ]
  },
  {
   "cell_type": "code",
   "execution_count": 25,
   "id": "5a2d2259-142e-4f92-beea-e9aa6c94447f",
   "metadata": {},
   "outputs": [
    {
     "data": {
      "text/plain": [
       "False"
      ]
     },
     "execution_count": 25,
     "metadata": {},
     "output_type": "execute_result"
    }
   ],
   "source": [
    "train_data_frame['emotion'].dtypes == numpy.uint8"
   ]
  },
  {
   "cell_type": "code",
   "execution_count": 26,
   "id": "ceefcb1c-68fa-4cf9-baae-bb0cdcb3f913",
   "metadata": {},
   "outputs": [
    {
     "data": {
      "text/plain": [
       "True"
      ]
     },
     "execution_count": 26,
     "metadata": {},
     "output_type": "execute_result"
    }
   ],
   "source": [
    "train_data_frame['emotion'].dtypes == pandas.StringDtype()"
   ]
  },
  {
   "cell_type": "code",
   "execution_count": 27,
   "id": "642fd9cf-8e62-413e-b514-1623f523f6cb",
   "metadata": {},
   "outputs": [
    {
     "name": "stdout",
     "output_type": "stream",
     "text": [
      "<class 'pandas.core.frame.DataFrame'>\n",
      "Index: 28709 entries, 0 to 28708\n",
      "Data columns (total 2 columns):\n",
      " #   Column   Non-Null Count  Dtype \n",
      "---  ------   --------------  ----- \n",
      " 0   emotion  28709 non-null  string\n",
      " 1   image    28709 non-null  string\n",
      "dtypes: string(2)\n",
      "memory usage: 672.9 KB\n"
     ]
    }
   ],
   "source": [
    "train_data_frame.info()"
   ]
  },
  {
   "cell_type": "code",
   "execution_count": 28,
   "id": "b6f2673b-0f9c-40af-b9a5-e57036d3f5dc",
   "metadata": {},
   "outputs": [
    {
     "data": {
      "text/plain": [
       "<StringArray>\n",
       "['0', '2', '4', '6', '3', '5', '1']\n",
       "Length: 7, dtype: string"
      ]
     },
     "execution_count": 28,
     "metadata": {},
     "output_type": "execute_result"
    }
   ],
   "source": [
    "train_data_frame['emotion'].unique()"
   ]
  },
  {
   "cell_type": "code",
   "execution_count": 29,
   "id": "c25a7998-9e76-4818-9dad-6883a2d4e0a6",
   "metadata": {},
   "outputs": [
    {
     "name": "stdout",
     "output_type": "stream",
     "text": [
      "len(train_data_frame[train_data_frame['emotion']==unique]) = 3995\n",
      "len(train_data_frame[train_data_frame['emotion']==unique]) = 4097\n",
      "len(train_data_frame[train_data_frame['emotion']==unique]) = 4830\n",
      "len(train_data_frame[train_data_frame['emotion']==unique]) = 4965\n",
      "len(train_data_frame[train_data_frame['emotion']==unique]) = 7215\n",
      "len(train_data_frame[train_data_frame['emotion']==unique]) = 3171\n",
      "len(train_data_frame[train_data_frame['emotion']==unique]) = 436\n"
     ]
    }
   ],
   "source": [
    "for unique in train_data_frame['emotion'].unique():\n",
    "    print(f\"{len(train_data_frame[train_data_frame['emotion']==unique]) = }\")"
   ]
  },
  {
   "cell_type": "code",
   "execution_count": null,
   "id": "3a6ce6a6-d0c7-4cd9-a9f2-9b8b81bbf8b7",
   "metadata": {
    "scrolled": true
   },
   "outputs": [],
   "source": []
  },
  {
   "cell_type": "code",
   "execution_count": 30,
   "id": "d5677b85-9b9d-4d9b-be9a-01840347f03f",
   "metadata": {},
   "outputs": [],
   "source": [
    "sampled_train_data_frame = data_frame=utils_fer.sampled_data_frame(\n",
    "    data_frame=train_data_frame,\n",
    "    sampling_quantity=40,\n",
    "    to_be_preserved_column_names=['emotion'],\n",
    ")"
   ]
  },
  {
   "cell_type": "code",
   "execution_count": 31,
   "id": "9dd2c677-e75c-4922-b8c0-4827b1ce42c9",
   "metadata": {},
   "outputs": [
    {
     "data": {
      "text/plain": [
       "array([[120, 104,  90, ..., 129, 117, 112],\n",
       "       [ 85,  79,  76, ...,  97,  86, 101],\n",
       "       [ 68,  64,  65, ...,  80,  85, 100],\n",
       "       ...,\n",
       "       [ 76,  86,  69, ...,  69, 143, 118],\n",
       "       [ 79,  88,  71, ...,  66, 144, 131],\n",
       "       [ 78,  97,  74, ...,  75, 143, 133]], dtype=uint8)"
      ]
     },
     "execution_count": 31,
     "metadata": {},
     "output_type": "execute_result"
    }
   ],
   "source": [
    "utils.image_as_matrix_from_path(sampled_train_data_frame['image'].iloc[0])"
   ]
  },
  {
   "cell_type": "code",
   "execution_count": 32,
   "id": "f0fb2146-8cd7-4739-bd69-0684639a32bf",
   "metadata": {},
   "outputs": [],
   "source": [
    "# import tensorflow"
   ]
  },
  {
   "cell_type": "code",
   "execution_count": 33,
   "id": "a480714a-bf06-4234-8359-3aed323e0960",
   "metadata": {
    "scrolled": true
   },
   "outputs": [
    {
     "name": "stderr",
     "output_type": "stream",
     "text": [
      "2024-09-14 11:07:54.514505: I tensorflow/core/util/port.cc:153] oneDNN custom operations are on. You may see slightly different numerical results due to floating-point round-off errors from different computation orders. To turn them off, set the environment variable `TF_ENABLE_ONEDNN_OPTS=0`.\n",
      "2024-09-14 11:07:54.548146: I tensorflow/core/platform/cpu_feature_guard.cc:210] This TensorFlow binary is optimized to use available CPU instructions in performance-critical operations.\n",
      "To enable the following instructions: SSE4.1 SSE4.2 AVX AVX2 AVX512F AVX512_VNNI FMA, in other operations, rebuild TensorFlow with the appropriate compiler flags.\n"
     ]
    }
   ],
   "source": [
    "from keras import layers, Model"
   ]
  },
  {
   "cell_type": "code",
   "execution_count": 34,
   "id": "92452257-4957-4435-8b17-3fda378e2848",
   "metadata": {},
   "outputs": [],
   "source": [
    "def is_natural(x):\n",
    "    return x%1==0 and x>=0 and isinstance(x,int)\n",
    "def is_counting(x):\n",
    "    return x%1==0 and x>0 and isinstance(x,int)"
   ]
  },
  {
   "cell_type": "code",
   "execution_count": 35,
   "id": "5b308b8c-ba1d-4403-afd9-f3f5e936d1ed",
   "metadata": {
    "scrolled": true
   },
   "outputs": [
    {
     "name": "stdout",
     "output_type": "stream",
     "text": [
      "input_data = input data of shape (48, 48, 1)\n"
     ]
    }
   ],
   "source": [
    "import keras\n",
    "class InputData():\n",
    "    import tensorflow as tf\n",
    "    def __new__(cls, shape=(48,48,1), scalar_type=numpy.float32): # tf.uint8\n",
    "        assert all(is_counting(length) for length in shape)\n",
    "        # width, height, channel = shape\n",
    "        instance = super().__new__(cls)\n",
    "        instance.__dict__['shape'] = shape\n",
    "        instance.__dict__['scalar_type'] = scalar_type\n",
    "        return instance\n",
    "                \n",
    "    # def __new__(cls, shape=(48,48,1), scalar_type=numpy.float32): # tf.uint8\n",
    "    #     pass\n",
    "\n",
    "    def __setattr__(the_data, key, _value):\n",
    "        raise Exception(f\"Cannot modify attribute '{key}' of an immutable class {the_data = }\")\n",
    "    def __str__(the_dense_data):\n",
    "        return f\"input data of shape {the_dense_data.shape}\"\n",
    "    def __repr__(the_dense_data):\n",
    "        return the_dense_data.__str__()\n",
    "    # def __hash__(the_dense_data):\n",
    "    #     return hash(the_dense_data.__name__)\n",
    "\n",
    "    def layer(the_data):\n",
    "        return keras.layers.Input(\n",
    "            shape=the_data.shape,\n",
    "            dtype=the_data.scalar_type,\n",
    "        )\n",
    "\n",
    "def test():\n",
    "    input_data = InputData((48,48,1))\n",
    "    print(f\"{input_data = }\")    \n",
    "test()"
   ]
  },
  {
   "cell_type": "code",
   "execution_count": 36,
   "id": "d43a0730-0fa4-4a36-aa29-a0714ced784d",
   "metadata": {},
   "outputs": [],
   "source": [
    "import keras\n",
    "class ConvolutionData():\n",
    "\n",
    "    def __new__(cls, features=1, kernel_size=(1,1)):\n",
    "        assert is_counting(features)\n",
    "        assert is_counting(kernel_size[0]) and is_counting(kernel_size[1]) and len(kernel_size) == 2\n",
    "        instance = super().__new__(cls)\n",
    "        instance.__dict__['features'] = features\n",
    "        instance.__dict__['kernel_size'] = kernel_size\n",
    "        return instance\n",
    "                \n",
    "    def __init__(the_convolution_data, features=1, kernel_size=(1,1)):\n",
    "        pass\n",
    "\n",
    "    def augmented_features(the_convolution_data):\n",
    "        new_features = the_convolution_data.features+1\n",
    "        return ConvolutionData(new_features, the_convolution_data.kernel_size)\n",
    "\n",
    "    def unaugmented_features(the_convolution_data):\n",
    "        new_features = max(1,the_convolution_data.features-1)\n",
    "        return ConvolutionData(new_features, the_convolution_data.kernel_size)\n",
    "\n",
    "    def widened_kernel(the_convolution_data):\n",
    "        width, height = the_convolution_data.kernel_size\n",
    "        return ConvolutionData(\n",
    "            the_convolution_data.features, \n",
    "            (width+1,height),\n",
    "        )\n",
    "        \n",
    "    def unwidened_kernel(the_convolution_data):\n",
    "        width, height = the_convolution_data.kernel_size\n",
    "        return ConvolutionData(\n",
    "            the_convolution_data.features, \n",
    "            (max(1,width-1),height),\n",
    "        )\n",
    "        \n",
    "    def heightened_kernel(the_convolution_data):\n",
    "        width, height = the_convolution_data.kernel_size\n",
    "        return ConvolutionData(\n",
    "            the_convolution_data.features,\n",
    "            (width,height+1),\n",
    "        )\n",
    "    def unheightened_kernel(the_convolution_data):\n",
    "        width, height = the_convolution_data.kernel_size\n",
    "        return ConvolutionData(\n",
    "            the_convolution_data.features,\n",
    "            (width,max(1,height-1)),\n",
    "        )\n",
    "        \n",
    "    def __setattr__(the_data, key, _value):\n",
    "        raise Exception(f\"Cannot modify attribute '{key}' of an immutable class {the_data = }\")\n",
    "    def __str__(the_convolution_data):\n",
    "        return f\"convolution data of {the_convolution_data.kernel_size} kernel with {the_convolution_data.features} features\"\n",
    "    def __repr__(the_convolution_data):\n",
    "        return the_convolution_data.__str__()\n",
    "    # def __hash__(the_convolution_data):\n",
    "    #     return hash(the_convolution_data.__name__)\n",
    "    def layer(the_data):\n",
    "        return keras.layers.Conv2D(\n",
    "                filters=the_data.features,\n",
    "                kernel_size=the_data.kernel_size,\n",
    "                padding='valid',\n",
    "                activation='relu',\n",
    "            )\n"
   ]
  },
  {
   "cell_type": "code",
   "execution_count": 37,
   "id": "167451d4-0441-4039-a786-51988bf1edb0",
   "metadata": {},
   "outputs": [
    {
     "name": "stdout",
     "output_type": "stream",
     "text": [
      "convolution data of (1, 1) kernel with 3 features\n"
     ]
    }
   ],
   "source": [
    "def test():\n",
    "    cd = ConvolutionData(features=3, kernel_size=(1,1))\n",
    "    print(cd)\n",
    "    cd.heightened_kernel()\n",
    "test()"
   ]
  },
  {
   "cell_type": "code",
   "execution_count": 38,
   "id": "627330ce-658d-422f-86d5-2393d14fd440",
   "metadata": {},
   "outputs": [],
   "source": [
    "import keras\n",
    "class FlattenData():\n",
    "    def __new__(cls):\n",
    "        instance = super().__new__(cls)\n",
    "        return instance                \n",
    "    def __init__(cls):\n",
    "        pass\n",
    "    def __setattr__(the_data, key, _value):\n",
    "        raise Exception(f\"Cannot modify attribute '{key}' of an immutable class {the_data = }\")\n",
    "    def __str__(the_dense_data):\n",
    "        return f\"flatten data\"\n",
    "    def __repr__(the_dense_data):\n",
    "        return the_dense_data.__str__()\n",
    "    def layer(the_data):\n",
    "        return keras.layers.Flatten()"
   ]
  },
  {
   "cell_type": "code",
   "execution_count": 39,
   "id": "afa7740a-a0e3-4548-b02e-186aeee815e1",
   "metadata": {},
   "outputs": [],
   "source": [
    "def test():\n",
    "    FlattenData()\n",
    "test()"
   ]
  },
  {
   "cell_type": "code",
   "execution_count": 40,
   "id": "0171ef6b-3a6f-4066-a123-251e33a7064b",
   "metadata": {},
   "outputs": [],
   "source": [
    "import keras\n",
    "class OutputData():\n",
    "    def __new__(cls, units=7, activation='softmax'):\n",
    "        assert is_counting(units)\n",
    "        instance = super().__new__(cls)\n",
    "        instance.__dict__['units'] = units\n",
    "        instance.__dict__['activation'] = activation\n",
    "        return instance\n",
    "    # def __new__(cls, units=7, activation='softmax'):\n",
    "        # pass\n",
    "    def __setattr__(the_data, key, _value):\n",
    "        raise Exception(f\"Cannot modify attribute '{key}' of an immutable class {the_data = }\")\n",
    "    def __str__(the_output_data):\n",
    "        return f\"{the_output_data.units} categorical outputs data\"\n",
    "    def __repr__(the_output_data):\n",
    "        return the_output_data.__str__()\n",
    "    def layer(the_output_data):\n",
    "        def inducted_flatten_and_dense_layer_together_waiting_for_parent_layer(parent_layer):\n",
    "            return keras.layers.Dense(\n",
    "                units=the_output_data.units,\n",
    "                activation=the_output_data.activation,\n",
    "            )(\n",
    "                keras.layers.Flatten()(parent_layer)\n",
    "            )\n",
    "        return inducted_flatten_and_dense_layer_together_waiting_for_parent_layer"
   ]
  },
  {
   "cell_type": "code",
   "execution_count": 41,
   "id": "a4f3d8d5-619b-4412-bcb4-92743cce9f5e",
   "metadata": {},
   "outputs": [
    {
     "name": "stdout",
     "output_type": "stream",
     "text": [
      "7 categorical outputs data\n"
     ]
    }
   ],
   "source": [
    "def test():\n",
    "    print(\n",
    "        OutputData()\n",
    "    )\n",
    "test()"
   ]
  },
  {
   "cell_type": "code",
   "execution_count": 42,
   "id": "38f92298-b7d6-4c97-a622-7dad21adea83",
   "metadata": {},
   "outputs": [
    {
     "name": "stdout",
     "output_type": "stream",
     "text": [
      "<KerasTensor shape=(None, 7), dtype=float32, sparse=False, name=keras_tensor_9>\n"
     ]
    }
   ],
   "source": [
    "def test():\n",
    "    keras.layers.Dense(\n",
    "        units=3,\n",
    "    )(\n",
    "        keras.layers.Flatten()\n",
    "        (\n",
    "            keras.layers.Conv2D(\n",
    "                filters=(4),\n",
    "                kernel_size=(2,3),\n",
    "                padding='valid',\n",
    "                activation='relu',\n",
    "            )(\n",
    "                keras.layers.Input(\n",
    "                    shape=(2,3,4),\n",
    "                    dtype=float,\n",
    "    ))))\n",
    "test()\n",
    "def test():\n",
    "    keras.layers.Dense(\n",
    "        units=3,\n",
    "    )(\n",
    "        keras.layers.Flatten()\n",
    "        (\n",
    "            keras.layers.Input(\n",
    "                shape=(2,3,4),\n",
    "                dtype=float,\n",
    "    )))\n",
    "test()\n",
    "def test():\n",
    "    ip_data = InputData()\n",
    "    op_data = OutputData()\n",
    "    ip_layer = ip_data.layer()\n",
    "    op_layer = op_data.layer()\n",
    "    res = op_layer(ip_layer)\n",
    "    print(res)\n",
    "test()"
   ]
  },
  {
   "cell_type": "markdown",
   "id": "192fe502-e25d-4983-8d4d-e6ae3c07f7b5",
   "metadata": {},
   "source": [
    "# Dense layer data\n",
    "- mainly to \"output categorical outputs\""
   ]
  },
  {
   "cell_type": "code",
   "execution_count": 43,
   "id": "cf374183-b821-415d-b470-c17498a1adb5",
   "metadata": {},
   "outputs": [],
   "source": [
    "import keras\n",
    "class DenseData():\n",
    "\n",
    "    def __new__(cls, units=7, activation='softmax'):\n",
    "        assert is_counting(units)\n",
    "        instance = super().__new__(cls)\n",
    "        instance.__dict__['units'] = units\n",
    "        instance.__dict__['activation'] = activation\n",
    "        return instance\n",
    "                \n",
    "    def __init__(cls, units):\n",
    "        pass\n",
    "\n",
    "    def augment_units(the_dense_data):\n",
    "        return DenseData(the_dense_data.units+1)\n",
    "        \n",
    "    def __setattr__(the_data, key, _value):\n",
    "        raise Exception(f\"Cannot modify attribute '{key}' of an immutable class {the_data = }\")\n",
    "    def __str__(the_dense_data):\n",
    "        return f\"dense data of {the_dense_data.units} units\"\n",
    "    def __repr__(the_dense_data):\n",
    "        return the_dense_data.__str__()\n",
    "    # def __hash__(the_dense_data):\n",
    "    #     return hash(the_dense_data.__name__)\n",
    "    def layer(the_data): \n",
    "    # create a keras layer that is :\n",
    "        # yet only a simple defninition, \n",
    "        # not yet aware of / refined by any inputers\n",
    "        return keras.layers.Dense(\n",
    "                units=the_data.units,\n",
    "                activation=the_data.activation,\n",
    "            )"
   ]
  },
  {
   "cell_type": "code",
   "execution_count": 44,
   "id": "2915c1be-aeaf-4a25-bdf3-5257d571aa1f",
   "metadata": {
    "scrolled": true
   },
   "outputs": [
    {
     "name": "stdout",
     "output_type": "stream",
     "text": [
      "dense data of 34 units\n",
      "<Dense name=dense_3, built=False>\n"
     ]
    }
   ],
   "source": [
    "def test():\n",
    "    d = DenseData(units=34)\n",
    "    print(d)\n",
    "    ld = d.layer()\n",
    "    print(ld)\n",
    "test()"
   ]
  },
  {
   "cell_type": "markdown",
   "id": "ea34f72b-aa3f-41c9-8013-d211ceb50065",
   "metadata": {},
   "source": [
    "# data promoted as node/graph thing"
   ]
  },
  {
   "cell_type": "code",
   "execution_count": 46,
   "id": "48fe9049-8410-4f56-b65a-bfc1a944739f",
   "metadata": {},
   "outputs": [],
   "source": [
    "class DataNode:\n",
    "\n",
    "    def __init__(\n",
    "        the_node,\n",
    "        data,\n",
    "        parents='default',\n",
    "        children='default',\n",
    "    ):\n",
    "        if parents == 'default':\n",
    "            parents = set()\n",
    "        if children == 'default':\n",
    "            children = set()\n",
    "        if parents is not None:\n",
    "            assert isinstance(parents,set) and (0 <= len(parents) <= 1)\n",
    "        if children is not None:\n",
    "            assert isinstance(children,set) and 0 <= len(children)\n",
    "        the_node.data = data\n",
    "        the_node.parents = parents\n",
    "        the_node.children = children\n",
    "        the_node.inducted_layer = None\n",
    "\n",
    "    def add_parent(the_node, new_parent):\n",
    "        assert the_node.parents is not None, the_node.inspect()\n",
    "        the_node.parents.add(new_parent)\n",
    "        new_parent.children.add(the_node)\n",
    "        assert new_parent in the_node.parents\n",
    "        assert the_node in new_parent.children\n",
    "        return the_node\n",
    "\n",
    "    def remove_parent(the_node, former_parent):\n",
    "        assert the_node.parents, the_node.inspect()\n",
    "        assert former_parent in the_node.parents, the_node.inspect()\n",
    "        the_node.parents.remove(former_parent)\n",
    "        former_parent.children.remove(the_node)\n",
    "        return the_node\n",
    "\n",
    "    def swap_parent(the_node, former_parent_and_new_parent ):\n",
    "        former_parent, new_parent = former_parent_and_new_parent\n",
    "        assert the_node.parents, the_node.inspect()\n",
    "        the_node.remove_parent(former_parent)\n",
    "        the_node.add_parent(new_parent)\n",
    "        assert former_parent not in the_node.parents\n",
    "        assert the_node not in former_parent.children\n",
    "        assert new_parent in the_node.parents\n",
    "        assert the_node in new_parent.children\n",
    "        return the_node\n",
    "\n",
    "    def intercalate(the_node, new_parent_and_new_child):\n",
    "        new_parent, new_child = new_parent_and_new_child\n",
    "        assert new_child in new_parent.children\n",
    "        assert the_node.is_displaced(), the_node.inspect()\n",
    "        assert new_child in new_parent.children and new_parent in new_child.parents, the_node.inspect()\n",
    "        new_child.swap_parent( (new_parent, the_node) )\n",
    "        the_node.add_parent(new_parent)\n",
    "        assert new_child in the_node.children\n",
    "        assert the_node in new_parent.children\n",
    "        return the_node\n",
    "\n",
    "    def substitute(the_node, substituee_node):\n",
    "        for child in substituee_node.children:\n",
    "            child.parents.remove(substituee_node)\n",
    "            child.parents.add(the_node)\n",
    "        for parent in substituee_node.parents:\n",
    "            parent.children.remove(substituee_node)\n",
    "            parent.children.add(the_node)\n",
    "        the_node.parents, substituee_node.parents = substituee_node.parents, the_node.children\n",
    "        the_node.children, substituee_node.children = substituee_node.children, the_node.children\n",
    "        return the_node\n",
    "        \n",
    "    def extricate(the_node, former_parent_and_former_child):\n",
    "        former_parent, former_child = former_parent_and_former_child\n",
    "        assert the_node.is_placed(), the_node.inspect()\n",
    "        \n",
    "        #remove connection between parent and node\n",
    "        former_parent.children.remove(the_node)\n",
    "        the_node.parents.remove(former_parent)\n",
    "        #remove connection between node and child\n",
    "        the_node.children.remove(former_child)\n",
    "        former_child.parents.remove(the_node)\n",
    "        # create new connection between former parent and former child\n",
    "        former_parent.children.add(former_child)\n",
    "        former_child.parents.add(former_parent)\n",
    "        \n",
    "        # former_child.swap_parent(former_parent_and_new_parent=(the_node, former_parent))\n",
    "        assert the_node not in former_parent.children\n",
    "        assert former_child not in the_node.children\n",
    "        return the_node\n",
    "        \n",
    "    def displace(the_node):\n",
    "        assert the_node.is_placed(), the_node.inspect()\n",
    "        former_children = the_node.children\n",
    "        former_parents = the_node.parents\n",
    "        for former_parent in former_parents:    \n",
    "            for former_child in former_children:\n",
    "                the_node.extricate((former_parent , former_child))\n",
    "        return the_node\n",
    "        \n",
    "    def is_placed(the_node):\n",
    "        return the_node.parents and the_node.children\n",
    "\n",
    "    def is_displaced(the_node):\n",
    "        return not the_node.is_placed()\n",
    "    \n",
    "    def annilate(the_node):\n",
    "        assert the_node.is_displaced(), the_node.inspect()\n",
    "        del the_node\n",
    "\n",
    "    def walk_down(the_node):\n",
    "        yield the_node\n",
    "        if the_node.children:\n",
    "            for child in the_node.children:\n",
    "                yield from child.walk_down()\n",
    "\n",
    "    def walk_up(the_node):\n",
    "        yield the_node\n",
    "        if the_node.parents:\n",
    "            for parent in the_node.parents:\n",
    "                yield from parent.walk_up()\n",
    "        \n",
    "    def inspect(the_node):\n",
    "        return f\"{the_node = }{the_node.parents = } {the_node.children = }\"\n",
    "\n",
    "    def lineage(the_node, last_nodes=set(), excludee_nodes=set()):\n",
    "        lineage = set()\n",
    "        to_dos = set()\n",
    "        looping_node = the_node\n",
    "        # counter = 0\n",
    "        if not isinstance(last_nodes,set):\n",
    "            last_nodes=set([last_nodes])\n",
    "        if not isinstance(excludee_nodes,set):\n",
    "            excludee_nodes=set([excludee_nodes])\n",
    "        while True:\n",
    "            children_to_check = looping_node.children - excludee_nodes if looping_node.children else set()\n",
    "            if children_to_check and looping_node not in last_nodes:\n",
    "                for child in looping_node.children - excludee_nodes: #add all children to todo list\n",
    "                    if child not in excludee_nodes:\n",
    "                        lineage.add(child)\n",
    "                        to_dos.add(child)\n",
    "            if to_dos:\n",
    "                looping_node = to_dos.pop() ## next in the list\n",
    "            if not to_dos and not children_to_check: # we are done\n",
    "                assert(not the_node in lineage)\n",
    "                return lineage\n",
    "\n",
    "    def ancestors(the_node, last_nodes=None, excludee_nodes=set()):\n",
    "        ancestors = set()\n",
    "        to_dos = set()\n",
    "        looping_node = the_node\n",
    "        if not isinstance(last_nodes,set):\n",
    "            last_nodes=set([last_nodes])\n",
    "        if not isinstance(excludee_nodes,set):\n",
    "            excludee_nodes=set([excludee_nodes])\n",
    "        while True:\n",
    "            parents_to_check = looping_node.parents - excludee_nodes if looping_node.parents else set()\n",
    "            if parents_to_check and looping_node not in last_nodes:\n",
    "                for parent in looping_node.parents - excludee_nodes: #add all parents to todo list\n",
    "                    if parent not in excludee_nodes:\n",
    "                        ancestors.add(parent)\n",
    "                        to_dos.add(parent)\n",
    "            if to_dos:\n",
    "                looping_node = to_dos.pop() ## next in the list\n",
    "            if not to_dos and not parents_to_check: # we are done\n",
    "                assert(not the_node in ancestors)\n",
    "                return ancestors\n",
    "                \n",
    "    def children_edges(the_node):\n",
    "        if the_node.children:\n",
    "            return list(\n",
    "                (the_node, child) for child in the_node.children\n",
    "            )\n",
    "        return []\n",
    "    \n",
    "    def __str__(the_node):\n",
    "        return f\"node<{the_node.data}>\"\n",
    "    def __repr__(the_node):\n",
    "        return the_node.__str__()\n",
    "\n",
    "    def echelon(the_node): \n",
    "        # create a keras linked layer (with paramater tensor) recursively \n",
    "        # up to a terminasion input data node with None children\n",
    "        match the_node.parents:\n",
    "            case None:\n",
    "                the_node.inducted_layer =  the_node.data.layer()\n",
    "                return the_node.inducted_layer\n",
    "            case set():\n",
    "                match list(the_node.parents):\n",
    "                    case [parent]:\n",
    "                        the_node.inducted_layer = the_node.data.layer()(parent.echelon())\n",
    "                        return the_node.inducted_layer\n",
    "                    case [*parents]:\n",
    "                        the_node.inducted_layer = the_node.data.layer()([parent.echelon() for parent in parents])\n",
    "                        return the_node.inducted_layer\n",
    "                    case _:\n",
    "                        raise Exception(f\"{the_node.inspect() = }\")\n",
    "            case _:\n",
    "                raise Exception(f\"{the_node.inspect() = }\")\n"
   ]
  },
  {
   "cell_type": "code",
   "execution_count": 47,
   "id": "07fca208-25b1-4aaa-a76f-6db8ac6678fd",
   "metadata": {},
   "outputs": [
    {
     "name": "stdout",
     "output_type": "stream",
     "text": [
      "op_data_node = node<7 categorical outputs data>\n",
      "op_data_node = node<7 categorical outputs data>\n",
      "(node<input data of shape (48, 48, 1)>, node<7 categorical outputs data>)\n"
     ]
    }
   ],
   "source": [
    "def minimal_image_classification_data_graph(input_shape, number_of_labels):\n",
    "    ip_data_node = DataNode(\n",
    "        data=InputData(shape=input_shape,scalar_type=numpy.float32),\n",
    "        parents=None,\n",
    "    )\n",
    "\n",
    "    op_data_node = DataNode(\n",
    "        data=OutputData(units=number_of_labels, activation='softmax'),\n",
    "        children=None,\n",
    "    )\n",
    "    print(f\"{op_data_node = }\")\n",
    "    op_data_node.add_parent(ip_data_node)\n",
    "    print(f\"{op_data_node = }\")\n",
    "    return ip_data_node, op_data_node\n",
    "\n",
    "def minimal_fer_data_graph():\n",
    "    return minimal_image_classification_data_graph(input_shape=(48,48,1),number_of_labels=7)\n",
    "\n",
    "print(minimal_fer_data_graph())"
   ]
  },
  {
   "cell_type": "code",
   "execution_count": 48,
   "id": "bdbfcf72-6f9a-4c34-a8b5-087fc60a296a",
   "metadata": {},
   "outputs": [
    {
     "name": "stdout",
     "output_type": "stream",
     "text": [
      "\n"
     ]
    }
   ],
   "source": [
    "def test():\n",
    "    ip_data_node = DataNode(\n",
    "        data=InputData(),\n",
    "        parents=None,\n",
    "    )\n",
    "    op_data_node = DataNode(\n",
    "        data=OutputData(),\n",
    "        children=None,\n",
    "    )\n",
    "    op_data_node.add_parent(ip_data_node)\n",
    "    op_data_node.echelon()\n",
    "    print()\n",
    "test()"
   ]
  },
  {
   "cell_type": "code",
   "execution_count": 49,
   "id": "5816d0b2-cb2a-429b-9a82-217af8f8b3a1",
   "metadata": {},
   "outputs": [
    {
     "data": {
      "text/html": [
       "<pre style=\"white-space:pre;overflow-x:auto;line-height:normal;font-family:Menlo,'DejaVu Sans Mono',consolas,'Courier New',monospace\"><span style=\"font-weight: bold\">Model: \"functional\"</span>\n",
       "</pre>\n"
      ],
      "text/plain": [
       "\u001b[1mModel: \"functional\"\u001b[0m\n"
      ]
     },
     "metadata": {},
     "output_type": "display_data"
    },
    {
     "data": {
      "text/html": [
       "<pre style=\"white-space:pre;overflow-x:auto;line-height:normal;font-family:Menlo,'DejaVu Sans Mono',consolas,'Courier New',monospace\">┏━━━━━━━━━━━━━━━━━━━━━━━━━━━━━━━━━┳━━━━━━━━━━━━━━━━━━━━━━━━┳━━━━━━━━━━━━━━━┓\n",
       "┃<span style=\"font-weight: bold\"> Layer (type)                    </span>┃<span style=\"font-weight: bold\"> Output Shape           </span>┃<span style=\"font-weight: bold\">       Param # </span>┃\n",
       "┡━━━━━━━━━━━━━━━━━━━━━━━━━━━━━━━━━╇━━━━━━━━━━━━━━━━━━━━━━━━╇━━━━━━━━━━━━━━━┩\n",
       "│ input_layer_4 (<span style=\"color: #0087ff; text-decoration-color: #0087ff\">InputLayer</span>)      │ (<span style=\"color: #00d7ff; text-decoration-color: #00d7ff\">None</span>, <span style=\"color: #00af00; text-decoration-color: #00af00\">48</span>, <span style=\"color: #00af00; text-decoration-color: #00af00\">48</span>, <span style=\"color: #00af00; text-decoration-color: #00af00\">1</span>)      │             <span style=\"color: #00af00; text-decoration-color: #00af00\">0</span> │\n",
       "├─────────────────────────────────┼────────────────────────┼───────────────┤\n",
       "│ flatten_4 (<span style=\"color: #0087ff; text-decoration-color: #0087ff\">Flatten</span>)             │ (<span style=\"color: #00d7ff; text-decoration-color: #00d7ff\">None</span>, <span style=\"color: #00af00; text-decoration-color: #00af00\">2304</span>)           │             <span style=\"color: #00af00; text-decoration-color: #00af00\">0</span> │\n",
       "├─────────────────────────────────┼────────────────────────┼───────────────┤\n",
       "│ dense_5 (<span style=\"color: #0087ff; text-decoration-color: #0087ff\">Dense</span>)                 │ (<span style=\"color: #00d7ff; text-decoration-color: #00d7ff\">None</span>, <span style=\"color: #00af00; text-decoration-color: #00af00\">7</span>)              │        <span style=\"color: #00af00; text-decoration-color: #00af00\">16,135</span> │\n",
       "└─────────────────────────────────┴────────────────────────┴───────────────┘\n",
       "</pre>\n"
      ],
      "text/plain": [
       "┏━━━━━━━━━━━━━━━━━━━━━━━━━━━━━━━━━┳━━━━━━━━━━━━━━━━━━━━━━━━┳━━━━━━━━━━━━━━━┓\n",
       "┃\u001b[1m \u001b[0m\u001b[1mLayer (type)                   \u001b[0m\u001b[1m \u001b[0m┃\u001b[1m \u001b[0m\u001b[1mOutput Shape          \u001b[0m\u001b[1m \u001b[0m┃\u001b[1m \u001b[0m\u001b[1m      Param #\u001b[0m\u001b[1m \u001b[0m┃\n",
       "┡━━━━━━━━━━━━━━━━━━━━━━━━━━━━━━━━━╇━━━━━━━━━━━━━━━━━━━━━━━━╇━━━━━━━━━━━━━━━┩\n",
       "│ input_layer_4 (\u001b[38;5;33mInputLayer\u001b[0m)      │ (\u001b[38;5;45mNone\u001b[0m, \u001b[38;5;34m48\u001b[0m, \u001b[38;5;34m48\u001b[0m, \u001b[38;5;34m1\u001b[0m)      │             \u001b[38;5;34m0\u001b[0m │\n",
       "├─────────────────────────────────┼────────────────────────┼───────────────┤\n",
       "│ flatten_4 (\u001b[38;5;33mFlatten\u001b[0m)             │ (\u001b[38;5;45mNone\u001b[0m, \u001b[38;5;34m2304\u001b[0m)           │             \u001b[38;5;34m0\u001b[0m │\n",
       "├─────────────────────────────────┼────────────────────────┼───────────────┤\n",
       "│ dense_5 (\u001b[38;5;33mDense\u001b[0m)                 │ (\u001b[38;5;45mNone\u001b[0m, \u001b[38;5;34m7\u001b[0m)              │        \u001b[38;5;34m16,135\u001b[0m │\n",
       "└─────────────────────────────────┴────────────────────────┴───────────────┘\n"
      ]
     },
     "metadata": {},
     "output_type": "display_data"
    },
    {
     "data": {
      "text/html": [
       "<pre style=\"white-space:pre;overflow-x:auto;line-height:normal;font-family:Menlo,'DejaVu Sans Mono',consolas,'Courier New',monospace\"><span style=\"font-weight: bold\"> Total params: </span><span style=\"color: #00af00; text-decoration-color: #00af00\">16,135</span> (63.03 KB)\n",
       "</pre>\n"
      ],
      "text/plain": [
       "\u001b[1m Total params: \u001b[0m\u001b[38;5;34m16,135\u001b[0m (63.03 KB)\n"
      ]
     },
     "metadata": {},
     "output_type": "display_data"
    },
    {
     "data": {
      "text/html": [
       "<pre style=\"white-space:pre;overflow-x:auto;line-height:normal;font-family:Menlo,'DejaVu Sans Mono',consolas,'Courier New',monospace\"><span style=\"font-weight: bold\"> Trainable params: </span><span style=\"color: #00af00; text-decoration-color: #00af00\">16,135</span> (63.03 KB)\n",
       "</pre>\n"
      ],
      "text/plain": [
       "\u001b[1m Trainable params: \u001b[0m\u001b[38;5;34m16,135\u001b[0m (63.03 KB)\n"
      ]
     },
     "metadata": {},
     "output_type": "display_data"
    },
    {
     "data": {
      "text/html": [
       "<pre style=\"white-space:pre;overflow-x:auto;line-height:normal;font-family:Menlo,'DejaVu Sans Mono',consolas,'Courier New',monospace\"><span style=\"font-weight: bold\"> Non-trainable params: </span><span style=\"color: #00af00; text-decoration-color: #00af00\">0</span> (0.00 B)\n",
       "</pre>\n"
      ],
      "text/plain": [
       "\u001b[1m Non-trainable params: \u001b[0m\u001b[38;5;34m0\u001b[0m (0.00 B)\n"
      ]
     },
     "metadata": {},
     "output_type": "display_data"
    }
   ],
   "source": [
    "def test():\n",
    "    input_data_node = DataNode(\n",
    "        data=InputData(),\n",
    "        parents=None,\n",
    "    )\n",
    "    flatten_data_node = DataNode(\n",
    "        data=FlattenData(),\n",
    "    )\n",
    "    output_data_node = DataNode(\n",
    "        data=DenseData(units=7),\n",
    "        children=None,\n",
    "    )\n",
    "    flatten_data_node.add_parent(input_data_node)\n",
    "    output_data_node.add_parent(flatten_data_node)\n",
    "\n",
    "    output_data_node.echelon()\n",
    "\n",
    "    model = keras.Model(inputs=input_data_node.inducted_layer, outputs=output_data_node.inducted_layer)\n",
    "\n",
    "    model.summary()\n",
    "\n",
    "test()\n"
   ]
  },
  {
   "cell_type": "code",
   "execution_count": 50,
   "id": "a2d0c4b3-b176-4c39-86f5-b655947c6d33",
   "metadata": {},
   "outputs": [],
   "source": [
    "def graph_edges_from_top_node(top_node):\n",
    "    return list(\n",
    "        edge \n",
    "        for a_node in top_node.walk_down() \n",
    "        for edge in a_node.children_edges()\n",
    "    )    \n",
    "\n",
    "import networkx\n",
    "from matplotlib import pyplot\n",
    "\n",
    "def draw_edges(edges):\n",
    "    graph = networkx.DiGraph()\n",
    "    graph.add_edges_from(edges)\n",
    "    graph.nodes()\n",
    "    networkx.draw(graph,with_labels=True)\n",
    "\n",
    "def draw_from_top_data_node(top_node):\n",
    "    return draw_edges(graph_edges_from_top_node(top_node))"
   ]
  },
  {
   "cell_type": "code",
   "execution_count": 51,
   "id": "5fa96d7b-9f40-46ea-9d64-0a00067b5b53",
   "metadata": {},
   "outputs": [
    {
     "name": "stdout",
     "output_type": "stream",
     "text": [
      "\n",
      "walk up\n",
      "node = node<dense data of 7 units>\n",
      "node = node<convolution data of (3, 2) kernel with 4 features>\n",
      "node = node<input data of shape (48, 48, 1)>\n",
      "\n",
      "walk down\n",
      "node = node<input data of shape (48, 48, 1)>\n",
      "\tnode.children = {node<convolution data of (3, 2) kernel with 4 features>}\n",
      "node = node<convolution data of (3, 2) kernel with 4 features>\n",
      "\tnode.children = {node<dense data of 7 units>}\n",
      "node = node<dense data of 7 units>\n",
      "\tnode.children = None\n",
      "output_data_node.ancestors() = {node<convolution data of (3, 2) kernel with 4 features>, node<input data of shape (48, 48, 1)>}\n",
      "output_data_node.ancestors(input_data_node) = {node<convolution data of (3, 2) kernel with 4 features>, node<input data of shape (48, 48, 1)>}\n",
      "input_data_node.lineage() = {node<convolution data of (3, 2) kernel with 4 features>, node<dense data of 7 units>}\n",
      "input_data_node.lineage(output_data_node) = {node<convolution data of (3, 2) kernel with 4 features>, node<dense data of 7 units>}\n",
      "input_data_node.lineage(output_data_node, excludee_nodes={output_data_node}) = {node<convolution data of (3, 2) kernel with 4 features>}\n",
      "graph_edges_from_top_node(input_data_node) = [(node<input data of shape (48, 48, 1)>, node<convolution data of (3, 2) kernel with 4 features>), (node<convolution data of (3, 2) kernel with 4 features>, node<dense data of 7 units>)]\n",
      "input_data_node.data.layer() = <KerasTensor shape=(None, 48, 48, 1), dtype=float32, sparse=False, name=keras_tensor_16>\n"
     ]
    },
    {
     "data": {
      "image/png": "[encoded data removed]",
      "text/plain": [
       "<Figure size 640x480 with 1 Axes>"
      ]
     },
     "metadata": {},
     "output_type": "display_data"
    }
   ],
   "source": [
    "def test():\n",
    "    input_data_node = DataNode(\n",
    "        data=InputData(),\n",
    "        parents=None,\n",
    "        # children=set(),\n",
    "    )\n",
    "    convolution_data_node = None\n",
    "    convolution_data_node = DataNode(\n",
    "        data=ConvolutionData(kernel_size=(3,2), features=4),\n",
    "        # children=set(),\n",
    "    )\n",
    "    # convolution_data_node.children = set()\n",
    "    \n",
    "    output_data_node = DataNode(\n",
    "        data=DenseData(7),\n",
    "        children=None,\n",
    "    )\n",
    "    # print(f\"\\n1) {convolution_data_node.children = }\")\n",
    "    convolution_data_node.add_parent(input_data_node)\n",
    "    output_data_node.add_parent(convolution_data_node)\n",
    "\n",
    "\n",
    "    print(\"\\nwalk up\")\n",
    "    for node in output_data_node.walk_up():\n",
    "        print(f\"{node = }\")\n",
    "    \n",
    "    input_data_node.children\n",
    "    \n",
    "    print(\"\\nwalk down\")\n",
    "    for node in input_data_node.walk_down():\n",
    "        print(f\"{node = }\")\n",
    "        print(f\"\\t{node.children = }\")\n",
    "    \n",
    "    del convolution_data_node\n",
    "\n",
    "    print(f\"{output_data_node.ancestors() = }\")    \n",
    "    \n",
    "    print(f\"{output_data_node.ancestors(input_data_node) = }\")\n",
    "    \n",
    "    print(f\"{input_data_node.lineage() = }\")\n",
    "    \n",
    "    print(f\"{input_data_node.lineage(output_data_node) = }\")\n",
    "\n",
    "    print(f\"{input_data_node.lineage(output_data_node, excludee_nodes={output_data_node}) = }\")\n",
    "\n",
    "    print(f\"{graph_edges_from_top_node(input_data_node) = }\")\n",
    "    \n",
    "    draw_from_top_data_node(input_data_node)\n",
    "\n",
    "    print(f\"{input_data_node.data.layer() = }\")\n",
    "    output_data_node.echelon()\n",
    "\n",
    "test()\n"
   ]
  },
  {
   "cell_type": "markdown",
   "id": "65ea9608-4e49-4560-be06-e7b5f60caa14",
   "metadata": {},
   "source": [
    "### additive operations"
   ]
  },
  {
   "cell_type": "code",
   "execution_count": 57,
   "id": "0df20398-5de5-45af-b9f4-e372f85643e6",
   "metadata": {},
   "outputs": [],
   "source": [
    "def generate_reversible_convolution_intercalating_from_parent_node( parent_and_child_data_nodes ):\n",
    "    new_convolution_data_node = DataNode(data=ConvolutionData())\n",
    "    def effect(parent_and_child_data_nodes): \n",
    "        new_convolution_data_node.intercalate( parent_and_child_data_nodes )\n",
    "    def reverse(parent_and_child_data_nodes):\n",
    "        new_convolution_data_node.extricate( parent_and_child_data_nodes )\n",
    "    return effect, reverse"
   ]
  },
  {
   "cell_type": "code",
   "execution_count": 58,
   "id": "4d508e5d-3a6f-4cc9-b4d8-68901799c2cf",
   "metadata": {},
   "outputs": [],
   "source": [
    "import random\n",
    "\n",
    "def get_one_random_parent_data_node_from_graph(top_and_bot_node):\n",
    "    top_node, bot_node = top_and_bot_node\n",
    "    assert top_node.children, f\"top node with no children ? {a_parent}\"\n",
    "    candidate_parent_nodes = top_node.lineage(excludee_nodes={bot_node})\n",
    "    for a_parent in candidate_parent_nodes:\n",
    "        assert a_parent.children is not None, f\"parent with no children ? {a_parent}\"\n",
    "    candidate_parent_nodes.add(top_node)\n",
    "    picked_parent_node = random.choice(list(candidate_parent_nodes))\n",
    "    assert picked_parent_node.children, f\"picked parent node has n children ! {picked_parent_node.inspect()}\"\n",
    "    return picked_parent_node\n",
    "\n",
    "def get_one_random_child_data_node_from_parent_data_node(parent_node):\n",
    "    assert parent_node.children, f\"node has no children {parent_node = }\"\n",
    "    return random.choice(list(parent_node.children))\n",
    "\n",
    "def generate_random_reversible_intercalating_from_graph( top_and_bot_node ):\n",
    "    parent_node = get_one_random_parent_data_node_from_graph(top_and_bot_node)\n",
    "    assert parent_node.children, f\"node has no children {parent_node = }\"\n",
    "    child_node = get_one_random_child_data_node_from_parent_data_node(parent_node)\n",
    "    effect, reverse = generate_reversible_convolution_intercalating_from_parent_node( (parent_node, child_node) )\n",
    "    return  (parent_node, child_node) , effect, reverse "
   ]
  },
  {
   "cell_type": "code",
   "execution_count": 59,
   "id": "5ff9a4be-98c6-49d7-b0b2-a570be647c65",
   "metadata": {},
   "outputs": [
    {
     "data": {
      "image/png": "[encoded data removed]",
      "text/plain": [
       "<Figure size 640x480 with 1 Axes>"
      ]
     },
     "metadata": {},
     "output_type": "display_data"
    }
   ],
   "source": [
    "def test():\n",
    "    input_data_node = DataNode(\n",
    "        data=InputData((48,48,1)),\n",
    "        parents=None,\n",
    "    )\n",
    "    convolution_data_node = None\n",
    "    convolution_data_node = DataNode(\n",
    "        data=ConvolutionData(kernel_size=(3,2), features=4),\n",
    "    )    \n",
    "    output_data_node = DataNode(\n",
    "        data=DenseData(7),\n",
    "        children=None,\n",
    "    )\n",
    "    convolution_data_node.add_parent(input_data_node)\n",
    "    output_data_node.add_parent(convolution_data_node)\n",
    "    \n",
    "    for _ in range(5):\n",
    "        effectee, effect, _reverse = generate_random_reversible_intercalating_from_graph( (input_data_node, output_data_node) )\n",
    "        effect(effectee)\n",
    "\n",
    "    draw_from_top_data_node(input_data_node)\n",
    "\n",
    "test()\n"
   ]
  },
  {
   "cell_type": "markdown",
   "id": "f5cb34fc-fbf0-45cb-8239-d4f1f46740bc",
   "metadata": {},
   "source": [
    "### transformative operations"
   ]
  },
  {
   "cell_type": "code",
   "execution_count": 61,
   "id": "b5c14fb6-3cbd-452a-a5ac-f9141baaf664",
   "metadata": {},
   "outputs": [],
   "source": [
    "def get_all_convolution_data_nodes( top_and_bot_node ):\n",
    "    top_node, bot_node = top_and_bot_node\n",
    "    middle_nodes = top_node.lineage(excludee_nodes={bot_node})\n",
    "    middle_convolution_nodes = list(\n",
    "        middle_node for middle_node in middle_nodes if isinstance(middle_node.data, ConvolutionData)\n",
    "    )\n",
    "    return middle_convolution_nodes\n",
    "    \n",
    "def widen_convolution_data_node_kernel_size(convolution_data_node):\n",
    "    convolution_data_node.data = convolution_data_node.data.widened_kernel()\n",
    "    return convolution_data_node\n",
    "\n",
    "def unwiden_convolution_data_node_kernel_size(convolution_data_node):\n",
    "    convolution_data_node.data = convolution_data_node.data.unwidened_kernel()\n",
    "    return convolution_data_node\n",
    "\n",
    "def heighten_convolution_data_node_kernel_size(convolution_data_node):\n",
    "    convolution_data_node.data = convolution_data_node.data.heightened_kernel()\n",
    "    return convolution_data_node\n",
    "\n",
    "def unheighten_convolution_data_node_kernel_size(convolution_data_node):\n",
    "    convolution_data_node.data = convolution_data_node.data.unheightened_kernel()\n",
    "    return convolution_data_node\n",
    "\n",
    "def augment_convolution_data_node_features(convolution_data_node):\n",
    "    convolution_data_node.data = convolution_data_node.data.augmented_features()\n",
    "    return convolution_data_node\n",
    "    \n",
    "def unaugment_convolution_data_node_features(convolution_data_node):\n",
    "    convolution_data_node.data = convolution_data_node.data.unaugmented_features()\n",
    "    return convolution_data_node"
   ]
  },
  {
   "cell_type": "code",
   "execution_count": 62,
   "id": "94c0f29c-7a87-4a44-ba84-ee1c47470be3",
   "metadata": {},
   "outputs": [],
   "source": [
    "# randomized transformative graph operations\n",
    "import random\n",
    "\n",
    "def get_one_random_convolution_data_node_from_graph(top_and_bot_node):\n",
    "    all_convolution_data_nodes = get_all_convolution_data_nodes(top_and_bot_node)\n",
    "    assert all_convolution_data_nodes, f\"not one conv node in the graph ? {all_convolution_data_nodes = }\"\n",
    "    return random.choice(list(all_convolution_data_nodes))\n",
    "\n",
    "def generate_random_reversible_convolution_kernel_widening_from_graph( top_and_bot_node ):\n",
    "    random_convolution_node = get_one_random_convolution_data_node_from_graph(top_and_bot_node)\n",
    "    return (\n",
    "        random_convolution_node,\n",
    "        widen_convolution_data_node_kernel_size,\n",
    "        unwiden_convolution_data_node_kernel_size,\n",
    "    )\n",
    "def generate_random_reversible_convolution_kernel_heightening_from_graph( top_and_bot_node ):\n",
    "    random_convolution_node = get_one_random_convolution_data_node_from_graph(top_and_bot_node)\n",
    "    return (\n",
    "        random_convolution_node,\n",
    "        heighten_convolution_data_node_kernel_size,\n",
    "        unheighten_convolution_data_node_kernel_size,\n",
    "    )\n",
    "\n",
    "def generate_random_reversible_convolution_feature_augmentation_from_graph( top_and_bot_node ):\n",
    "    random_convolution_node = get_one_random_convolution_data_node_from_graph(top_and_bot_node)\n",
    "    return (\n",
    "        random_convolution_node,\n",
    "        augment_convolution_data_node_features,\n",
    "        unaugment_convolution_data_node_features,\n",
    "    )\n",
    "\n",
    "def generate_random_reversible_convolution_augmentation_from_graph( top_and_bot_node ):\n",
    "    convolution_data_node = get_one_random_convolution_data_node_from_graph(top_and_bot_node)\n",
    "    return random.choice([\n",
    "        generate_random_reversible_convolution_kernel_widening_from_graph,\n",
    "        generate_random_reversible_convolution_kernel_heightening_from_graph,\n",
    "        generate_random_reversible_convolution_feature_augmentation_from_graph,\n",
    "    ])(top_and_bot_node)\n"
   ]
  },
  {
   "cell_type": "code",
   "execution_count": 63,
   "id": "d6403842-0c68-4a85-a677-0e47a9ad0bbf",
   "metadata": {},
   "outputs": [
    {
     "data": {
      "image/png": "[encoded data removed]",
      "text/plain": [
       "<Figure size 640x480 with 1 Axes>"
      ]
     },
     "metadata": {},
     "output_type": "display_data"
    }
   ],
   "source": [
    "def test():\n",
    "    input_data_node = DataNode(\n",
    "        data=InputData((48,48,1)),\n",
    "        parents=None,\n",
    "    )\n",
    "    convolution_data_node = None\n",
    "    convolution_data_node = DataNode(\n",
    "        data=ConvolutionData(kernel_size=(3,2), features=4),\n",
    "    )    \n",
    "    output_data_node = DataNode(\n",
    "        data=DenseData(7),\n",
    "        children=None,\n",
    "    )\n",
    "    convolution_data_node.add_parent(input_data_node)\n",
    "    output_data_node.add_parent(convolution_data_node)\n",
    "    \n",
    "    for _ in range(5):\n",
    "        effectee, effect, _reverse = generate_random_reversible_convolution_augmentation_from_graph( (input_data_node, output_data_node) )\n",
    "        effect(effectee)\n",
    "\n",
    "    draw_from_top_data_node(input_data_node)\n",
    "\n",
    "test()\n"
   ]
  },
  {
   "cell_type": "code",
   "execution_count": 64,
   "id": "a6c88f61-71ca-4b9d-84f1-f524746ccf4d",
   "metadata": {},
   "outputs": [],
   "source": [
    "import random\n",
    "def generate_random_reversible_mutation_from_graph(data_graph):\n",
    "    mutation = random.choices(\n",
    "        [\n",
    "            generate_random_reversible_convolution_augmentation_from_graph,\n",
    "            generate_random_reversible_intercalating_from_graph,\n",
    "        ],\n",
    "        [1,5],\n",
    "        k=1,\n",
    "    )[0]\n",
    "    return mutation(data_graph)"
   ]
  },
  {
   "cell_type": "code",
   "execution_count": 65,
   "id": "cfb1ef14-4d62-4cf5-bb4f-190137cca56d",
   "metadata": {},
   "outputs": [
    {
     "name": "stdout",
     "output_type": "stream",
     "text": [
      "within context a_set = {2, 99}\n",
      "after context a_set = {2}\n"
     ]
    }
   ],
   "source": [
    "class TemporaryMutation:\n",
    "    def __init__(self, effectee, effect, reverse):\n",
    "        self.effectee = effectee \n",
    "        self.effect = effect\n",
    "        self.reverse = reverse\n",
    "\n",
    "    def __enter__(self):\n",
    "        self.effect(self.effectee)\n",
    "        return (\n",
    "            self.effectee, \n",
    "            self.effect,\n",
    "            self.reverse,\n",
    "        )\n",
    "\n",
    "    def __exit__(self, exc_type, exc_value, exc_traceback):\n",
    "        self.reverse(self.effectee)\n",
    "\n",
    "def test():\n",
    "    a_set = {2}\n",
    "    with TemporaryMutation(a_set, lambda s: s.add(99), lambda s: s.remove(99)):\n",
    "        print(f\"within context {a_set = }\")\n",
    "    print(f\"after context {a_set = }\")\n",
    "test()"
   ]
  },
  {
   "cell_type": "code",
   "execution_count": 66,
   "id": "e7654981-c691-4a26-b73f-3695695ddd4f",
   "metadata": {},
   "outputs": [
    {
     "data": {
      "text/html": [
       "<pre style=\"white-space:pre;overflow-x:auto;line-height:normal;font-family:Menlo,'DejaVu Sans Mono',consolas,'Courier New',monospace\"><span style=\"font-weight: bold\">Model: \"functional_1\"</span>\n",
       "</pre>\n"
      ],
      "text/plain": [
       "\u001b[1mModel: \"functional_1\"\u001b[0m\n"
      ]
     },
     "metadata": {},
     "output_type": "display_data"
    },
    {
     "data": {
      "text/html": [
       "<pre style=\"white-space:pre;overflow-x:auto;line-height:normal;font-family:Menlo,'DejaVu Sans Mono',consolas,'Courier New',monospace\">┏━━━━━━━━━━━━━━━━━━━━━━━━━━━━━━━━━┳━━━━━━━━━━━━━━━━━━━━━━━━┳━━━━━━━━━━━━━━━┓\n",
       "┃<span style=\"font-weight: bold\"> Layer (type)                    </span>┃<span style=\"font-weight: bold\"> Output Shape           </span>┃<span style=\"font-weight: bold\">       Param # </span>┃\n",
       "┡━━━━━━━━━━━━━━━━━━━━━━━━━━━━━━━━━╇━━━━━━━━━━━━━━━━━━━━━━━━╇━━━━━━━━━━━━━━━┩\n",
       "│ input_layer_7 (<span style=\"color: #0087ff; text-decoration-color: #0087ff\">InputLayer</span>)      │ (<span style=\"color: #00d7ff; text-decoration-color: #00d7ff\">None</span>, <span style=\"color: #00af00; text-decoration-color: #00af00\">48</span>, <span style=\"color: #00af00; text-decoration-color: #00af00\">48</span>, <span style=\"color: #00af00; text-decoration-color: #00af00\">1</span>)      │             <span style=\"color: #00af00; text-decoration-color: #00af00\">0</span> │\n",
       "├─────────────────────────────────┼────────────────────────┼───────────────┤\n",
       "│ conv2d_2 (<span style=\"color: #0087ff; text-decoration-color: #0087ff\">Conv2D</span>)               │ (<span style=\"color: #00d7ff; text-decoration-color: #00d7ff\">None</span>, <span style=\"color: #00af00; text-decoration-color: #00af00\">48</span>, <span style=\"color: #00af00; text-decoration-color: #00af00\">48</span>, <span style=\"color: #00af00; text-decoration-color: #00af00\">4</span>)      │             <span style=\"color: #00af00; text-decoration-color: #00af00\">8</span> │\n",
       "├─────────────────────────────────┼────────────────────────┼───────────────┤\n",
       "│ dense_7 (<span style=\"color: #0087ff; text-decoration-color: #0087ff\">Dense</span>)                 │ (<span style=\"color: #00d7ff; text-decoration-color: #00d7ff\">None</span>, <span style=\"color: #00af00; text-decoration-color: #00af00\">48</span>, <span style=\"color: #00af00; text-decoration-color: #00af00\">48</span>, <span style=\"color: #00af00; text-decoration-color: #00af00\">7</span>)      │            <span style=\"color: #00af00; text-decoration-color: #00af00\">35</span> │\n",
       "└─────────────────────────────────┴────────────────────────┴───────────────┘\n",
       "</pre>\n"
      ],
      "text/plain": [
       "┏━━━━━━━━━━━━━━━━━━━━━━━━━━━━━━━━━┳━━━━━━━━━━━━━━━━━━━━━━━━┳━━━━━━━━━━━━━━━┓\n",
       "┃\u001b[1m \u001b[0m\u001b[1mLayer (type)                   \u001b[0m\u001b[1m \u001b[0m┃\u001b[1m \u001b[0m\u001b[1mOutput Shape          \u001b[0m\u001b[1m \u001b[0m┃\u001b[1m \u001b[0m\u001b[1m      Param #\u001b[0m\u001b[1m \u001b[0m┃\n",
       "┡━━━━━━━━━━━━━━━━━━━━━━━━━━━━━━━━━╇━━━━━━━━━━━━━━━━━━━━━━━━╇━━━━━━━━━━━━━━━┩\n",
       "│ input_layer_7 (\u001b[38;5;33mInputLayer\u001b[0m)      │ (\u001b[38;5;45mNone\u001b[0m, \u001b[38;5;34m48\u001b[0m, \u001b[38;5;34m48\u001b[0m, \u001b[38;5;34m1\u001b[0m)      │             \u001b[38;5;34m0\u001b[0m │\n",
       "├─────────────────────────────────┼────────────────────────┼───────────────┤\n",
       "│ conv2d_2 (\u001b[38;5;33mConv2D\u001b[0m)               │ (\u001b[38;5;45mNone\u001b[0m, \u001b[38;5;34m48\u001b[0m, \u001b[38;5;34m48\u001b[0m, \u001b[38;5;34m4\u001b[0m)      │             \u001b[38;5;34m8\u001b[0m │\n",
       "├─────────────────────────────────┼────────────────────────┼───────────────┤\n",
       "│ dense_7 (\u001b[38;5;33mDense\u001b[0m)                 │ (\u001b[38;5;45mNone\u001b[0m, \u001b[38;5;34m48\u001b[0m, \u001b[38;5;34m48\u001b[0m, \u001b[38;5;34m7\u001b[0m)      │            \u001b[38;5;34m35\u001b[0m │\n",
       "└─────────────────────────────────┴────────────────────────┴───────────────┘\n"
      ]
     },
     "metadata": {},
     "output_type": "display_data"
    },
    {
     "data": {
      "text/html": [
       "<pre style=\"white-space:pre;overflow-x:auto;line-height:normal;font-family:Menlo,'DejaVu Sans Mono',consolas,'Courier New',monospace\"><span style=\"font-weight: bold\"> Total params: </span><span style=\"color: #00af00; text-decoration-color: #00af00\">43</span> (172.00 B)\n",
       "</pre>\n"
      ],
      "text/plain": [
       "\u001b[1m Total params: \u001b[0m\u001b[38;5;34m43\u001b[0m (172.00 B)\n"
      ]
     },
     "metadata": {},
     "output_type": "display_data"
    },
    {
     "data": {
      "text/html": [
       "<pre style=\"white-space:pre;overflow-x:auto;line-height:normal;font-family:Menlo,'DejaVu Sans Mono',consolas,'Courier New',monospace\"><span style=\"font-weight: bold\"> Trainable params: </span><span style=\"color: #00af00; text-decoration-color: #00af00\">43</span> (172.00 B)\n",
       "</pre>\n"
      ],
      "text/plain": [
       "\u001b[1m Trainable params: \u001b[0m\u001b[38;5;34m43\u001b[0m (172.00 B)\n"
      ]
     },
     "metadata": {},
     "output_type": "display_data"
    },
    {
     "data": {
      "text/html": [
       "<pre style=\"white-space:pre;overflow-x:auto;line-height:normal;font-family:Menlo,'DejaVu Sans Mono',consolas,'Courier New',monospace\"><span style=\"font-weight: bold\"> Non-trainable params: </span><span style=\"color: #00af00; text-decoration-color: #00af00\">0</span> (0.00 B)\n",
       "</pre>\n"
      ],
      "text/plain": [
       "\u001b[1m Non-trainable params: \u001b[0m\u001b[38;5;34m0\u001b[0m (0.00 B)\n"
      ]
     },
     "metadata": {},
     "output_type": "display_data"
    },
    {
     "name": "stdout",
     "output_type": "stream",
     "text": [
      "input_data_node.inducted_layer = <KerasTensor shape=(None, 48, 48, 1), dtype=float32, sparse=False, name=keras_tensor_20>\n",
      "input_data_node.inducted_layer = <KerasTensor shape=(None, 48, 48, 1), dtype=float32, sparse=False, name=keras_tensor_20>\n"
     ]
    },
    {
     "data": {
      "image/png": "[encoded data removed]",
      "text/plain": [
       "<Figure size 640x480 with 1 Axes>"
      ]
     },
     "metadata": {},
     "output_type": "display_data"
    }
   ],
   "source": [
    "def test():\n",
    "    input_data_node = DataNode(\n",
    "        data=InputData((48,48,1)),\n",
    "        parents=None,\n",
    "    )\n",
    "    convolution_data_node = None\n",
    "    convolution_data_node = DataNode(\n",
    "        data=ConvolutionData(kernel_size=(1,1), features=4),\n",
    "    )    \n",
    "    output_data_node = DataNode(\n",
    "        data=DenseData(7),\n",
    "        children=None,\n",
    "    )\n",
    "    convolution_data_node.add_parent(input_data_node)\n",
    "    output_data_node.add_parent(convolution_data_node)\n",
    "\n",
    "    graph = (input_data_node, output_data_node)\n",
    "    draw_from_top_data_node(input_data_node)\n",
    "\n",
    "    output_data_node.echelon()\n",
    "\n",
    "    model = keras.Model(inputs=input_data_node.inducted_layer, outputs=output_data_node.inducted_layer)\n",
    "\n",
    "    model.summary()\n",
    "\n",
    "    print(f\"{input_data_node.inducted_layer = }\")\n",
    "    print(f\"{input_data_node.inducted_layer = }\")\n",
    "\n",
    "test()\n"
   ]
  },
  {
   "cell_type": "code",
   "execution_count": 67,
   "id": "6ebfd1d6-d299-428f-9f6b-1e65e04fe66c",
   "metadata": {},
   "outputs": [
    {
     "data": {
      "text/html": [
       "<pre style=\"white-space:pre;overflow-x:auto;line-height:normal;font-family:Menlo,'DejaVu Sans Mono',consolas,'Courier New',monospace\"><span style=\"font-weight: bold\">Model: \"functional_2\"</span>\n",
       "</pre>\n"
      ],
      "text/plain": [
       "\u001b[1mModel: \"functional_2\"\u001b[0m\n"
      ]
     },
     "metadata": {},
     "output_type": "display_data"
    },
    {
     "data": {
      "text/html": [
       "<pre style=\"white-space:pre;overflow-x:auto;line-height:normal;font-family:Menlo,'DejaVu Sans Mono',consolas,'Courier New',monospace\">┏━━━━━━━━━━━━━━━━━━━━━━━━━━━━━━━━━┳━━━━━━━━━━━━━━━━━━━━━━━━┳━━━━━━━━━━━━━━━┓\n",
       "┃<span style=\"font-weight: bold\"> Layer (type)                    </span>┃<span style=\"font-weight: bold\"> Output Shape           </span>┃<span style=\"font-weight: bold\">       Param # </span>┃\n",
       "┡━━━━━━━━━━━━━━━━━━━━━━━━━━━━━━━━━╇━━━━━━━━━━━━━━━━━━━━━━━━╇━━━━━━━━━━━━━━━┩\n",
       "│ input_layer_8 (<span style=\"color: #0087ff; text-decoration-color: #0087ff\">InputLayer</span>)      │ (<span style=\"color: #00d7ff; text-decoration-color: #00d7ff\">None</span>, <span style=\"color: #00af00; text-decoration-color: #00af00\">48</span>, <span style=\"color: #00af00; text-decoration-color: #00af00\">48</span>, <span style=\"color: #00af00; text-decoration-color: #00af00\">1</span>)      │             <span style=\"color: #00af00; text-decoration-color: #00af00\">0</span> │\n",
       "├─────────────────────────────────┼────────────────────────┼───────────────┤\n",
       "│ conv2d_8 (<span style=\"color: #0087ff; text-decoration-color: #0087ff\">Conv2D</span>)               │ (<span style=\"color: #00d7ff; text-decoration-color: #00d7ff\">None</span>, <span style=\"color: #00af00; text-decoration-color: #00af00\">45</span>, <span style=\"color: #00af00; text-decoration-color: #00af00\">45</span>, <span style=\"color: #00af00; text-decoration-color: #00af00\">5</span>)      │            <span style=\"color: #00af00; text-decoration-color: #00af00\">85</span> │\n",
       "├─────────────────────────────────┼────────────────────────┼───────────────┤\n",
       "│ conv2d_7 (<span style=\"color: #0087ff; text-decoration-color: #0087ff\">Conv2D</span>)               │ (<span style=\"color: #00d7ff; text-decoration-color: #00d7ff\">None</span>, <span style=\"color: #00af00; text-decoration-color: #00af00\">45</span>, <span style=\"color: #00af00; text-decoration-color: #00af00\">44</span>, <span style=\"color: #00af00; text-decoration-color: #00af00\">1</span>)      │            <span style=\"color: #00af00; text-decoration-color: #00af00\">11</span> │\n",
       "├─────────────────────────────────┼────────────────────────┼───────────────┤\n",
       "│ conv2d_6 (<span style=\"color: #0087ff; text-decoration-color: #0087ff\">Conv2D</span>)               │ (<span style=\"color: #00d7ff; text-decoration-color: #00d7ff\">None</span>, <span style=\"color: #00af00; text-decoration-color: #00af00\">43</span>, <span style=\"color: #00af00; text-decoration-color: #00af00\">44</span>, <span style=\"color: #00af00; text-decoration-color: #00af00\">1</span>)      │             <span style=\"color: #00af00; text-decoration-color: #00af00\">4</span> │\n",
       "├─────────────────────────────────┼────────────────────────┼───────────────┤\n",
       "│ conv2d_5 (<span style=\"color: #0087ff; text-decoration-color: #0087ff\">Conv2D</span>)               │ (<span style=\"color: #00d7ff; text-decoration-color: #00d7ff\">None</span>, <span style=\"color: #00af00; text-decoration-color: #00af00\">43</span>, <span style=\"color: #00af00; text-decoration-color: #00af00\">42</span>, <span style=\"color: #00af00; text-decoration-color: #00af00\">1</span>)      │             <span style=\"color: #00af00; text-decoration-color: #00af00\">4</span> │\n",
       "├─────────────────────────────────┼────────────────────────┼───────────────┤\n",
       "│ conv2d_4 (<span style=\"color: #0087ff; text-decoration-color: #0087ff\">Conv2D</span>)               │ (<span style=\"color: #00d7ff; text-decoration-color: #00d7ff\">None</span>, <span style=\"color: #00af00; text-decoration-color: #00af00\">41</span>, <span style=\"color: #00af00; text-decoration-color: #00af00\">42</span>, <span style=\"color: #00af00; text-decoration-color: #00af00\">5</span>)      │            <span style=\"color: #00af00; text-decoration-color: #00af00\">20</span> │\n",
       "├─────────────────────────────────┼────────────────────────┼───────────────┤\n",
       "│ conv2d_3 (<span style=\"color: #0087ff; text-decoration-color: #0087ff\">Conv2D</span>)               │ (<span style=\"color: #00d7ff; text-decoration-color: #00d7ff\">None</span>, <span style=\"color: #00af00; text-decoration-color: #00af00\">41</span>, <span style=\"color: #00af00; text-decoration-color: #00af00\">42</span>, <span style=\"color: #00af00; text-decoration-color: #00af00\">1</span>)      │             <span style=\"color: #00af00; text-decoration-color: #00af00\">6</span> │\n",
       "├─────────────────────────────────┼────────────────────────┼───────────────┤\n",
       "│ dense_8 (<span style=\"color: #0087ff; text-decoration-color: #0087ff\">Dense</span>)                 │ (<span style=\"color: #00d7ff; text-decoration-color: #00d7ff\">None</span>, <span style=\"color: #00af00; text-decoration-color: #00af00\">41</span>, <span style=\"color: #00af00; text-decoration-color: #00af00\">42</span>, <span style=\"color: #00af00; text-decoration-color: #00af00\">7</span>)      │            <span style=\"color: #00af00; text-decoration-color: #00af00\">14</span> │\n",
       "└─────────────────────────────────┴────────────────────────┴───────────────┘\n",
       "</pre>\n"
      ],
      "text/plain": [
       "┏━━━━━━━━━━━━━━━━━━━━━━━━━━━━━━━━━┳━━━━━━━━━━━━━━━━━━━━━━━━┳━━━━━━━━━━━━━━━┓\n",
       "┃\u001b[1m \u001b[0m\u001b[1mLayer (type)                   \u001b[0m\u001b[1m \u001b[0m┃\u001b[1m \u001b[0m\u001b[1mOutput Shape          \u001b[0m\u001b[1m \u001b[0m┃\u001b[1m \u001b[0m\u001b[1m      Param #\u001b[0m\u001b[1m \u001b[0m┃\n",
       "┡━━━━━━━━━━━━━━━━━━━━━━━━━━━━━━━━━╇━━━━━━━━━━━━━━━━━━━━━━━━╇━━━━━━━━━━━━━━━┩\n",
       "│ input_layer_8 (\u001b[38;5;33mInputLayer\u001b[0m)      │ (\u001b[38;5;45mNone\u001b[0m, \u001b[38;5;34m48\u001b[0m, \u001b[38;5;34m48\u001b[0m, \u001b[38;5;34m1\u001b[0m)      │             \u001b[38;5;34m0\u001b[0m │\n",
       "├─────────────────────────────────┼────────────────────────┼───────────────┤\n",
       "│ conv2d_8 (\u001b[38;5;33mConv2D\u001b[0m)               │ (\u001b[38;5;45mNone\u001b[0m, \u001b[38;5;34m45\u001b[0m, \u001b[38;5;34m45\u001b[0m, \u001b[38;5;34m5\u001b[0m)      │            \u001b[38;5;34m85\u001b[0m │\n",
       "├─────────────────────────────────┼────────────────────────┼───────────────┤\n",
       "│ conv2d_7 (\u001b[38;5;33mConv2D\u001b[0m)               │ (\u001b[38;5;45mNone\u001b[0m, \u001b[38;5;34m45\u001b[0m, \u001b[38;5;34m44\u001b[0m, \u001b[38;5;34m1\u001b[0m)      │            \u001b[38;5;34m11\u001b[0m │\n",
       "├─────────────────────────────────┼────────────────────────┼───────────────┤\n",
       "│ conv2d_6 (\u001b[38;5;33mConv2D\u001b[0m)               │ (\u001b[38;5;45mNone\u001b[0m, \u001b[38;5;34m43\u001b[0m, \u001b[38;5;34m44\u001b[0m, \u001b[38;5;34m1\u001b[0m)      │             \u001b[38;5;34m4\u001b[0m │\n",
       "├─────────────────────────────────┼────────────────────────┼───────────────┤\n",
       "│ conv2d_5 (\u001b[38;5;33mConv2D\u001b[0m)               │ (\u001b[38;5;45mNone\u001b[0m, \u001b[38;5;34m43\u001b[0m, \u001b[38;5;34m42\u001b[0m, \u001b[38;5;34m1\u001b[0m)      │             \u001b[38;5;34m4\u001b[0m │\n",
       "├─────────────────────────────────┼────────────────────────┼───────────────┤\n",
       "│ conv2d_4 (\u001b[38;5;33mConv2D\u001b[0m)               │ (\u001b[38;5;45mNone\u001b[0m, \u001b[38;5;34m41\u001b[0m, \u001b[38;5;34m42\u001b[0m, \u001b[38;5;34m5\u001b[0m)      │            \u001b[38;5;34m20\u001b[0m │\n",
       "├─────────────────────────────────┼────────────────────────┼───────────────┤\n",
       "│ conv2d_3 (\u001b[38;5;33mConv2D\u001b[0m)               │ (\u001b[38;5;45mNone\u001b[0m, \u001b[38;5;34m41\u001b[0m, \u001b[38;5;34m42\u001b[0m, \u001b[38;5;34m1\u001b[0m)      │             \u001b[38;5;34m6\u001b[0m │\n",
       "├─────────────────────────────────┼────────────────────────┼───────────────┤\n",
       "│ dense_8 (\u001b[38;5;33mDense\u001b[0m)                 │ (\u001b[38;5;45mNone\u001b[0m, \u001b[38;5;34m41\u001b[0m, \u001b[38;5;34m42\u001b[0m, \u001b[38;5;34m7\u001b[0m)      │            \u001b[38;5;34m14\u001b[0m │\n",
       "└─────────────────────────────────┴────────────────────────┴───────────────┘\n"
      ]
     },
     "metadata": {},
     "output_type": "display_data"
    },
    {
     "data": {
      "text/html": [
       "<pre style=\"white-space:pre;overflow-x:auto;line-height:normal;font-family:Menlo,'DejaVu Sans Mono',consolas,'Courier New',monospace\"><span style=\"font-weight: bold\"> Total params: </span><span style=\"color: #00af00; text-decoration-color: #00af00\">144</span> (576.00 B)\n",
       "</pre>\n"
      ],
      "text/plain": [
       "\u001b[1m Total params: \u001b[0m\u001b[38;5;34m144\u001b[0m (576.00 B)\n"
      ]
     },
     "metadata": {},
     "output_type": "display_data"
    },
    {
     "data": {
      "text/html": [
       "<pre style=\"white-space:pre;overflow-x:auto;line-height:normal;font-family:Menlo,'DejaVu Sans Mono',consolas,'Courier New',monospace\"><span style=\"font-weight: bold\"> Trainable params: </span><span style=\"color: #00af00; text-decoration-color: #00af00\">144</span> (576.00 B)\n",
       "</pre>\n"
      ],
      "text/plain": [
       "\u001b[1m Trainable params: \u001b[0m\u001b[38;5;34m144\u001b[0m (576.00 B)\n"
      ]
     },
     "metadata": {},
     "output_type": "display_data"
    },
    {
     "data": {
      "text/html": [
       "<pre style=\"white-space:pre;overflow-x:auto;line-height:normal;font-family:Menlo,'DejaVu Sans Mono',consolas,'Courier New',monospace\"><span style=\"font-weight: bold\"> Non-trainable params: </span><span style=\"color: #00af00; text-decoration-color: #00af00\">0</span> (0.00 B)\n",
       "</pre>\n"
      ],
      "text/plain": [
       "\u001b[1m Non-trainable params: \u001b[0m\u001b[38;5;34m0\u001b[0m (0.00 B)\n"
      ]
     },
     "metadata": {},
     "output_type": "display_data"
    },
    {
     "data": {
      "image/png": "[encoded data removed]",
      "text/plain": [
       "<Figure size 640x480 with 1 Axes>"
      ]
     },
     "metadata": {},
     "output_type": "display_data"
    }
   ],
   "source": [
    "def test():\n",
    "    input_data_node = DataNode(\n",
    "        data=InputData((48,48,1)),\n",
    "        parents=None,\n",
    "    )\n",
    "    convolution_data_node = None\n",
    "    convolution_data_node = DataNode(\n",
    "        data=ConvolutionData(kernel_size=(3,2), features=4),\n",
    "    )    \n",
    "    output_data_node = DataNode(\n",
    "        data=DenseData(7),\n",
    "        children=None,\n",
    "    )\n",
    "    convolution_data_node.add_parent(input_data_node)\n",
    "    output_data_node.add_parent(convolution_data_node)\n",
    "\n",
    "\n",
    "    # model = keras.Model(inputs=input_data_node.inducted_layer, outputs=output_data_node.inducted_layer)\n",
    "\n",
    "    # model.summary()\n",
    "\n",
    "    \n",
    "    for _ in range(5):\n",
    "        effectee, effect, _reverse = generate_random_reversible_intercalating_from_graph( (input_data_node, output_data_node) )\n",
    "        effect(effectee)\n",
    "\n",
    "        effectee, effect, _reverse = generate_random_reversible_convolution_augmentation_from_graph( (input_data_node, output_data_node) )\n",
    "        effect(effectee)\n",
    "        effectee, effect, _reverse = generate_random_reversible_convolution_augmentation_from_graph( (input_data_node, output_data_node) )\n",
    "        effect(effectee)\n",
    "        effectee, effect, _reverse = generate_random_reversible_convolution_augmentation_from_graph( (input_data_node, output_data_node) )\n",
    "        effect(effectee)\n",
    "\n",
    "    draw_from_top_data_node(input_data_node)\n",
    "\n",
    "\n",
    "    output_data_node.echelon()\n",
    "\n",
    "    model = keras.Model(inputs=input_data_node.inducted_layer, outputs=output_data_node.inducted_layer)\n",
    "\n",
    "    model.summary()\n",
    "\n",
    "\n",
    "test()\n"
   ]
  },
  {
   "cell_type": "markdown",
   "id": "1a378a69-efdd-4f3d-a43d-b4fb580a57ac",
   "metadata": {},
   "source": [
    "# training early-stop-callback  \n",
    "*we gonna generate a lot of models and training and ditch it so let's make as minimal as possible*"
   ]
  },
  {
   "cell_type": "code",
   "execution_count": 68,
   "id": "d1484aa1-c64f-48fb-b75a-f99f456d2df3",
   "metadata": {},
   "outputs": [],
   "source": [
    "# functional helper functions, framework agnostic\n",
    "\n",
    "def stop_when_plateau_from_values(values, resolution=0.01):\n",
    "    # print(f\"{values = }\")\n",
    "    if len(values) < 2:\n",
    "        return False\n",
    "    # print(f\"{[values[i]*(1+resolution) > values[i+1] for i in range(len(values)-1)] = }\")\n",
    "    # print(f\"{[values[i]*(1-resolution) < values[i+1] for i in range(len(values)-1)] = }\")\n",
    "    return all( \n",
    "        ( values[i]*(1+resolution) > values[i+1]) and ( values[i]*(1-resolution) < values[i+1])\n",
    "        for i in range(len(values)-1)\n",
    "    )\n",
    "def test():\n",
    "    assert not stop_when_plateau_from_values([1,2,4])\n",
    "    assert stop_when_plateau_from_values([1,1,1])\n",
    "    assert stop_when_plateau_from_values([1,0.9999,1.0001])\n",
    "test()\n",
    "\n",
    "def stop_from_losses(losses, diminution_threshold_ratio=0.99):\n",
    "    if len(losses) < 2: # assumed to be the 3 last loss values\n",
    "        return False\n",
    "    # print(f\"{[losses[i] < losses[i+1] for i in range(len(losses)-1)] = }\")\n",
    "    # print(f\"{[losses[i]*diminution_threshold_ratio < losses[i+1] for i in range(len(losses)-1)] = }\")\n",
    "    return all( # if loss did not diminish for 3 epochs -> should stop\n",
    "        # losses[i] < losses[i+1]\n",
    "        losses[i]*diminution_threshold_ratio < losses[i+1]\n",
    "        for i in range(len(losses)-1)\n",
    "    )\n",
    "\n",
    "def stop_from_accuracies(accuracies, increase_threshold_ratio=1.01, target_accuracy=0.95):\n",
    "    if len(accuracies) < 2: # assumed to be the 3 last loss values\n",
    "        return False\n",
    "    # print(f\"{[accuracies[i] > accuracies[i+1] for i in range(len(accuracies)-1)] = }\")\n",
    "    # print(f\"{[accuracies[i]*increase_threshold_ratio > accuracies[i+1] for i in range(len(accuracies)-1)] = }\")\n",
    "    return all( \n",
    "    # return (accuracies[-1] > target_accuracy) or all( \n",
    "        accuracies[i]*increase_threshold_ratio > accuracies[i+1]\n",
    "        # accuracies[i] > accuracies[i+1]\n",
    "        for i in range(len(accuracies)-1)\n",
    "    )\n",
    "# if loss did not diminish for 3 epochs -> should stop\n",
    "def accummulation_from_new_value_and_accumulation(new_value, accummulation=[], length=3):\n",
    "    if len(accummulation) < length:\n",
    "        return accummulation + [new_value]\n",
    "    return accummulation[1:] + [new_value]\n",
    "    \n",
    "def test():\n",
    "    losses = []\n",
    "    stop = False\n",
    "    for loss in [4.0, p:=2, p:=(p*0.98), p:=(p*0.98), p:=(p*0.999), p:=(p*0.999), p:=(p*0.999)]:\n",
    "        assert not stop\n",
    "        stop = stop_from_losses(losses)\n",
    "        losses = accummulation_from_new_value_and_accumulation(loss,losses)\n",
    "        # print(f\"{stop = } \\t{losses = }\")\n",
    "    assert stop \n",
    "    accuracies = []\n",
    "    stop = False\n",
    "    for accuracy in [0,0.2,p:=0.5, p:=(p*2),p:=(p*1.1),p:=(p*1.1),p:=(p*1.1),p:=(p*1.001),p:=(p*1.001),p:=(p*1.001)]:\n",
    "        assert not stop\n",
    "        stop = stop_from_accuracies(accuracies)\n",
    "        accuracies = accummulation_from_new_value_and_accumulation(accuracy,accuracies)\n",
    "        # print(f\"{stop = } \\t{accuracies = }\")\n",
    "    assert stop \n",
    "test()"
   ]
  },
  {
   "cell_type": "code",
   "execution_count": 69,
   "id": "7f2d2fbb-1b63-4952-b5ba-0783940ef131",
   "metadata": {},
   "outputs": [
    {
     "data": {
      "text/plain": [
       "[[], [], []]"
      ]
     },
     "execution_count": 69,
     "metadata": {},
     "output_type": "execute_result"
    }
   ],
   "source": [
    "[[]]*3"
   ]
  },
  {
   "cell_type": "code",
   "execution_count": 70,
   "id": "66dee763-15d8-4e8f-9a54-da712fddadb3",
   "metadata": {},
   "outputs": [],
   "source": [
    "# keras early stop implementation\n",
    "\n",
    "def is_iterable(thing):\n",
    "    try:\n",
    "        iter(thing)\n",
    "        return True\n",
    "    except:\n",
    "        return False\n",
    "\n",
    "class EarlyStopCallback(keras.callbacks.Callback):\n",
    "    def __init__(\n",
    "        self, \n",
    "        metrics='accuracy',\n",
    "        accumulators=accummulation_from_new_value_and_accumulation,\n",
    "        stops=stop_when_plateau_from_values,\n",
    "    ):\n",
    "        super().__init__()\n",
    "        lengths = [ len(stuff) for stuff in [metrics, accumulators, stops] if is_iterable(stuff) ]\n",
    "        max_length = 1 if not lengths else max(lengths)\n",
    "        metrics = metrics if is_iterable(metrics) else [metrics]*max_length\n",
    "        accumulators = accumulators if is_iterable(accumulators) else [accumulators]*max_length\n",
    "        stops = stops if is_iterable(stops) else [stops]*max_length\n",
    "        accumulations = [[]]*max_length\n",
    "        # print(f\"{stops = }\")\n",
    "        # print(f\"{accumulators = }\")\n",
    "        # print(f\"{accumulations = }\")\n",
    "        self.metrics = metrics # what log's field we care about\n",
    "        self.accumulators = accumulators # how we update state for each metric\n",
    "        self.stops = stops # return True if values require/allow early stop\n",
    "        self.accumulations = accumulations\n",
    "\n",
    "    def on_epoch_end(self, epoch, logs=None):\n",
    "        # print(f\"{self.stops = }\")\n",
    "        # print(f\"{self.accumulations = }\")\n",
    "        for i, metric  in enumerate(self.metrics):\n",
    "            value = logs.get(metric)\n",
    "            self.accumulations[i] = self.accumulators[i](value, self.accumulations[i])\n",
    "            self.model.stop_training &= self.stops[i](self.accumulations[i])\n",
    "\n",
    "def test():\n",
    "    early_stop_callback = EarlyStopCallback(\n",
    "        metrics=['loss','accuracy'],\n",
    "        accumulators=accummulation_from_new_value_and_accumulation,\n",
    "        stops=[stop_from_losses, stop_from_accuracies],        \n",
    "    )\n",
    "test()"
   ]
  },
  {
   "cell_type": "markdown",
   "id": "a53c493a-55ff-43e9-936f-d8a7a472c8f4",
   "metadata": {},
   "source": [
    "# helper functions \n",
    "- (graph data) -> keras model\n",
    "- (keras model, inputs, expected output) -> metrics\n",
    "- (graph data, input, expected output) -> metrics"
   ]
  },
  {
   "cell_type": "code",
   "execution_count": 71,
   "id": "f47e2bc1-9f69-4e2a-aaf7-d4a2d67de12b",
   "metadata": {},
   "outputs": [],
   "source": [
    "def model_from_data_graph(data_graph):\n",
    "    input_data_node, output_data_node = data_graph\n",
    "    output_data_node.echelon()\n",
    "    keras_model = keras.Model(inputs=input_data_node.inducted_layer, outputs=output_data_node.inducted_layer)\n",
    "    return keras_model\n",
    "    \n",
    "def scores_from_data_graph(\n",
    "    data_graph, \n",
    "    train_set_generator, \n",
    "    validation_set_generator=None, \n",
    "    epochs=25,\n",
    "    callbacks=None,\n",
    "    verbose=0,\n",
    "):\n",
    "    callbacks = [EarlyStopCallback(\n",
    "        metrics=['loss','accuracy'],\n",
    "        accumulators=accummulation_from_new_value_and_accumulation,\n",
    "        stops=[stop_from_losses, stop_from_accuracies],        \n",
    "    )] if callbacks is None else callbacks\n",
    "    model=model_from_data_graph(data_graph) \n",
    "    model.compile(optimizer='adam', loss='categorical_crossentropy', metrics=['accuracy'])\n",
    "\n",
    "    history = model.fit(\n",
    "        x=train_set_generator,\n",
    "        validation_data=validation_set_generator,\n",
    "        epochs=25, #epoch,\n",
    "        # steps_per_epochs=len(train_set_generator),\n",
    "        # batch_size=len(train_set_generator),\n",
    "        # validation_steps=len(validation_set_generator) if validation_set_generator is not None else None,\n",
    "        callbacks=callbacks,\n",
    "        verbose=verbose,\n",
    "    )\n",
    "    score_by_metric = { metric: values[-1] for metric, values in history.history.items() }\n",
    "    return score_by_metric\n"
   ]
  },
  {
   "cell_type": "markdown",
   "id": "32b52cd4-c708-4139-977b-bdd962ddef96",
   "metadata": {},
   "source": [
    "# helper functions\n",
    "- (data frame) -> input/output generator  \n",
    "*the way keras like it*  \n",
    "*according to facial emotion recognition context*"
   ]
  },
  {
   "cell_type": "code",
   "execution_count": 72,
   "id": "b56375a3-22f8-4cf0-8fa5-80f5ef5c8b61",
   "metadata": {},
   "outputs": [],
   "source": [
    "def image_and_label_generator_from_data_frame(\n",
    "    data_frame, \n",
    "    image_file_path_column_name, \n",
    "    label_column_name,\n",
    "    color_mode,\n",
    "    class_mode,\n",
    "    rescale,\n",
    "):\n",
    "    train_datagen = keras.src.legacy.preprocessing.image.ImageDataGenerator(rescale=rescale)\n",
    "    input_generator = train_datagen.flow_from_dataframe(\n",
    "        dataframe=data_frame,\n",
    "        x_col=image_file_path_column_name,\n",
    "        y_col=label_column_name,\n",
    "        target_size=(48, 48),\n",
    "        color_mode=color_mode,\n",
    "        class_mode=class_mode\n",
    "    )\n",
    "    return input_generator\n",
    "\n",
    "def fixing_fer_parameters_of_image_and_label_generator_from_data_frame_from_fer_constants(\n",
    "    image_file_path_column_name='image',\n",
    "    label_column_name='emotion',\n",
    "    target_size=(48, 48),\n",
    "    color_mode='grayscale',\n",
    " # 'raw' if label col is numerical dtype\n",
    "    # class_mode='raw',\n",
    " # 'categorical' if label col is string dtype\n",
    "    # class_mode='categorical',\n",
    "    rescale=1./255,\n",
    "):\n",
    "    def fixed_fer_parameters_image_and_label_generator_from_data_frame(data_frame):\n",
    "        class_mode = 'categorical' if data_frame[label_column_name].dtype == pandas.StringDtype() else 'raw'\n",
    "        return image_and_label_generator_from_data_frame(\n",
    "            data_frame=data_frame, \n",
    "            image_file_path_column_name=image_file_path_column_name, \n",
    "            label_column_name=label_column_name,\n",
    "            color_mode=color_mode,\n",
    "            class_mode=class_mode,\n",
    "            rescale=rescale,\n",
    "        )\n",
    "    return fixed_fer_parameters_image_and_label_generator_from_data_frame\n",
    "\n",
    "fer_image_and_label_generator_from_data_frame = (\n",
    "    fixing_fer_parameters_of_image_and_label_generator_from_data_frame_from_fer_constants()\n",
    ")"
   ]
  },
  {
   "cell_type": "code",
   "execution_count": 73,
   "id": "f1f5fb62-0612-4719-a3f6-ad1131336aa0",
   "metadata": {},
   "outputs": [
    {
     "name": "stdout",
     "output_type": "stream",
     "text": [
      "Found 280 validated image filenames belonging to 7 classes.\n"
     ]
    }
   ],
   "source": [
    "sampled_train_set_generator = fer_image_and_label_generator_from_data_frame(sampled_train_data_frame)"
   ]
  },
  {
   "cell_type": "code",
   "execution_count": 74,
   "id": "dc36e4ec-f7f2-42eb-b2c4-e81c5f6c0082",
   "metadata": {},
   "outputs": [
    {
     "name": "stdout",
     "output_type": "stream",
     "text": [
      "Found 3589 validated image filenames belonging to 7 classes.\n"
     ]
    }
   ],
   "source": [
    "validate_set_generator = fer_image_and_label_generator_from_data_frame(validate_data_frame)"
   ]
  },
  {
   "cell_type": "code",
   "execution_count": 75,
   "id": "55c8a6ba-ed98-4178-b992-54486b9e4a76",
   "metadata": {},
   "outputs": [
    {
     "data": {
      "image/png": "[encoded data removed]",
      "text/plain": [
       "<Figure size 640x480 with 1 Axes>"
      ]
     },
     "metadata": {},
     "output_type": "display_data"
    }
   ],
   "source": [
    "def test():\n",
    "    input_data_node = DataNode(\n",
    "        data=InputData((48,48,1)),\n",
    "        parents=None,\n",
    "    )\n",
    "    convolution_data_node = None\n",
    "    convolution_data_node = DataNode(\n",
    "        data=ConvolutionData(kernel_size=(1,1), features=4),\n",
    "    )    \n",
    "    flatten_data_node = DataNode(\n",
    "        data=FlattenData(),\n",
    "    )\n",
    "    output_data_node = DataNode(\n",
    "        data=DenseData(units=7),\n",
    "        children=None,\n",
    "    )\n",
    "    convolution_data_node.add_parent(input_data_node)\n",
    "    flatten_data_node.add_parent(convolution_data_node)\n",
    "    output_data_node.add_parent(flatten_data_node)\n",
    "\n",
    "    # for _ in range(2):\n",
    "    #     additive_effectee, additive_effect, _reverse = generate_random_reversible_intercalating_from_graph( (input_data_node, flatten_data_node) )\n",
    "    #     additive_effect(additive_effectee)\n",
    "    for _ in range(20):\n",
    "        trasformative_effectee, transformative_effect, reverse = generate_random_reversible_convolution_augmentation_from_graph( (input_data_node, output_data_node) )\n",
    "        transformative_effect(trasformative_effectee)\n",
    "        reverse(trasformative_effectee)\n",
    "        \n",
    "    draw_from_top_data_node(input_data_node)\n",
    "\n",
    "    data_graph = input_data_node, output_data_node\n",
    "\n",
    "    return data_graph\n",
    "\n",
    "data_graph = test()"
   ]
  },
  {
   "cell_type": "code",
   "execution_count": 76,
   "id": "c11e676f-b6a5-42bb-91ef-2291f759c2ae",
   "metadata": {
    "scrolled": true
   },
   "outputs": [
    {
     "data": {
      "text/html": [
       "<pre style=\"white-space:pre;overflow-x:auto;line-height:normal;font-family:Menlo,'DejaVu Sans Mono',consolas,'Courier New',monospace\"><span style=\"font-weight: bold\">Model: \"functional_3\"</span>\n",
       "</pre>\n"
      ],
      "text/plain": [
       "\u001b[1mModel: \"functional_3\"\u001b[0m\n"
      ]
     },
     "metadata": {},
     "output_type": "display_data"
    },
    {
     "data": {
      "text/html": [
       "<pre style=\"white-space:pre;overflow-x:auto;line-height:normal;font-family:Menlo,'DejaVu Sans Mono',consolas,'Courier New',monospace\">┏━━━━━━━━━━━━━━━━━━━━━━━━━━━━━━━━━┳━━━━━━━━━━━━━━━━━━━━━━━━┳━━━━━━━━━━━━━━━┓\n",
       "┃<span style=\"font-weight: bold\"> Layer (type)                    </span>┃<span style=\"font-weight: bold\"> Output Shape           </span>┃<span style=\"font-weight: bold\">       Param # </span>┃\n",
       "┡━━━━━━━━━━━━━━━━━━━━━━━━━━━━━━━━━╇━━━━━━━━━━━━━━━━━━━━━━━━╇━━━━━━━━━━━━━━━┩\n",
       "│ input_layer_9 (<span style=\"color: #0087ff; text-decoration-color: #0087ff\">InputLayer</span>)      │ (<span style=\"color: #00d7ff; text-decoration-color: #00d7ff\">None</span>, <span style=\"color: #00af00; text-decoration-color: #00af00\">48</span>, <span style=\"color: #00af00; text-decoration-color: #00af00\">48</span>, <span style=\"color: #00af00; text-decoration-color: #00af00\">1</span>)      │             <span style=\"color: #00af00; text-decoration-color: #00af00\">0</span> │\n",
       "├─────────────────────────────────┼────────────────────────┼───────────────┤\n",
       "│ conv2d_9 (<span style=\"color: #0087ff; text-decoration-color: #0087ff\">Conv2D</span>)               │ (<span style=\"color: #00d7ff; text-decoration-color: #00d7ff\">None</span>, <span style=\"color: #00af00; text-decoration-color: #00af00\">48</span>, <span style=\"color: #00af00; text-decoration-color: #00af00\">48</span>, <span style=\"color: #00af00; text-decoration-color: #00af00\">4</span>)      │             <span style=\"color: #00af00; text-decoration-color: #00af00\">8</span> │\n",
       "├─────────────────────────────────┼────────────────────────┼───────────────┤\n",
       "│ flatten_5 (<span style=\"color: #0087ff; text-decoration-color: #0087ff\">Flatten</span>)             │ (<span style=\"color: #00d7ff; text-decoration-color: #00d7ff\">None</span>, <span style=\"color: #00af00; text-decoration-color: #00af00\">9216</span>)           │             <span style=\"color: #00af00; text-decoration-color: #00af00\">0</span> │\n",
       "├─────────────────────────────────┼────────────────────────┼───────────────┤\n",
       "│ dense_9 (<span style=\"color: #0087ff; text-decoration-color: #0087ff\">Dense</span>)                 │ (<span style=\"color: #00d7ff; text-decoration-color: #00d7ff\">None</span>, <span style=\"color: #00af00; text-decoration-color: #00af00\">7</span>)              │        <span style=\"color: #00af00; text-decoration-color: #00af00\">64,519</span> │\n",
       "└─────────────────────────────────┴────────────────────────┴───────────────┘\n",
       "</pre>\n"
      ],
      "text/plain": [
       "┏━━━━━━━━━━━━━━━━━━━━━━━━━━━━━━━━━┳━━━━━━━━━━━━━━━━━━━━━━━━┳━━━━━━━━━━━━━━━┓\n",
       "┃\u001b[1m \u001b[0m\u001b[1mLayer (type)                   \u001b[0m\u001b[1m \u001b[0m┃\u001b[1m \u001b[0m\u001b[1mOutput Shape          \u001b[0m\u001b[1m \u001b[0m┃\u001b[1m \u001b[0m\u001b[1m      Param #\u001b[0m\u001b[1m \u001b[0m┃\n",
       "┡━━━━━━━━━━━━━━━━━━━━━━━━━━━━━━━━━╇━━━━━━━━━━━━━━━━━━━━━━━━╇━━━━━━━━━━━━━━━┩\n",
       "│ input_layer_9 (\u001b[38;5;33mInputLayer\u001b[0m)      │ (\u001b[38;5;45mNone\u001b[0m, \u001b[38;5;34m48\u001b[0m, \u001b[38;5;34m48\u001b[0m, \u001b[38;5;34m1\u001b[0m)      │             \u001b[38;5;34m0\u001b[0m │\n",
       "├─────────────────────────────────┼────────────────────────┼───────────────┤\n",
       "│ conv2d_9 (\u001b[38;5;33mConv2D\u001b[0m)               │ (\u001b[38;5;45mNone\u001b[0m, \u001b[38;5;34m48\u001b[0m, \u001b[38;5;34m48\u001b[0m, \u001b[38;5;34m4\u001b[0m)      │             \u001b[38;5;34m8\u001b[0m │\n",
       "├─────────────────────────────────┼────────────────────────┼───────────────┤\n",
       "│ flatten_5 (\u001b[38;5;33mFlatten\u001b[0m)             │ (\u001b[38;5;45mNone\u001b[0m, \u001b[38;5;34m9216\u001b[0m)           │             \u001b[38;5;34m0\u001b[0m │\n",
       "├─────────────────────────────────┼────────────────────────┼───────────────┤\n",
       "│ dense_9 (\u001b[38;5;33mDense\u001b[0m)                 │ (\u001b[38;5;45mNone\u001b[0m, \u001b[38;5;34m7\u001b[0m)              │        \u001b[38;5;34m64,519\u001b[0m │\n",
       "└─────────────────────────────────┴────────────────────────┴───────────────┘\n"
      ]
     },
     "metadata": {},
     "output_type": "display_data"
    },
    {
     "data": {
      "text/html": [
       "<pre style=\"white-space:pre;overflow-x:auto;line-height:normal;font-family:Menlo,'DejaVu Sans Mono',consolas,'Courier New',monospace\"><span style=\"font-weight: bold\"> Total params: </span><span style=\"color: #00af00; text-decoration-color: #00af00\">64,527</span> (252.06 KB)\n",
       "</pre>\n"
      ],
      "text/plain": [
       "\u001b[1m Total params: \u001b[0m\u001b[38;5;34m64,527\u001b[0m (252.06 KB)\n"
      ]
     },
     "metadata": {},
     "output_type": "display_data"
    },
    {
     "data": {
      "text/html": [
       "<pre style=\"white-space:pre;overflow-x:auto;line-height:normal;font-family:Menlo,'DejaVu Sans Mono',consolas,'Courier New',monospace\"><span style=\"font-weight: bold\"> Trainable params: </span><span style=\"color: #00af00; text-decoration-color: #00af00\">64,527</span> (252.06 KB)\n",
       "</pre>\n"
      ],
      "text/plain": [
       "\u001b[1m Trainable params: \u001b[0m\u001b[38;5;34m64,527\u001b[0m (252.06 KB)\n"
      ]
     },
     "metadata": {},
     "output_type": "display_data"
    },
    {
     "data": {
      "text/html": [
       "<pre style=\"white-space:pre;overflow-x:auto;line-height:normal;font-family:Menlo,'DejaVu Sans Mono',consolas,'Courier New',monospace\"><span style=\"font-weight: bold\"> Non-trainable params: </span><span style=\"color: #00af00; text-decoration-color: #00af00\">0</span> (0.00 B)\n",
       "</pre>\n"
      ],
      "text/plain": [
       "\u001b[1m Non-trainable params: \u001b[0m\u001b[38;5;34m0\u001b[0m (0.00 B)\n"
      ]
     },
     "metadata": {},
     "output_type": "display_data"
    },
    {
     "ename": "NameError",
     "evalue": "name 'score_from_model_inputs_and_outputs' is not defined",
     "output_type": "error",
     "traceback": [
      "\u001b[0;31m---------------------------------------------------------------------------\u001b[0m",
      "\u001b[0;31mNameError\u001b[0m                                 Traceback (most recent call last)",
      "Cell \u001b[0;32mIn[76], line 13\u001b[0m\n\u001b[1;32m      8\u001b[0m     \u001b[38;5;28mprint\u001b[39m(\u001b[38;5;124mf\u001b[39m\u001b[38;5;124m\"\u001b[39m\u001b[38;5;132;01m{\u001b[39;00mscore_by_metric\u001b[38;5;250m \u001b[39m\u001b[38;5;132;01m= }\u001b[39;00m\u001b[38;5;124m\"\u001b[39m)\n\u001b[1;32m      9\u001b[0m     \u001b[38;5;66;03m# model = keras.Model(inputs=input_data_node.inducted_layer, outputs=output_data_node.inducted_layer)\u001b[39;00m\n\u001b[1;32m     10\u001b[0m \n\u001b[1;32m     11\u001b[0m     \u001b[38;5;66;03m# model.summary()\u001b[39;00m\n\u001b[0;32m---> 13\u001b[0m \u001b[43mtest\u001b[49m\u001b[43m(\u001b[49m\u001b[43mdata_graph\u001b[49m\u001b[43m,\u001b[49m\u001b[43m \u001b[49m\u001b[43msampled_train_set_generator\u001b[49m\u001b[43m)\u001b[49m\n",
      "Cell \u001b[0;32mIn[76], line 5\u001b[0m, in \u001b[0;36mtest\u001b[0;34m(data_graph, train_set_generator)\u001b[0m\n\u001b[1;32m      3\u001b[0m model \u001b[38;5;241m=\u001b[39m model_from_data_graph(data_graph)\n\u001b[1;32m      4\u001b[0m model\u001b[38;5;241m.\u001b[39msummary()\n\u001b[0;32m----> 5\u001b[0m \u001b[43mscore_from_model_inputs_and_outputs\u001b[49m\n\u001b[1;32m      7\u001b[0m score_by_metric \u001b[38;5;241m=\u001b[39m score_from_model_inputs_and_outputs(model, train_set_generator)\n\u001b[1;32m      8\u001b[0m \u001b[38;5;28mprint\u001b[39m(\u001b[38;5;124mf\u001b[39m\u001b[38;5;124m\"\u001b[39m\u001b[38;5;132;01m{\u001b[39;00mscore_by_metric\u001b[38;5;250m \u001b[39m\u001b[38;5;132;01m= }\u001b[39;00m\u001b[38;5;124m\"\u001b[39m)\n",
      "\u001b[0;31mNameError\u001b[0m: name 'score_from_model_inputs_and_outputs' is not defined"
     ]
    }
   ],
   "source": [
    "def test(data_graph, train_set_generator):\n",
    "\n",
    "    model = model_from_data_graph(data_graph)\n",
    "    model.summary()\n",
    "    score_from_model_inputs_and_outputs\n",
    "    \n",
    "    score_by_metric = score_from_model_inputs_and_outputs(model, train_set_generator)\n",
    "    print(f\"{score_by_metric = }\")\n",
    "    # model = keras.Model(inputs=input_data_node.inducted_layer, outputs=output_data_node.inducted_layer)\n",
    "\n",
    "    # model.summary()\n",
    "\n",
    "test(data_graph, sampled_train_set_generator)\n"
   ]
  },
  {
   "cell_type": "markdown",
   "id": "868278bd-4aca-4514-8c51-68ab0227db49",
   "metadata": {
    "jp-MarkdownHeadingCollapsed": true
   },
   "source": [
    "### training behavior\n",
    "note, log retuned after each epoch during fitting is like :\n",
    "```\n",
    "{\n",
    "    'loss': 0.6932,\n",
    "    'accuracy': 0.5121,\n",
    "# if validation set is given:\n",
    "    'val_loss': 0.6930, \n",
    "    'val_accuracy': 0.5190\n",
    "}\n",
    "```"
   ]
  },
  {
   "cell_type": "markdown",
   "id": "ec505abb-c0f2-4eb7-b99e-a11c51150335",
   "metadata": {},
   "source": [
    "# define the model architecture generation/selection/evolution loop"
   ]
  },
  {
   "cell_type": "code",
   "execution_count": 77,
   "id": "16e0bd29-1fe3-4c24-968b-07be7684f58d",
   "metadata": {},
   "outputs": [],
   "source": [
    "# generate graph data from increasing quantity of data and stop\n",
    "# when platea (either used all data or plateau accuracy)\n",
    "def generate_data_graph_from_all_inputs(all_train_set_data_frame, all_validate_set_data_frame, data_graph=None):\n",
    "    data_graph = minimal_fer_data_graph() if data_graph is None else data_graph\n",
    "    scores = []\n",
    "    metrics = []\n",
    "    plateau = False\n",
    "    sampling = 1\n",
    "    while not plateau:\n",
    "        sample_train_data_set = sampled_data_frame(\n",
    "                    data_frame=all_train_set_data_frame,\n",
    "                    sampling_quantity=sampling,\n",
    "                    to_be_preserved_column_names=['emotion'],\n",
    "                )\n",
    "        sample_validate_data_set = sampled_data_frame(\n",
    "                    data_frame=all_validate_set_data_frame,\n",
    "                    sampling_quantity=sampling,\n",
    "                    to_be_preserved_column_names=['emotion'],\n",
    "                )\n",
    "        train_image_generator = fer_image_and_label_generator_from_data_frame(sample_train_data_set)\n",
    "        validate_image_generator = fer_image_and_label_generator_from_data_frame(sample_validate_data_set)\n",
    "        data_graph = generate_satisfying_data_graph_from_the_given_data_samples(\n",
    "            train_image_generator=train_image_generator,\n",
    "            train_labels = train_labels,\n",
    "            \n",
    "            validate_image_generator=validate_image_generator,\n",
    "            validate_labels = validate_labels,\n",
    "            \n",
    "        )\n",
    "        plateau = is_plateau_from_scores(scores)\n",
    "        sampling *= 2\n",
    "    return data_graph\n",
    "        "
   ]
  },
  {
   "cell_type": "code",
   "execution_count": 78,
   "id": "dd334240-bb74-49a8-acec-a29f3a9082f5",
   "metadata": {},
   "outputs": [],
   "source": [
    "# run several random mutation and keep the best according to the given metric\n",
    "def one_mutation_cycle(\n",
    "    train_set_generator,\n",
    "    data_graph=None, \n",
    "    validate_set_generator=None,\n",
    "    metric='val_accuracy', # | 'val_accuracy'\n",
    "    initial_score=None,\n",
    "    mutations_per_cycle=3,\n",
    "): #-> accuracy after (best) mutation\n",
    "    data_graph = minimal_fer_data_graph() if data_graph is None else data_graph\n",
    "    if initial_score is None:\n",
    "        initial_score = scores_from_data_graph(\n",
    "            data_graph, train_set_generator, validate_set_generator\n",
    "        )[metric]\n",
    "    print(f\"{initial_score = }\")\n",
    "    # below is all what we keep track for one mutation cycle -> so we can keep only the best\n",
    "    mutatees = [None]*mutations_per_cycle\n",
    "    mutations = [None]*mutations_per_cycle\n",
    "    reverse_mutations = [None]*mutations_per_cycle\n",
    "    mutations_scores = [None]*mutations_per_cycle\n",
    "    if not get_all_convolution_data_nodes(data_graph): # so we do not try to augment zero conv layer at really first loop\n",
    "        effectee, effect, reverse = generate_random_reversible_intercalating_from_graph( data_graph )\n",
    "        effect(effectee)\n",
    "    for mutation_index in range(mutations_per_cycle):\n",
    "        print()\n",
    "        print(f\"{mutation_index = }\")\n",
    "        print()\n",
    "        if mutation_index == 0: # so we do not try to augment zero conv layer at really first loop\n",
    "            effectee, effect, reverse = generate_random_reversible_intercalating_from_graph( data_graph )\n",
    "        if mutation_index > 0:\n",
    "            effectee, effect, reverse = generate_random_reversible_convolution_augmentation_from_graph( data_graph )\n",
    "\n",
    "        # effectee, effect, reverse = generate_random_reversible_mutation_from_graph( data_graph )\n",
    "        # effectee, effect, reverse = generate_random_reversible_intercalating_from_graph( data_graph )\n",
    "        # effectee, effect, reverse = generate_random_reversible_convolution_augmentation_from_graph( data_graph )\n",
    "        # print(f\"{effectee = }\")\n",
    "        # print(f\"{effect = }\")\n",
    "        # with TemporaryMutation(effectee, effect, reverse):\n",
    "        mutatees[mutation_index] = effectee\n",
    "        mutations[mutation_index] = effect\n",
    "        reverse_mutations[mutation_index] = reverse\n",
    "        #\n",
    "        effect(effectee)\n",
    "        mutation_scores = scores_from_data_graph(data_graph, train_set_generator, validate_set_generator)\n",
    "        reverse(effectee)\n",
    "        #\n",
    "        mutations_scores[mutation_index] = mutation_scores\n",
    "    # find best mutation and reapply it\n",
    "    # print(f\"{[scores[metric] for scores in mutations_scores] = }\")\n",
    "    # print(f\"{mutatees = }\")\n",
    "    # print()\n",
    "    # print(f\"{mutations = }\")\n",
    "    # print()\n",
    "    # print(f\"{reverse_mutations = }\")\n",
    "    # print()\n",
    "    # print(f\"{mutations_scores = }\")\n",
    "    best_mutation_score = None\n",
    "    best_mutation_index = None\n",
    "    for mutation_index, mutation_scores in enumerate(mutations_scores):\n",
    "        # print(f\"{mutation_index = }\")\n",
    "        # print(f\"{mutation_scores = }\")\n",
    "        # print(f\"{mutations_scores[mutation_index] = }\")\n",
    "        score = mutation_scores[metric]\n",
    "        if best_mutation_score is None or score > best_mutation_score:\n",
    "            best_mutation_index = mutation_index \n",
    "            best_mutation_score = score\n",
    "    if initial_score > best_mutation_score:\n",
    "        print(f\"we did not improve sh*** ! {initial_score = } {best_mutation_score = }\")\n",
    "        return data_graph, initial_score\n",
    "    else:\n",
    "        print(f\"found {best_mutation_score = } with {best_mutation_index = }\")\n",
    "        # select best\n",
    "        best_effectee, best_effect = mutatees[best_mutation_index], mutations[best_mutation_index]\n",
    "        # apply best\n",
    "        print(f\"we apply {best_effect = } on {best_effectee = }\")\n",
    "        best_effect(best_effectee)\n",
    "        return data_graph, mutations_scores[best_mutation_index]"
   ]
  },
  {
   "cell_type": "code",
   "execution_count": 79,
   "id": "c5a7c3a3-e7e7-428a-b687-c4caf7ff659c",
   "metadata": {},
   "outputs": [
    {
     "name": "stdout",
     "output_type": "stream",
     "text": [
      "op_data_node = node<7 categorical outputs data>\n",
      "op_data_node = node<7 categorical outputs data>\n"
     ]
    },
    {
     "data": {
      "image/png": "[encoded data removed]",
      "text/plain": [
       "<Figure size 640x480 with 1 Axes>"
      ]
     },
     "metadata": {},
     "output_type": "display_data"
    }
   ],
   "source": [
    "data_graph = minimal_fer_data_graph()\n",
    "draw_from_top_data_node(data_graph[0])"
   ]
  },
  {
   "cell_type": "code",
   "execution_count": 80,
   "id": "e12b0055-3e7b-4f6c-bbe2-bedc24ffd43d",
   "metadata": {},
   "outputs": [
    {
     "name": "stdout",
     "output_type": "stream",
     "text": [
      "Found 28709 validated image filenames belonging to 7 classes.\n"
     ]
    }
   ],
   "source": [
    "train_set_generator = fer_image_and_label_generator_from_data_frame(train_data_frame)"
   ]
  },
  {
   "cell_type": "code",
   "execution_count": 81,
   "id": "0295154d-a8da-4fe7-a7b3-fc502242c7fe",
   "metadata": {
    "scrolled": true
   },
   "outputs": [
    {
     "name": "stderr",
     "output_type": "stream",
     "text": [
      "/home/wam/kood/emotions-detector/facial_emotion_recognition/envs/emotion/lib/python3.11/site-packages/keras/src/trainers/data_adapters/py_dataset_adapter.py:122: UserWarning: Your `PyDataset` class should call `super().__init__(**kwargs)` in its constructor. `**kwargs` can include `workers`, `use_multiprocessing`, `max_queue_size`. Do not pass these arguments to `fit()`, as they will be ignored.\n",
      "  self._warn_if_super_not_called()\n"
     ]
    },
    {
     "ename": "KeyboardInterrupt",
     "evalue": "",
     "output_type": "error",
     "traceback": [
      "\u001b[0;31m---------------------------------------------------------------------------\u001b[0m",
      "\u001b[0;31mKeyboardInterrupt\u001b[0m                         Traceback (most recent call last)",
      "Cell \u001b[0;32mIn[81], line 14\u001b[0m\n\u001b[1;32m     12\u001b[0m     \u001b[38;5;28mprint\u001b[39m(\u001b[38;5;124mf\u001b[39m\u001b[38;5;124m\"\u001b[39m\u001b[38;5;132;01m{\u001b[39;00mmutated_score\u001b[38;5;250m \u001b[39m\u001b[38;5;132;01m= }\u001b[39;00m\u001b[38;5;124m\"\u001b[39m)\n\u001b[1;32m     13\u001b[0m \u001b[38;5;28;01mfor\u001b[39;00m i \u001b[38;5;129;01min\u001b[39;00m \u001b[38;5;28mrange\u001b[39m(\u001b[38;5;241m20\u001b[39m):\n\u001b[0;32m---> 14\u001b[0m     \u001b[43mtest\u001b[49m\u001b[43m(\u001b[49m\u001b[43mdata_graph\u001b[49m\u001b[43m,\u001b[49m\u001b[43mtrain_set_generator\u001b[49m\u001b[43m)\u001b[49m\n",
      "Cell \u001b[0;32mIn[81], line 6\u001b[0m, in \u001b[0;36mtest\u001b[0;34m(data_graph, train_image_generator)\u001b[0m\n\u001b[1;32m      1\u001b[0m \u001b[38;5;28;01mdef\u001b[39;00m \u001b[38;5;21mtest\u001b[39m(\n\u001b[1;32m      2\u001b[0m     data_graph, \n\u001b[1;32m      3\u001b[0m     train_image_generator\n\u001b[1;32m      4\u001b[0m ):\n\u001b[0;32m----> 6\u001b[0m     data_graph, mutated_score\u001b[38;5;241m=\u001b[39m \u001b[43mone_mutation_cycle\u001b[49m\u001b[43m(\u001b[49m\n\u001b[1;32m      7\u001b[0m \u001b[43m        \u001b[49m\u001b[43mdata_graph\u001b[49m\u001b[38;5;241;43m=\u001b[39;49m\u001b[43mdata_graph\u001b[49m\u001b[43m,\u001b[49m\n\u001b[1;32m      8\u001b[0m \u001b[43m        \u001b[49m\u001b[43mtrain_set_generator\u001b[49m\u001b[38;5;241;43m=\u001b[39;49m\u001b[43mtrain_image_generator\u001b[49m\u001b[43m,\u001b[49m\n\u001b[1;32m      9\u001b[0m \u001b[43m        \u001b[49m\u001b[43mvalidate_set_generator\u001b[49m\u001b[38;5;241;43m=\u001b[39;49m\u001b[43mvalidate_set_generator\u001b[49m\u001b[43m,\u001b[49m\n\u001b[1;32m     10\u001b[0m \u001b[43m        \u001b[49m\u001b[43mmetric\u001b[49m\u001b[38;5;241;43m=\u001b[39;49m\u001b[38;5;124;43m'\u001b[39;49m\u001b[38;5;124;43mval_accuracy\u001b[39;49m\u001b[38;5;124;43m'\u001b[39;49m\u001b[43m,\u001b[49m\u001b[43m \u001b[49m\u001b[38;5;66;43;03m# | 'val_accuracy'\u001b[39;49;00m\n\u001b[1;32m     11\u001b[0m \u001b[43m    \u001b[49m\u001b[43m)\u001b[49m\n\u001b[1;32m     12\u001b[0m     \u001b[38;5;28mprint\u001b[39m(\u001b[38;5;124mf\u001b[39m\u001b[38;5;124m\"\u001b[39m\u001b[38;5;132;01m{\u001b[39;00mmutated_score\u001b[38;5;250m \u001b[39m\u001b[38;5;132;01m= }\u001b[39;00m\u001b[38;5;124m\"\u001b[39m)\n",
      "Cell \u001b[0;32mIn[78], line 12\u001b[0m, in \u001b[0;36mone_mutation_cycle\u001b[0;34m(train_set_generator, data_graph, validate_set_generator, metric, initial_score, mutations_per_cycle)\u001b[0m\n\u001b[1;32m     10\u001b[0m data_graph \u001b[38;5;241m=\u001b[39m minimal_fer_data_graph() \u001b[38;5;28;01mif\u001b[39;00m data_graph \u001b[38;5;129;01mis\u001b[39;00m \u001b[38;5;28;01mNone\u001b[39;00m \u001b[38;5;28;01melse\u001b[39;00m data_graph\n\u001b[1;32m     11\u001b[0m \u001b[38;5;28;01mif\u001b[39;00m initial_score \u001b[38;5;129;01mis\u001b[39;00m \u001b[38;5;28;01mNone\u001b[39;00m:\n\u001b[0;32m---> 12\u001b[0m     initial_score \u001b[38;5;241m=\u001b[39m \u001b[43mscores_from_data_graph\u001b[49m\u001b[43m(\u001b[49m\n\u001b[1;32m     13\u001b[0m \u001b[43m        \u001b[49m\u001b[43mdata_graph\u001b[49m\u001b[43m,\u001b[49m\u001b[43m \u001b[49m\u001b[43mtrain_set_generator\u001b[49m\u001b[43m,\u001b[49m\u001b[43m \u001b[49m\u001b[43mvalidate_set_generator\u001b[49m\n\u001b[1;32m     14\u001b[0m \u001b[43m    \u001b[49m\u001b[43m)\u001b[49m[metric]\n\u001b[1;32m     15\u001b[0m \u001b[38;5;28mprint\u001b[39m(\u001b[38;5;124mf\u001b[39m\u001b[38;5;124m\"\u001b[39m\u001b[38;5;132;01m{\u001b[39;00minitial_score\u001b[38;5;250m \u001b[39m\u001b[38;5;132;01m= }\u001b[39;00m\u001b[38;5;124m\"\u001b[39m)\n\u001b[1;32m     16\u001b[0m \u001b[38;5;66;03m# below is all what we keep track for one mutation cycle -> so we can keep only the best\u001b[39;00m\n",
      "Cell \u001b[0;32mIn[71], line 23\u001b[0m, in \u001b[0;36mscores_from_data_graph\u001b[0;34m(data_graph, train_set_generator, validation_set_generator, epochs, callbacks, verbose)\u001b[0m\n\u001b[1;32m     20\u001b[0m model\u001b[38;5;241m=\u001b[39mmodel_from_data_graph(data_graph) \n\u001b[1;32m     21\u001b[0m model\u001b[38;5;241m.\u001b[39mcompile(optimizer\u001b[38;5;241m=\u001b[39m\u001b[38;5;124m'\u001b[39m\u001b[38;5;124madam\u001b[39m\u001b[38;5;124m'\u001b[39m, loss\u001b[38;5;241m=\u001b[39m\u001b[38;5;124m'\u001b[39m\u001b[38;5;124mcategorical_crossentropy\u001b[39m\u001b[38;5;124m'\u001b[39m, metrics\u001b[38;5;241m=\u001b[39m[\u001b[38;5;124m'\u001b[39m\u001b[38;5;124maccuracy\u001b[39m\u001b[38;5;124m'\u001b[39m])\n\u001b[0;32m---> 23\u001b[0m history \u001b[38;5;241m=\u001b[39m \u001b[43mmodel\u001b[49m\u001b[38;5;241;43m.\u001b[39;49m\u001b[43mfit\u001b[49m\u001b[43m(\u001b[49m\n\u001b[1;32m     24\u001b[0m \u001b[43m    \u001b[49m\u001b[43mx\u001b[49m\u001b[38;5;241;43m=\u001b[39;49m\u001b[43mtrain_set_generator\u001b[49m\u001b[43m,\u001b[49m\n\u001b[1;32m     25\u001b[0m \u001b[43m    \u001b[49m\u001b[43mvalidation_data\u001b[49m\u001b[38;5;241;43m=\u001b[39;49m\u001b[43mvalidation_set_generator\u001b[49m\u001b[43m,\u001b[49m\n\u001b[1;32m     26\u001b[0m \u001b[43m    \u001b[49m\u001b[43mepochs\u001b[49m\u001b[38;5;241;43m=\u001b[39;49m\u001b[38;5;241;43m25\u001b[39;49m\u001b[43m,\u001b[49m\u001b[43m \u001b[49m\u001b[38;5;66;43;03m#epoch,\u001b[39;49;00m\n\u001b[1;32m     27\u001b[0m \u001b[43m    \u001b[49m\u001b[38;5;66;43;03m# steps_per_epochs=len(train_set_generator),\u001b[39;49;00m\n\u001b[1;32m     28\u001b[0m \u001b[43m    \u001b[49m\u001b[38;5;66;43;03m# batch_size=len(train_set_generator),\u001b[39;49;00m\n\u001b[1;32m     29\u001b[0m \u001b[43m    \u001b[49m\u001b[38;5;66;43;03m# validation_steps=len(validation_set_generator) if validation_set_generator is not None else None,\u001b[39;49;00m\n\u001b[1;32m     30\u001b[0m \u001b[43m    \u001b[49m\u001b[43mcallbacks\u001b[49m\u001b[38;5;241;43m=\u001b[39;49m\u001b[43mcallbacks\u001b[49m\u001b[43m,\u001b[49m\n\u001b[1;32m     31\u001b[0m \u001b[43m    \u001b[49m\u001b[43mverbose\u001b[49m\u001b[38;5;241;43m=\u001b[39;49m\u001b[43mverbose\u001b[49m\u001b[43m,\u001b[49m\n\u001b[1;32m     32\u001b[0m \u001b[43m\u001b[49m\u001b[43m)\u001b[49m\n\u001b[1;32m     33\u001b[0m score_by_metric \u001b[38;5;241m=\u001b[39m { metric: values[\u001b[38;5;241m-\u001b[39m\u001b[38;5;241m1\u001b[39m] \u001b[38;5;28;01mfor\u001b[39;00m metric, values \u001b[38;5;129;01min\u001b[39;00m history\u001b[38;5;241m.\u001b[39mhistory\u001b[38;5;241m.\u001b[39mitems() }\n\u001b[1;32m     34\u001b[0m \u001b[38;5;28;01mreturn\u001b[39;00m score_by_metric\n",
      "File \u001b[0;32m~/kood/emotions-detector/facial_emotion_recognition/envs/emotion/lib/python3.11/site-packages/keras/src/utils/traceback_utils.py:117\u001b[0m, in \u001b[0;36mfilter_traceback.<locals>.error_handler\u001b[0;34m(*args, **kwargs)\u001b[0m\n\u001b[1;32m    115\u001b[0m filtered_tb \u001b[38;5;241m=\u001b[39m \u001b[38;5;28;01mNone\u001b[39;00m\n\u001b[1;32m    116\u001b[0m \u001b[38;5;28;01mtry\u001b[39;00m:\n\u001b[0;32m--> 117\u001b[0m     \u001b[38;5;28;01mreturn\u001b[39;00m \u001b[43mfn\u001b[49m\u001b[43m(\u001b[49m\u001b[38;5;241;43m*\u001b[39;49m\u001b[43margs\u001b[49m\u001b[43m,\u001b[49m\u001b[43m \u001b[49m\u001b[38;5;241;43m*\u001b[39;49m\u001b[38;5;241;43m*\u001b[39;49m\u001b[43mkwargs\u001b[49m\u001b[43m)\u001b[49m\n\u001b[1;32m    118\u001b[0m \u001b[38;5;28;01mexcept\u001b[39;00m \u001b[38;5;167;01mException\u001b[39;00m \u001b[38;5;28;01mas\u001b[39;00m e:\n\u001b[1;32m    119\u001b[0m     filtered_tb \u001b[38;5;241m=\u001b[39m _process_traceback_frames(e\u001b[38;5;241m.\u001b[39m__traceback__)\n",
      "File \u001b[0;32m~/kood/emotions-detector/facial_emotion_recognition/envs/emotion/lib/python3.11/site-packages/keras/src/backend/tensorflow/trainer.py:320\u001b[0m, in \u001b[0;36mTensorFlowTrainer.fit\u001b[0;34m(self, x, y, batch_size, epochs, verbose, callbacks, validation_split, validation_data, shuffle, class_weight, sample_weight, initial_epoch, steps_per_epoch, validation_steps, validation_batch_size, validation_freq)\u001b[0m\n\u001b[1;32m    318\u001b[0m \u001b[38;5;28;01mfor\u001b[39;00m step, iterator \u001b[38;5;129;01min\u001b[39;00m epoch_iterator\u001b[38;5;241m.\u001b[39menumerate_epoch():\n\u001b[1;32m    319\u001b[0m     callbacks\u001b[38;5;241m.\u001b[39mon_train_batch_begin(step)\n\u001b[0;32m--> 320\u001b[0m     logs \u001b[38;5;241m=\u001b[39m \u001b[38;5;28;43mself\u001b[39;49m\u001b[38;5;241;43m.\u001b[39;49m\u001b[43mtrain_function\u001b[49m\u001b[43m(\u001b[49m\u001b[43miterator\u001b[49m\u001b[43m)\u001b[49m\n\u001b[1;32m    321\u001b[0m     logs \u001b[38;5;241m=\u001b[39m \u001b[38;5;28mself\u001b[39m\u001b[38;5;241m.\u001b[39m_pythonify_logs(logs)\n\u001b[1;32m    322\u001b[0m     callbacks\u001b[38;5;241m.\u001b[39mon_train_batch_end(step, logs)\n",
      "File \u001b[0;32m~/kood/emotions-detector/facial_emotion_recognition/envs/emotion/lib/python3.11/site-packages/tensorflow/python/util/traceback_utils.py:150\u001b[0m, in \u001b[0;36mfilter_traceback.<locals>.error_handler\u001b[0;34m(*args, **kwargs)\u001b[0m\n\u001b[1;32m    148\u001b[0m filtered_tb \u001b[38;5;241m=\u001b[39m \u001b[38;5;28;01mNone\u001b[39;00m\n\u001b[1;32m    149\u001b[0m \u001b[38;5;28;01mtry\u001b[39;00m:\n\u001b[0;32m--> 150\u001b[0m   \u001b[38;5;28;01mreturn\u001b[39;00m \u001b[43mfn\u001b[49m\u001b[43m(\u001b[49m\u001b[38;5;241;43m*\u001b[39;49m\u001b[43margs\u001b[49m\u001b[43m,\u001b[49m\u001b[43m \u001b[49m\u001b[38;5;241;43m*\u001b[39;49m\u001b[38;5;241;43m*\u001b[39;49m\u001b[43mkwargs\u001b[49m\u001b[43m)\u001b[49m\n\u001b[1;32m    151\u001b[0m \u001b[38;5;28;01mexcept\u001b[39;00m \u001b[38;5;167;01mException\u001b[39;00m \u001b[38;5;28;01mas\u001b[39;00m e:\n\u001b[1;32m    152\u001b[0m   filtered_tb \u001b[38;5;241m=\u001b[39m _process_traceback_frames(e\u001b[38;5;241m.\u001b[39m__traceback__)\n",
      "File \u001b[0;32m~/kood/emotions-detector/facial_emotion_recognition/envs/emotion/lib/python3.11/site-packages/tensorflow/python/eager/polymorphic_function/polymorphic_function.py:833\u001b[0m, in \u001b[0;36mFunction.__call__\u001b[0;34m(self, *args, **kwds)\u001b[0m\n\u001b[1;32m    830\u001b[0m compiler \u001b[38;5;241m=\u001b[39m \u001b[38;5;124m\"\u001b[39m\u001b[38;5;124mxla\u001b[39m\u001b[38;5;124m\"\u001b[39m \u001b[38;5;28;01mif\u001b[39;00m \u001b[38;5;28mself\u001b[39m\u001b[38;5;241m.\u001b[39m_jit_compile \u001b[38;5;28;01melse\u001b[39;00m \u001b[38;5;124m\"\u001b[39m\u001b[38;5;124mnonXla\u001b[39m\u001b[38;5;124m\"\u001b[39m\n\u001b[1;32m    832\u001b[0m \u001b[38;5;28;01mwith\u001b[39;00m OptionalXlaContext(\u001b[38;5;28mself\u001b[39m\u001b[38;5;241m.\u001b[39m_jit_compile):\n\u001b[0;32m--> 833\u001b[0m   result \u001b[38;5;241m=\u001b[39m \u001b[38;5;28;43mself\u001b[39;49m\u001b[38;5;241;43m.\u001b[39;49m\u001b[43m_call\u001b[49m\u001b[43m(\u001b[49m\u001b[38;5;241;43m*\u001b[39;49m\u001b[43margs\u001b[49m\u001b[43m,\u001b[49m\u001b[43m \u001b[49m\u001b[38;5;241;43m*\u001b[39;49m\u001b[38;5;241;43m*\u001b[39;49m\u001b[43mkwds\u001b[49m\u001b[43m)\u001b[49m\n\u001b[1;32m    835\u001b[0m new_tracing_count \u001b[38;5;241m=\u001b[39m \u001b[38;5;28mself\u001b[39m\u001b[38;5;241m.\u001b[39mexperimental_get_tracing_count()\n\u001b[1;32m    836\u001b[0m without_tracing \u001b[38;5;241m=\u001b[39m (tracing_count \u001b[38;5;241m==\u001b[39m new_tracing_count)\n",
      "File \u001b[0;32m~/kood/emotions-detector/facial_emotion_recognition/envs/emotion/lib/python3.11/site-packages/tensorflow/python/eager/polymorphic_function/polymorphic_function.py:878\u001b[0m, in \u001b[0;36mFunction._call\u001b[0;34m(self, *args, **kwds)\u001b[0m\n\u001b[1;32m    875\u001b[0m \u001b[38;5;28mself\u001b[39m\u001b[38;5;241m.\u001b[39m_lock\u001b[38;5;241m.\u001b[39mrelease()\n\u001b[1;32m    876\u001b[0m \u001b[38;5;66;03m# In this case we have not created variables on the first call. So we can\u001b[39;00m\n\u001b[1;32m    877\u001b[0m \u001b[38;5;66;03m# run the first trace but we should fail if variables are created.\u001b[39;00m\n\u001b[0;32m--> 878\u001b[0m results \u001b[38;5;241m=\u001b[39m \u001b[43mtracing_compilation\u001b[49m\u001b[38;5;241;43m.\u001b[39;49m\u001b[43mcall_function\u001b[49m\u001b[43m(\u001b[49m\n\u001b[1;32m    879\u001b[0m \u001b[43m    \u001b[49m\u001b[43margs\u001b[49m\u001b[43m,\u001b[49m\u001b[43m \u001b[49m\u001b[43mkwds\u001b[49m\u001b[43m,\u001b[49m\u001b[43m \u001b[49m\u001b[38;5;28;43mself\u001b[39;49m\u001b[38;5;241;43m.\u001b[39;49m\u001b[43m_variable_creation_config\u001b[49m\n\u001b[1;32m    880\u001b[0m \u001b[43m\u001b[49m\u001b[43m)\u001b[49m\n\u001b[1;32m    881\u001b[0m \u001b[38;5;28;01mif\u001b[39;00m \u001b[38;5;28mself\u001b[39m\u001b[38;5;241m.\u001b[39m_created_variables:\n\u001b[1;32m    882\u001b[0m   \u001b[38;5;28;01mraise\u001b[39;00m \u001b[38;5;167;01mValueError\u001b[39;00m(\u001b[38;5;124m\"\u001b[39m\u001b[38;5;124mCreating variables on a non-first call to a function\u001b[39m\u001b[38;5;124m\"\u001b[39m\n\u001b[1;32m    883\u001b[0m                    \u001b[38;5;124m\"\u001b[39m\u001b[38;5;124m decorated with tf.function.\u001b[39m\u001b[38;5;124m\"\u001b[39m)\n",
      "File \u001b[0;32m~/kood/emotions-detector/facial_emotion_recognition/envs/emotion/lib/python3.11/site-packages/tensorflow/python/eager/polymorphic_function/tracing_compilation.py:138\u001b[0m, in \u001b[0;36mcall_function\u001b[0;34m(args, kwargs, tracing_options)\u001b[0m\n\u001b[1;32m    136\u001b[0m \u001b[38;5;66;03m# Bind it ourselves to skip unnecessary canonicalization of default call.\u001b[39;00m\n\u001b[1;32m    137\u001b[0m bound_args \u001b[38;5;241m=\u001b[39m function\u001b[38;5;241m.\u001b[39mfunction_type\u001b[38;5;241m.\u001b[39mbind(\u001b[38;5;241m*\u001b[39margs, \u001b[38;5;241m*\u001b[39m\u001b[38;5;241m*\u001b[39mkwargs)\n\u001b[0;32m--> 138\u001b[0m flat_inputs \u001b[38;5;241m=\u001b[39m \u001b[43mfunction\u001b[49m\u001b[38;5;241;43m.\u001b[39;49m\u001b[43mfunction_type\u001b[49m\u001b[38;5;241;43m.\u001b[39;49m\u001b[43munpack_inputs\u001b[49m\u001b[43m(\u001b[49m\u001b[43mbound_args\u001b[49m\u001b[43m)\u001b[49m\n\u001b[1;32m    139\u001b[0m \u001b[38;5;28;01mreturn\u001b[39;00m function\u001b[38;5;241m.\u001b[39m_call_flat(  \u001b[38;5;66;03m# pylint: disable=protected-access\u001b[39;00m\n\u001b[1;32m    140\u001b[0m     flat_inputs, captured_inputs\u001b[38;5;241m=\u001b[39mfunction\u001b[38;5;241m.\u001b[39mcaptured_inputs\n\u001b[1;32m    141\u001b[0m )\n",
      "File \u001b[0;32m~/kood/emotions-detector/facial_emotion_recognition/envs/emotion/lib/python3.11/site-packages/tensorflow/core/function/polymorphism/function_type.py:391\u001b[0m, in \u001b[0;36mFunctionType.unpack_inputs\u001b[0;34m(self, bound_parameters)\u001b[0m\n\u001b[1;32m    388\u001b[0m flat \u001b[38;5;241m=\u001b[39m []\n\u001b[1;32m    389\u001b[0m \u001b[38;5;28;01mfor\u001b[39;00m p \u001b[38;5;129;01min\u001b[39;00m sorted_parameters:\n\u001b[1;32m    390\u001b[0m   flat\u001b[38;5;241m.\u001b[39mextend(\n\u001b[0;32m--> 391\u001b[0m       \u001b[43mp\u001b[49m\u001b[38;5;241;43m.\u001b[39;49m\u001b[43mtype_constraint\u001b[49m\u001b[38;5;241;43m.\u001b[39;49m\u001b[43mto_tensors\u001b[49m\u001b[43m(\u001b[49m\u001b[43mbound_parameters\u001b[49m\u001b[38;5;241;43m.\u001b[39;49m\u001b[43marguments\u001b[49m\u001b[43m[\u001b[49m\u001b[43mp\u001b[49m\u001b[38;5;241;43m.\u001b[39;49m\u001b[43mname\u001b[49m\u001b[43m]\u001b[49m\u001b[43m)\u001b[49m\n\u001b[1;32m    392\u001b[0m   )\n\u001b[1;32m    394\u001b[0m dealiased_inputs \u001b[38;5;241m=\u001b[39m []\n\u001b[1;32m    395\u001b[0m ids_used \u001b[38;5;241m=\u001b[39m \u001b[38;5;28mset\u001b[39m()\n",
      "File \u001b[0;32m~/kood/emotions-detector/facial_emotion_recognition/envs/emotion/lib/python3.11/site-packages/tensorflow/python/framework/type_spec.py:251\u001b[0m, in \u001b[0;36mTypeSpec.to_tensors\u001b[0;34m(self, value)\u001b[0m\n\u001b[1;32m    248\u001b[0m \u001b[38;5;250m\u001b[39m\u001b[38;5;124;03m\"\"\"See TraceType base class for details. Do not override.\"\"\"\u001b[39;00m\n\u001b[1;32m    250\u001b[0m tensors \u001b[38;5;241m=\u001b[39m []\n\u001b[0;32m--> 251\u001b[0m \u001b[43mnest\u001b[49m\u001b[38;5;241;43m.\u001b[39;49m\u001b[43mmap_structure\u001b[49m\u001b[43m(\u001b[49m\n\u001b[1;32m    252\u001b[0m \u001b[43m    \u001b[49m\u001b[38;5;28;43;01mlambda\u001b[39;49;00m\u001b[43m \u001b[49m\u001b[43mspec\u001b[49m\u001b[43m,\u001b[49m\u001b[43m \u001b[49m\u001b[43mv\u001b[49m\u001b[43m:\u001b[49m\u001b[43m \u001b[49m\u001b[43mtensors\u001b[49m\u001b[38;5;241;43m.\u001b[39;49m\u001b[43mextend\u001b[49m\u001b[43m(\u001b[49m\u001b[43mspec\u001b[49m\u001b[38;5;241;43m.\u001b[39;49m\u001b[43mto_tensors\u001b[49m\u001b[43m(\u001b[49m\u001b[43mv\u001b[49m\u001b[43m)\u001b[49m\u001b[43m)\u001b[49m\u001b[43m,\u001b[49m\n\u001b[1;32m    253\u001b[0m \u001b[43m    \u001b[49m\u001b[38;5;28;43mself\u001b[39;49m\u001b[38;5;241;43m.\u001b[39;49m\u001b[43m_component_specs\u001b[49m\u001b[43m,\u001b[49m\n\u001b[1;32m    254\u001b[0m \u001b[43m    \u001b[49m\u001b[38;5;28;43mself\u001b[39;49m\u001b[38;5;241;43m.\u001b[39;49m\u001b[43m_to_components\u001b[49m\u001b[43m(\u001b[49m\u001b[43mvalue\u001b[49m\u001b[43m)\u001b[49m\u001b[43m)\u001b[49m\n\u001b[1;32m    255\u001b[0m \u001b[38;5;28;01mreturn\u001b[39;00m tensors\n",
      "File \u001b[0;32m~/kood/emotions-detector/facial_emotion_recognition/envs/emotion/lib/python3.11/site-packages/tensorflow/python/util/nest.py:628\u001b[0m, in \u001b[0;36mmap_structure\u001b[0;34m(func, *structure, **kwargs)\u001b[0m\n\u001b[1;32m    542\u001b[0m \u001b[38;5;129m@tf_export\u001b[39m(\u001b[38;5;124m\"\u001b[39m\u001b[38;5;124mnest.map_structure\u001b[39m\u001b[38;5;124m\"\u001b[39m)\n\u001b[1;32m    543\u001b[0m \u001b[38;5;28;01mdef\u001b[39;00m \u001b[38;5;21mmap_structure\u001b[39m(func, \u001b[38;5;241m*\u001b[39mstructure, \u001b[38;5;241m*\u001b[39m\u001b[38;5;241m*\u001b[39mkwargs):\n\u001b[1;32m    544\u001b[0m \u001b[38;5;250m  \u001b[39m\u001b[38;5;124;03m\"\"\"Creates a new structure by applying `func` to each atom in `structure`.\u001b[39;00m\n\u001b[1;32m    545\u001b[0m \n\u001b[1;32m    546\u001b[0m \u001b[38;5;124;03m  Refer to [tf.nest](https://www.tensorflow.org/api_docs/python/tf/nest)\u001b[39;00m\n\u001b[0;32m   (...)\u001b[0m\n\u001b[1;32m    626\u001b[0m \u001b[38;5;124;03m    ValueError: If wrong keyword arguments are provided.\u001b[39;00m\n\u001b[1;32m    627\u001b[0m \u001b[38;5;124;03m  \"\"\"\u001b[39;00m\n\u001b[0;32m--> 628\u001b[0m   \u001b[38;5;28;01mreturn\u001b[39;00m \u001b[43mnest_util\u001b[49m\u001b[38;5;241;43m.\u001b[39;49m\u001b[43mmap_structure\u001b[49m\u001b[43m(\u001b[49m\n\u001b[1;32m    629\u001b[0m \u001b[43m      \u001b[49m\u001b[43mnest_util\u001b[49m\u001b[38;5;241;43m.\u001b[39;49m\u001b[43mModality\u001b[49m\u001b[38;5;241;43m.\u001b[39;49m\u001b[43mCORE\u001b[49m\u001b[43m,\u001b[49m\u001b[43m \u001b[49m\u001b[43mfunc\u001b[49m\u001b[43m,\u001b[49m\u001b[43m \u001b[49m\u001b[38;5;241;43m*\u001b[39;49m\u001b[43mstructure\u001b[49m\u001b[43m,\u001b[49m\u001b[43m \u001b[49m\u001b[38;5;241;43m*\u001b[39;49m\u001b[38;5;241;43m*\u001b[39;49m\u001b[43mkwargs\u001b[49m\n\u001b[1;32m    630\u001b[0m \u001b[43m  \u001b[49m\u001b[43m)\u001b[49m\n",
      "File \u001b[0;32m~/kood/emotions-detector/facial_emotion_recognition/envs/emotion/lib/python3.11/site-packages/tensorflow/python/util/nest_util.py:1065\u001b[0m, in \u001b[0;36mmap_structure\u001b[0;34m(modality, func, *structure, **kwargs)\u001b[0m\n\u001b[1;32m    968\u001b[0m \u001b[38;5;250m\u001b[39m\u001b[38;5;124;03m\"\"\"Creates a new structure by applying `func` to each atom in `structure`.\u001b[39;00m\n\u001b[1;32m    969\u001b[0m \n\u001b[1;32m    970\u001b[0m \u001b[38;5;124;03m- For Modality.CORE: Refer to\u001b[39;00m\n\u001b[0;32m   (...)\u001b[0m\n\u001b[1;32m   1062\u001b[0m \u001b[38;5;124;03m  ValueError: If wrong keyword arguments are provided.\u001b[39;00m\n\u001b[1;32m   1063\u001b[0m \u001b[38;5;124;03m\"\"\"\u001b[39;00m\n\u001b[1;32m   1064\u001b[0m \u001b[38;5;28;01mif\u001b[39;00m modality \u001b[38;5;241m==\u001b[39m Modality\u001b[38;5;241m.\u001b[39mCORE:\n\u001b[0;32m-> 1065\u001b[0m   \u001b[38;5;28;01mreturn\u001b[39;00m \u001b[43m_tf_core_map_structure\u001b[49m\u001b[43m(\u001b[49m\u001b[43mfunc\u001b[49m\u001b[43m,\u001b[49m\u001b[43m \u001b[49m\u001b[38;5;241;43m*\u001b[39;49m\u001b[43mstructure\u001b[49m\u001b[43m,\u001b[49m\u001b[43m \u001b[49m\u001b[38;5;241;43m*\u001b[39;49m\u001b[38;5;241;43m*\u001b[39;49m\u001b[43mkwargs\u001b[49m\u001b[43m)\u001b[49m\n\u001b[1;32m   1066\u001b[0m \u001b[38;5;28;01melif\u001b[39;00m modality \u001b[38;5;241m==\u001b[39m Modality\u001b[38;5;241m.\u001b[39mDATA:\n\u001b[1;32m   1067\u001b[0m   \u001b[38;5;28;01mreturn\u001b[39;00m _tf_data_map_structure(func, \u001b[38;5;241m*\u001b[39mstructure, \u001b[38;5;241m*\u001b[39m\u001b[38;5;241m*\u001b[39mkwargs)\n",
      "File \u001b[0;32m~/kood/emotions-detector/facial_emotion_recognition/envs/emotion/lib/python3.11/site-packages/tensorflow/python/util/nest_util.py:1103\u001b[0m, in \u001b[0;36m_tf_core_map_structure\u001b[0;34m(func, *structure, **kwargs)\u001b[0m\n\u001b[1;32m   1100\u001b[0m flat_structure \u001b[38;5;241m=\u001b[39m (_tf_core_flatten(s, expand_composites) \u001b[38;5;28;01mfor\u001b[39;00m s \u001b[38;5;129;01min\u001b[39;00m structure)\n\u001b[1;32m   1101\u001b[0m entries \u001b[38;5;241m=\u001b[39m \u001b[38;5;28mzip\u001b[39m(\u001b[38;5;241m*\u001b[39mflat_structure)\n\u001b[0;32m-> 1103\u001b[0m \u001b[38;5;28;01mreturn\u001b[39;00m \u001b[43m_tf_core_pack_sequence_as\u001b[49m\u001b[43m(\u001b[49m\n\u001b[1;32m   1104\u001b[0m \u001b[43m    \u001b[49m\u001b[43mstructure\u001b[49m\u001b[43m[\u001b[49m\u001b[38;5;241;43m0\u001b[39;49m\u001b[43m]\u001b[49m\u001b[43m,\u001b[49m\n\u001b[1;32m   1105\u001b[0m \u001b[43m    \u001b[49m\u001b[43m[\u001b[49m\u001b[43mfunc\u001b[49m\u001b[43m(\u001b[49m\u001b[38;5;241;43m*\u001b[39;49m\u001b[43mx\u001b[49m\u001b[43m)\u001b[49m\u001b[43m \u001b[49m\u001b[38;5;28;43;01mfor\u001b[39;49;00m\u001b[43m \u001b[49m\u001b[43mx\u001b[49m\u001b[43m \u001b[49m\u001b[38;5;129;43;01min\u001b[39;49;00m\u001b[43m \u001b[49m\u001b[43mentries\u001b[49m\u001b[43m]\u001b[49m\u001b[43m,\u001b[49m\n\u001b[1;32m   1106\u001b[0m \u001b[43m    \u001b[49m\u001b[43mexpand_composites\u001b[49m\u001b[38;5;241;43m=\u001b[39;49m\u001b[43mexpand_composites\u001b[49m\u001b[43m,\u001b[49m\n\u001b[1;32m   1107\u001b[0m \u001b[43m\u001b[49m\u001b[43m)\u001b[49m\n",
      "File \u001b[0;32m~/kood/emotions-detector/facial_emotion_recognition/envs/emotion/lib/python3.11/site-packages/tensorflow/python/util/nest_util.py:919\u001b[0m, in \u001b[0;36m_tf_core_pack_sequence_as\u001b[0;34m(structure, flat_sequence, expand_composites, sequence_fn)\u001b[0m\n\u001b[1;32m    912\u001b[0m   \u001b[38;5;28;01mif\u001b[39;00m \u001b[38;5;28mlen\u001b[39m(flat_structure) \u001b[38;5;241m!=\u001b[39m \u001b[38;5;28mlen\u001b[39m(flat_sequence):\n\u001b[1;32m    913\u001b[0m     \u001b[38;5;66;03m# pylint: disable=raise-missing-from\u001b[39;00m\n\u001b[1;32m    914\u001b[0m     \u001b[38;5;28;01mraise\u001b[39;00m \u001b[38;5;167;01mValueError\u001b[39;00m(\n\u001b[1;32m    915\u001b[0m         \u001b[38;5;124m\"\u001b[39m\u001b[38;5;124mCould not pack sequence. Structure had \u001b[39m\u001b[38;5;132;01m%d\u001b[39;00m\u001b[38;5;124m atoms, but \u001b[39m\u001b[38;5;124m\"\u001b[39m\n\u001b[1;32m    916\u001b[0m         \u001b[38;5;124m\"\u001b[39m\u001b[38;5;124mflat_sequence had \u001b[39m\u001b[38;5;132;01m%d\u001b[39;00m\u001b[38;5;124m items.  Structure: \u001b[39m\u001b[38;5;132;01m%s\u001b[39;00m\u001b[38;5;124m, flat_sequence: \u001b[39m\u001b[38;5;132;01m%s\u001b[39;00m\u001b[38;5;124m.\u001b[39m\u001b[38;5;124m\"\u001b[39m\n\u001b[1;32m    917\u001b[0m         \u001b[38;5;241m%\u001b[39m (\u001b[38;5;28mlen\u001b[39m(flat_structure), \u001b[38;5;28mlen\u001b[39m(flat_sequence), structure, flat_sequence)\n\u001b[1;32m    918\u001b[0m     )\n\u001b[0;32m--> 919\u001b[0m \u001b[38;5;28;01mreturn\u001b[39;00m \u001b[43msequence_fn\u001b[49m\u001b[43m(\u001b[49m\u001b[43mstructure\u001b[49m\u001b[43m,\u001b[49m\u001b[43m \u001b[49m\u001b[43mpacked\u001b[49m\u001b[43m)\u001b[49m\n",
      "File \u001b[0;32m~/kood/emotions-detector/facial_emotion_recognition/envs/emotion/lib/python3.11/site-packages/tensorflow/python/util/nest_util.py:244\u001b[0m, in \u001b[0;36msequence_like\u001b[0;34m(instance, args)\u001b[0m\n\u001b[1;32m    240\u001b[0m \u001b[38;5;28;01melif\u001b[39;00m \u001b[38;5;28misinstance\u001b[39m(instance, _wrapt\u001b[38;5;241m.\u001b[39mObjectProxy):\n\u001b[1;32m    241\u001b[0m   \u001b[38;5;66;03m# For object proxies, first create the underlying type and then re-wrap it\u001b[39;00m\n\u001b[1;32m    242\u001b[0m   \u001b[38;5;66;03m# in the proxy type.\u001b[39;00m\n\u001b[1;32m    243\u001b[0m   \u001b[38;5;28;01mreturn\u001b[39;00m \u001b[38;5;28mtype\u001b[39m(instance)(sequence_like(instance\u001b[38;5;241m.\u001b[39m__wrapped__, args))\n\u001b[0;32m--> 244\u001b[0m \u001b[38;5;28;01melif\u001b[39;00m \u001b[38;5;28misinstance\u001b[39m(instance, CustomNestProtocol):\n\u001b[1;32m    245\u001b[0m   metadata \u001b[38;5;241m=\u001b[39m instance\u001b[38;5;241m.\u001b[39m__tf_flatten__()[\u001b[38;5;241m0\u001b[39m]\n\u001b[1;32m    246\u001b[0m   \u001b[38;5;28;01mreturn\u001b[39;00m instance\u001b[38;5;241m.\u001b[39m__tf_unflatten__(metadata, \u001b[38;5;28mtuple\u001b[39m(args))\n",
      "File \u001b[0;32m~/kood/emotions-detector/facial_emotion_recognition/envs/emotion/lib/python3.11/typing.py:2002\u001b[0m, in \u001b[0;36m_ProtocolMeta.__instancecheck__\u001b[0;34m(cls, instance)\u001b[0m\n\u001b[1;32m   1993\u001b[0m \u001b[38;5;28;01mif\u001b[39;00m (\n\u001b[1;32m   1994\u001b[0m     \u001b[38;5;28mgetattr\u001b[39m(\u001b[38;5;28mcls\u001b[39m, \u001b[38;5;124m'\u001b[39m\u001b[38;5;124m_is_protocol\u001b[39m\u001b[38;5;124m'\u001b[39m, \u001b[38;5;28;01mFalse\u001b[39;00m) \u001b[38;5;129;01mand\u001b[39;00m\n\u001b[1;32m   1995\u001b[0m     \u001b[38;5;129;01mnot\u001b[39;00m \u001b[38;5;28mgetattr\u001b[39m(\u001b[38;5;28mcls\u001b[39m, \u001b[38;5;124m'\u001b[39m\u001b[38;5;124m_is_runtime_protocol\u001b[39m\u001b[38;5;124m'\u001b[39m, \u001b[38;5;28;01mFalse\u001b[39;00m) \u001b[38;5;129;01mand\u001b[39;00m\n\u001b[1;32m   1996\u001b[0m     \u001b[38;5;129;01mnot\u001b[39;00m _allow_reckless_class_checks(depth\u001b[38;5;241m=\u001b[39m\u001b[38;5;241m2\u001b[39m)\n\u001b[1;32m   1997\u001b[0m ):\n\u001b[1;32m   1998\u001b[0m     \u001b[38;5;28;01mraise\u001b[39;00m \u001b[38;5;167;01mTypeError\u001b[39;00m(\u001b[38;5;124m\"\u001b[39m\u001b[38;5;124mInstance and class checks can only be used with\u001b[39m\u001b[38;5;124m\"\u001b[39m\n\u001b[1;32m   1999\u001b[0m                     \u001b[38;5;124m\"\u001b[39m\u001b[38;5;124m @runtime_checkable protocols\u001b[39m\u001b[38;5;124m\"\u001b[39m)\n\u001b[1;32m   2001\u001b[0m \u001b[38;5;28;01mif\u001b[39;00m ((\u001b[38;5;129;01mnot\u001b[39;00m \u001b[38;5;28mgetattr\u001b[39m(\u001b[38;5;28mcls\u001b[39m, \u001b[38;5;124m'\u001b[39m\u001b[38;5;124m_is_protocol\u001b[39m\u001b[38;5;124m'\u001b[39m, \u001b[38;5;28;01mFalse\u001b[39;00m) \u001b[38;5;129;01mor\u001b[39;00m\n\u001b[0;32m-> 2002\u001b[0m         \u001b[43m_is_callable_members_only\u001b[49m\u001b[43m(\u001b[49m\u001b[38;5;28;43mcls\u001b[39;49m\u001b[43m)\u001b[49m) \u001b[38;5;129;01mand\u001b[39;00m\n\u001b[1;32m   2003\u001b[0m         \u001b[38;5;28missubclass\u001b[39m(instance\u001b[38;5;241m.\u001b[39m\u001b[38;5;18m__class__\u001b[39m, \u001b[38;5;28mcls\u001b[39m)):\n\u001b[1;32m   2004\u001b[0m     \u001b[38;5;28;01mreturn\u001b[39;00m \u001b[38;5;28;01mTrue\u001b[39;00m\n\u001b[1;32m   2005\u001b[0m \u001b[38;5;28;01mif\u001b[39;00m \u001b[38;5;28mcls\u001b[39m\u001b[38;5;241m.\u001b[39m_is_protocol:\n",
      "File \u001b[0;32m~/kood/emotions-detector/facial_emotion_recognition/envs/emotion/lib/python3.11/typing.py:1930\u001b[0m, in \u001b[0;36m_is_callable_members_only\u001b[0;34m(cls)\u001b[0m\n\u001b[1;32m   1928\u001b[0m \u001b[38;5;28;01mdef\u001b[39;00m \u001b[38;5;21m_is_callable_members_only\u001b[39m(\u001b[38;5;28mcls\u001b[39m):\n\u001b[1;32m   1929\u001b[0m     \u001b[38;5;66;03m# PEP 544 prohibits using issubclass() with protocols that have non-method members.\u001b[39;00m\n\u001b[0;32m-> 1930\u001b[0m     \u001b[38;5;28;01mreturn\u001b[39;00m \u001b[38;5;28mall\u001b[39m(\u001b[38;5;28mcallable\u001b[39m(\u001b[38;5;28mgetattr\u001b[39m(\u001b[38;5;28mcls\u001b[39m, attr, \u001b[38;5;28;01mNone\u001b[39;00m)) \u001b[38;5;28;01mfor\u001b[39;00m attr \u001b[38;5;129;01min\u001b[39;00m \u001b[43m_get_protocol_attrs\u001b[49m\u001b[43m(\u001b[49m\u001b[38;5;28;43mcls\u001b[39;49m\u001b[43m)\u001b[49m)\n",
      "File \u001b[0;32m~/kood/emotions-detector/facial_emotion_recognition/envs/emotion/lib/python3.11/typing.py\u001b[0m, in \u001b[0;36m_get_protocol_attrs\u001b[0;34m(cls)\u001b[0m\n\u001b[1;32m      0\u001b[0m <Error retrieving source code with stack_data see ipython/ipython#13598>\n",
      "\u001b[0;31mKeyboardInterrupt\u001b[0m: "
     ]
    }
   ],
   "source": [
    "def test(\n",
    "    data_graph, \n",
    "    train_image_generator\n",
    "):\n",
    "    \n",
    "    data_graph, mutated_score= one_mutation_cycle(\n",
    "        data_graph=data_graph,\n",
    "        train_set_generator=train_image_generator,\n",
    "        validate_set_generator=validate_set_generator,\n",
    "        metric='val_accuracy', # | 'val_accuracy'\n",
    "    )\n",
    "    print(f\"{mutated_score = }\")\n",
    "for i in range(20):\n",
    "    test(data_graph,train_set_generator)"
   ]
  },
  {
   "cell_type": "code",
   "execution_count": null,
   "id": "b027ac02-a8da-4126-8b8f-c1bbc88559f6",
   "metadata": {
    "scrolled": true
   },
   "outputs": [],
   "source": [
    "draw_from_top_data_node(data_graph[0])"
   ]
  },
  {
   "cell_type": "code",
   "execution_count": null,
   "id": "6bc72291-609f-4799-aab7-240150d76470",
   "metadata": {},
   "outputs": [],
   "source": [
    "# from on sample of train and val set\n",
    "    # find \"best\" (| plateau | max) graph architecture  and metrics\n",
    "# redo with augmented data set\n",
    "    # get \"best architecture\" and metrics\n",
    "# if bestness-metric/sampling-size plateau\n",
    "    # test on test set\n",
    "        # good enough ?\n",
    "            # voila the data_graph !\n",
    "        # not good enough ?\n",
    "            # heuuu..."
   ]
  },
  {
   "cell_type": "code",
   "execution_count": null,
   "id": "e7e7cac5-1ae2-4d0c-a5f9-b197a62b3f36",
   "metadata": {},
   "outputs": [],
   "source": []
  }
 ],
 "metadata": {
  "kernelspec": {
   "display_name": "emotion_recognition",
   "language": "python",
   "name": "emotion_recognition"
  },
  "language_info": {
   "codemirror_mode": {
    "name": "ipython",
    "version": 3
   },
   "file_extension": ".py",
   "mimetype": "text/x-python",
   "name": "python",
   "nbconvert_exporter": "python",
   "pygments_lexer": "ipython3",
   "version": "3.11.7"
  }
 },
 "nbformat": 4,
 "nbformat_minor": 5
}
