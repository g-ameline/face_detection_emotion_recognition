{
 "cells": [
  {
   "cell_type": "markdown",
   "id": "668c2811-c4b1-4e90-83dc-3c7be50e7d47",
   "metadata": {},
   "source": [
    "# number recognition : MNIST"
   ]
  },
  {
   "cell_type": "markdown",
   "id": "8ee1525b-fdaf-444b-8966-f6df33dbe0ee",
   "metadata": {},
   "source": [
    "## get the data"
   ]
  },
  {
   "cell_type": "code",
   "execution_count": 1,
   "id": "8dd69102-a228-4bab-bc27-0ff4fa80c214",
   "metadata": {},
   "outputs": [],
   "source": [
    "# dowload links\n",
    "url_all_data = 'https://storage.googleapis.com/kaggle-competitions-data/kaggle-v2/3004/861823/bundle/archive.zip?GoogleAccessId=web-data@kaggle-161607.iam.gserviceaccount.com&Expires=1711345199&Signature=B9UkzxpDPgQR2HiHrSK%2F7PGKJ6ceU5KdYcO29A3EgUSJq4J%2BlAvDwUIRI05ykFXyEnNjJ7GsVVOYUEcfKyz2muGTcUDaoGsGWf8zfjkSr%2BFem2yVtXA9c6O5YUyPpts1PeBk9fE2Ukzjmd4zrpuaDh4Og%2F9pBwdU77544ZwPGOhPvoEndXHVJS0CK2Ncq0%2FW0zMcvBVVpNBLFZK8k6pYlGxo%2FqY99prg3DabL027qK9nsvaDIteTjrFdoha%2B7bpXPE5YiOIVZJd2XlEhhpzHInja4WRwh3UTQexE4C5ygIOcDFWVtfnZhfKWffUowgKlxJggmmuxEG4GYAoHnzaKeg%3D%3D&response-content-disposition=attachment%3B+filename%3Ddigit-recognizer.zip'\n",
    "url_train_data = 'https://storage.googleapis.com/kaggle-competitions-data/kaggle-v2/3004/861823/compressed/train.csv.zip?GoogleAccessId=web-data@kaggle-161607.iam.gserviceaccount.com&Expires=1711345117&Signature=hsZqRD5fO112M7XVa9LTifW94JIAhfkXhkTlFe5sVPGhUkK56moHfLW78evYgL9zO0I%2FP878OF5%2BsWknoTNnROXR%2BHEyFrUWDghVUtF4xiaO808VN4seKQpnwwSiG4KyGExwTSzEfSNO6cTCHRZAXh8dUogffGdb5EkENQHnBt1RWEla%2Foax3Nkd6LfewdEhH%2BAUaQ3kmvgpb%2Fq0bh9RUU9BPrzRs1D2Vya2v18UdLYMPGRaZ82mSt24clqVJ65xMQ0kOvV%2FofYmxQfXtTxEH2hcya5fTTFjtDuFyvwMX5l8L97bn3%2B8HcWLC%2BnRbueGHeJ3SO9rBKzJhRtcjRSkFQ%3D%3D&response-content-disposition=attachment%3B+filename%3Dtrain.csv.zip'\n",
    "url_test_data = 'https://storage.googleapis.com/kaggle-competitions-data/kaggle-v2/3004/861823/compressed/test.csv.zip?GoogleAccessId=web-data@kaggle-161607.iam.gserviceaccount.com&Expires=1711345154&Signature=aIiZ2JXBdjfl1vHM201ubmtoL8TAOjlnKvrkTiDqvsR2lvSdUezSlD3ZnDgT5oZ5FYtna%2FKwu0H5Wzd10aHOYnkJD%2FInry%2BnjbmIH7EtgfMEPwQDAamxwLXLBXEiyA2LBGAYtMB%2Be%2Bt1VFBW6f8NXv6rdRnVs7GuD5n6S3CnUfwHQ53ebveILyv8nYR6GMqimK367ZDPeoeEPP3KZtDyEIlQc0QtUhBNLb4gBq8AO2O6tS5bVe9rfK9WXaqa1uI8EgYv2mK4jZ4X9Q3fPg2W%2BQLpbl7ma1vbLcIbn3Cvb3H%2Br0LLX9THLJk2RdXsAEs8eI2M8I6Hz3sCFvKh772wJg%3D%3D&response-content-disposition=attachment%3B+filename%3Dtest.csv.zip'\n",
    "url_submission_sample_data = 'https://storage.googleapis.com/kagglesdsdata/competitions/3004/861823/sample_submission.csv?GoogleAccessId=web-data@kaggle-161607.iam.gserviceaccount.com&Expires=1711345174&Signature=BO2u5zFNxZTxcRu88Z3ycd3sUkU5Ahab7xnn2H6R%2FsCC1t56NOKbFeL8drdUEBPnTmvfz9%2BX2IMXdgMXIQvGapWBSiShAQ4KMCY7UynjR9nvr4rdr5I9GqjQ31TldWLGP7v1dLFr8WrbuYCNqcQmSmvhVsAjV%2BRh1r2VYP5G2DquqK2VKDxAv2C%2BuOTyOv6VQtBTomrXoO%2BY8ErpiUOYnai32RvRXeNT5JJFwKMeEOytwKQ5ZE5D8%2BDDdnbUk2B75aWiT%2FJOR%2Bn%2BFCJpSsng6DB2HXuRLbNconu5n9GVsffJMFp3qGjY9HsbZOHYRDaz%2BvEYSgi3QUqtAfMARt%2FiVg%3D%3D&response-content-disposition=attachment%3B+filename%3Dsample_submission.csv'"
   ]
  },
  {
   "cell_type": "code",
   "execution_count": 2,
   "id": "df08379a-2fa6-442f-9e8d-0d91d2f43e20",
   "metadata": {},
   "outputs": [],
   "source": [
    "digit_folder = '../data_digit_recognition/'"
   ]
  },
  {
   "cell_type": "code",
   "execution_count": 3,
   "id": "b5f0d245-b067-48a2-a780-cc29dee8d3c7",
   "metadata": {},
   "outputs": [],
   "source": [
    "def fetch_file_stream(url,filename,folder):\n",
    "    import requests\n",
    "    import os\n",
    "    path_destination = folder+filename\n",
    "    if not os.path.exists(folder):\n",
    "        os.makedirs(folder)\n",
    "    if not os.path.exists(path_destination):\n",
    "        response = requests.get(url,stream=True)\n",
    "        with open(path_destination, 'wb') as file_destination:\n",
    "            for chunk in response.iter_content(chunk_size=128):\n",
    "                file_destination.write(chunk)\n",
    "\n",
    "\n",
    "def unzip_files(zipped_filepath,destination_folder):\n",
    "    import zipfile\n",
    "    with zipfile.ZipFile(zipped_filepath,\"r\") as zip_ref:\n",
    "        zip_ref.extractall(destination_folder)"
   ]
  },
  {
   "cell_type": "code",
   "execution_count": 4,
   "id": "52ac6840-0409-4a52-a5ff-0b17f6d4a947",
   "metadata": {},
   "outputs": [
    {
     "name": "stdout",
     "output_type": "stream",
     "text": [
      "total 138M\n",
      "drwxr-xr-x 1 wam wam  100 Mar 22 06:52 .\n",
      "drwxr-xr-x 1 wam wam  200 Mar 22 06:50 ..\n",
      "-rw-r--r-- 1 wam wam  16M Mar 22 06:51 all_data.zip\n",
      "-rw-r--r-- 1 wam wam 236K Mar 24 14:20 sample_submission.csv\n",
      "-rw-r--r-- 1 wam wam  49M Mar 24 14:20 test.csv\n",
      "-rw-r--r-- 1 wam wam  74M Mar 24 14:20 train.csv\n"
     ]
    }
   ],
   "source": [
    "all_data_filename = 'all_data.zip'\n",
    "fetch_file_stream(\n",
    "    url=url_all_data,\n",
    "    folder=digit_folder,\n",
    "    filename=all_data_filename,\n",
    ")\n",
    "unzip_files(\n",
    "    zipped_filepath=digit_folder+all_data_filename,\n",
    "    destination_folder=digit_folder,\n",
    ")\n",
    "\n",
    "!ls -lha {digit_folder}"
   ]
  },
  {
   "cell_type": "code",
   "execution_count": 5,
   "id": "5283ecaa-eb83-4572-a459-94735f1cf22b",
   "metadata": {},
   "outputs": [],
   "source": [
    "import pandas\n",
    "import numpy"
   ]
  },
  {
   "cell_type": "code",
   "execution_count": 6,
   "id": "89d57067-855b-49cd-8179-52de2e3787e2",
   "metadata": {},
   "outputs": [],
   "source": [
    "train_data_filepath = digit_folder+'train.csv'\n",
    "train_data = pandas.read_csv(\n",
    "    filepath_or_buffer=train_data_filepath,\n",
    "    sep=',',\n",
    "    low_memory=False,\n",
    "    dtype=numpy.ubyte,\n",
    ")"
   ]
  },
  {
   "cell_type": "code",
   "execution_count": 7,
   "id": "a50ec2a4-a7d6-418d-abbd-60ddbd1d62bc",
   "metadata": {},
   "outputs": [],
   "source": [
    "test_data_filepath = digit_folder+'test.csv'\n",
    "test_data = pandas.read_csv(\n",
    "    filepath_or_buffer=test_data_filepath,\n",
    "    sep=',',\n",
    "    low_memory=False,\n",
    "    dtype=numpy.ubyte,\n",
    ")"
   ]
  },
  {
   "cell_type": "code",
   "execution_count": 8,
   "id": "0aea47f6-bfd1-4bb5-ab9a-9dfc1a231d31",
   "metadata": {},
   "outputs": [],
   "source": [
    "xss_test = test_data"
   ]
  },
  {
   "cell_type": "code",
   "execution_count": 9,
   "id": "240f8a20-6201-4348-bd35-6f4dedb46ab3",
   "metadata": {},
   "outputs": [],
   "source": [
    "del test_data"
   ]
  },
  {
   "cell_type": "code",
   "execution_count": 10,
   "id": "c677ec47-49f2-4dd0-9e55-008b992c10b1",
   "metadata": {},
   "outputs": [],
   "source": [
    "ys_train = train_data['label']\n",
    "xss_train = train_data.drop(['label'],axis=1)"
   ]
  },
  {
   "cell_type": "code",
   "execution_count": 11,
   "id": "33bc1db9-41a8-4b1c-b8fc-df8cf7daa318",
   "metadata": {},
   "outputs": [],
   "source": [
    "# del train_data"
   ]
  },
  {
   "cell_type": "code",
   "execution_count": 12,
   "id": "132ffa1d-0dda-4114-8f53-b5774d7dafda",
   "metadata": {},
   "outputs": [],
   "source": [
    "xss_train_normalized = (xss_train/255).astype(numpy.float16)"
   ]
  },
  {
   "cell_type": "code",
   "execution_count": 13,
   "id": "aa4e1cc7-da8a-43fd-8b95-ea4a578c49a0",
   "metadata": {},
   "outputs": [],
   "source": [
    "# del xss_train"
   ]
  },
  {
   "cell_type": "code",
   "execution_count": 14,
   "id": "072d2216-ee18-42d3-bb5d-372eab67ba27",
   "metadata": {},
   "outputs": [],
   "source": [
    "xss_test_normalized = (xss_test/255).astype(numpy.float16)"
   ]
  },
  {
   "cell_type": "code",
   "execution_count": 15,
   "id": "032b81f1-474c-40c6-9d66-555017428b7a",
   "metadata": {},
   "outputs": [],
   "source": [
    "# del xss_test"
   ]
  },
  {
   "cell_type": "code",
   "execution_count": 16,
   "id": "29975716-c1e4-47e7-b47a-003572b322a8",
   "metadata": {},
   "outputs": [
    {
     "data": {
      "text/plain": [
       "(42000, 28, 28, 1)"
      ]
     },
     "execution_count": 16,
     "metadata": {},
     "output_type": "execute_result"
    }
   ],
   "source": [
    "xss_train_reshaped = xss_train_normalized.values.reshape(xss_train_normalized.shape[0], 28, 28,1)\n",
    "xss_train_reshaped.shape"
   ]
  },
  {
   "cell_type": "code",
   "execution_count": 17,
   "id": "2a92fc13-0569-4bff-83a8-42d7f9184939",
   "metadata": {},
   "outputs": [],
   "source": [
    "# del xss_train_normalized"
   ]
  },
  {
   "cell_type": "code",
   "execution_count": 18,
   "id": "ed6a8056-d158-4da5-8ddd-a5f125c2b941",
   "metadata": {},
   "outputs": [],
   "source": [
    "xss_test_reshaped = xss_test_normalized.values.reshape(xss_test_normalized.shape[0], 28, 28,1)\n",
    "del xss_test_normalized"
   ]
  },
  {
   "cell_type": "code",
   "execution_count": 19,
   "id": "f0ea835b-be1f-4cc1-baa5-318113f48365",
   "metadata": {},
   "outputs": [
    {
     "name": "stderr",
     "output_type": "stream",
     "text": [
      "2024-03-24 14:20:56.818399: I tensorflow/core/util/port.cc:113] oneDNN custom operations are on. You may see slightly different numerical results due to floating-point round-off errors from different computation orders. To turn them off, set the environment variable `TF_ENABLE_ONEDNN_OPTS=0`.\n",
      "2024-03-24 14:20:56.927038: I tensorflow/core/platform/cpu_feature_guard.cc:182] This TensorFlow binary is optimized to use available CPU instructions in performance-critical operations.\n",
      "To enable the following instructions: SSE4.1 SSE4.2 AVX AVX2 AVX512F AVX512_VNNI FMA, in other operations, rebuild TensorFlow with the appropriate compiler flags.\n"
     ]
    }
   ],
   "source": [
    "from tensorflow.keras.utils import to_categorical\n",
    "ys_train_one_hot_encoded = to_categorical(ys_train,num_classes=10)"
   ]
  },
  {
   "cell_type": "code",
   "execution_count": 20,
   "id": "4066add1-3acc-4674-8e9f-2aabcd69365b",
   "metadata": {},
   "outputs": [],
   "source": [
    "\n",
    "\n",
    "def baseline_model(single_input_shape, number_node_output):\n",
    "    from keras.models import Model\n",
    "    from keras import layers\n",
    "    inputs = layers.Input(shape=single_input_shape)\n",
    "    \n",
    "    hidden_layer = layers.Conv2D(32, (5, 5), activation='relu')(inputs)\n",
    "    hidden_layer = layers.MaxPooling2D(pool_size=(2, 2))(hidden_layer)\n",
    "    hidden_layer = layers.Dropout(0.2)(hidden_layer)\n",
    "    hidden_layer = layers.Flatten()(hidden_layer)\n",
    "    hidden_layer = layers.Dense(128, activation='relu')(hidden_layer)\n",
    "    \n",
    "    outputs = layers.Dense(number_node_output, activation='softmax')(hidden_layer)\n",
    "    model = Model(inputs=inputs, outputs=outputs)\n",
    "    model.compile(loss='categorical_crossentropy', optimizer='adam', metrics=['accuracy'])\n",
    "\n",
    "    return model"
   ]
  },
  {
   "cell_type": "code",
   "execution_count": 21,
   "id": "3f88931e-faf4-416c-8288-e8ce5cd97407",
   "metadata": {},
   "outputs": [],
   "source": [
    "model = baseline_model(xss_train_reshaped.shape[1:], ys_train_one_hot_encoded.shape[1:][0])"
   ]
  },
  {
   "cell_type": "code",
   "execution_count": 22,
   "id": "faa085f1-ce2a-4f48-8195-e3a6ffba3695",
   "metadata": {},
   "outputs": [],
   "source": [
    "model.compile(loss='categorical_crossentropy', optimizer='adam')"
   ]
  },
  {
   "cell_type": "code",
   "execution_count": 23,
   "id": "e5d4c5bc-ff85-4873-a20e-2d7ff3110931",
   "metadata": {},
   "outputs": [
    {
     "data": {
      "text/plain": [
       "<KerasTensor: shape=(None, 28, 28, 1) dtype=float32 (created by layer 'input_1')>"
      ]
     },
     "execution_count": 23,
     "metadata": {},
     "output_type": "execute_result"
    }
   ],
   "source": [
    "model.input"
   ]
  },
  {
   "cell_type": "code",
   "execution_count": 24,
   "id": "a7c02061-dc8c-41fe-85ab-dafeefbcebe7",
   "metadata": {},
   "outputs": [],
   "source": [
    "from sklearn.model_selection import train_test_split\n",
    "xss_learn, xss_validation, ys_learn, ys_validation = train_test_split(\n",
    "    xss_train_reshaped, \n",
    "    ys_train_one_hot_encoded, \n",
    "    test_size=0.1, \n",
    "    stratify=ys_train_one_hot_encoded, \n",
    "    random_state=42\n",
    ")"
   ]
  },
  {
   "cell_type": "code",
   "execution_count": 25,
   "id": "c8036bc8-b31f-4de2-b0c2-75e9b1aea234",
   "metadata": {},
   "outputs": [
    {
     "data": {
      "text/plain": [
       "(42000, 28, 28, 1)"
      ]
     },
     "execution_count": 25,
     "metadata": {},
     "output_type": "execute_result"
    }
   ],
   "source": [
    "xss_train_reshaped.shape"
   ]
  },
  {
   "cell_type": "code",
   "execution_count": 26,
   "id": "b60b6665-f600-4213-892c-fb7eb55ef5b8",
   "metadata": {},
   "outputs": [
    {
     "data": {
      "text/plain": [
       "(37800, 28, 28, 1)"
      ]
     },
     "execution_count": 26,
     "metadata": {},
     "output_type": "execute_result"
    }
   ],
   "source": [
    "xss_learn.shape"
   ]
  },
  {
   "cell_type": "code",
   "execution_count": 27,
   "id": "b55c58b9-c9bf-4bc9-8fc0-f670d0626c3c",
   "metadata": {},
   "outputs": [
    {
     "data": {
      "text/plain": [
       "(42000, 10)"
      ]
     },
     "execution_count": 27,
     "metadata": {},
     "output_type": "execute_result"
    }
   ],
   "source": [
    "ys_train_one_hot_encoded.shape"
   ]
  },
  {
   "cell_type": "code",
   "execution_count": 28,
   "id": "6125bdf5-db84-49ad-b3d0-503fbc4a10c9",
   "metadata": {},
   "outputs": [
    {
     "name": "stdout",
     "output_type": "stream",
     "text": [
      "Epoch 1/2\n",
      "525/525 [==============================] - 3s 6ms/step - loss: 0.2253 - val_loss: 0.0804\n",
      "Epoch 2/2\n",
      "525/525 [==============================] - 3s 6ms/step - loss: 0.0689 - val_loss: 0.0612\n"
     ]
    }
   ],
   "source": [
    "history = model.fit(x=xss_train_reshaped, y=ys_train_one_hot_encoded, batch_size=64, epochs=2, validation_split=0.2)"
   ]
  },
  {
   "cell_type": "code",
   "execution_count": 29,
   "id": "dd57c654-bc2a-4fe4-9d28-39acf6d124a2",
   "metadata": {},
   "outputs": [
    {
     "data": {
      "image/png": "[encoded data removed]",
      "text/plain": [
       "<IPython.core.display.Image object>"
      ]
     },
     "execution_count": 29,
     "metadata": {},
     "output_type": "execute_result"
    }
   ],
   "source": [
    "from tensorflow import keras\n",
    "import pydot\n",
    "keras.utils.plot_model(model)"
   ]
  },
  {
   "cell_type": "code",
   "execution_count": 30,
   "id": "6bebe5be-2ae3-4230-a9ed-53239e04bd87",
   "metadata": {},
   "outputs": [
    {
     "name": "stdout",
     "output_type": "stream",
     "text": [
      "875/875 [==============================] - 1s 1ms/step\n"
     ]
    }
   ],
   "source": [
    "ys_test_predicted = model.predict(xss_test_reshaped)"
   ]
  },
  {
   "cell_type": "code",
   "execution_count": 33,
   "id": "5d8439e8-361f-45e4-82a8-e311ceb45497",
   "metadata": {},
   "outputs": [
    {
     "data": {
      "text/plain": [
       "(28000, 10)"
      ]
     },
     "execution_count": 33,
     "metadata": {},
     "output_type": "execute_result"
    }
   ],
   "source": [
    "ys_test_predicted.shape"
   ]
  },
  {
   "cell_type": "code",
   "execution_count": 34,
   "id": "b3bf15f7-416e-4bef-91bb-e125e6263015",
   "metadata": {},
   "outputs": [],
   "source": [
    "result = numpy.argmax(ys_test_predicted, axis=1)"
   ]
  },
  {
   "cell_type": "code",
   "execution_count": 35,
   "id": "67ff894c-d0d0-4f06-85a4-35ea35280f46",
   "metadata": {},
   "outputs": [
    {
     "data": {
      "text/plain": [
       "array([2, 0, 9, 9, 3, 7, 0, 3, 0, 3])"
      ]
     },
     "execution_count": 35,
     "metadata": {},
     "output_type": "execute_result"
    }
   ],
   "source": [
    "result[:10]"
   ]
  },
  {
   "cell_type": "code",
   "execution_count": 37,
   "id": "d4752bb2-de04-423c-961c-c36254a333fa",
   "metadata": {},
   "outputs": [
    {
     "data": {
      "text/plain": [
       "(28000, 28, 28, 1)"
      ]
     },
     "execution_count": 37,
     "metadata": {},
     "output_type": "execute_result"
    }
   ],
   "source": [
    "xss_test_reshaped.shape[0]"
   ]
  },
  {
   "cell_type": "code",
   "execution_count": 41,
   "id": "a8425d7b-8f78-42a2-8ca4-9ea742add0be",
   "metadata": {},
   "outputs": [],
   "source": [
    "submission_sample_filepath = digit_folder+'sample_submission.csv'\n",
    "submission_example_data = pandas.read_csv(\n",
    "    filepath_or_buffer=submission_sample_filepath,\n",
    "    sep=',',\n",
    "    low_memory=False,\n",
    "    dtype=numpy.ubyte,\n",
    ")"
   ]
  },
  {
   "cell_type": "code",
   "execution_count": 58,
   "id": "50dff2eb-c53e-4aad-82a9-8c233fa3ba7c",
   "metadata": {},
   "outputs": [],
   "source": [
    "submission_data = submission_example_data[:0]"
   ]
  },
  {
   "cell_type": "code",
   "execution_count": 68,
   "id": "ef457500-a47c-4c65-8561-79e06f428f08",
   "metadata": {},
   "outputs": [
    {
     "data": {
      "text/html": [
       "<div>\n",
       "<style scoped>\n",
       "    .dataframe tbody tr th:only-of-type {\n",
       "        vertical-align: middle;\n",
       "    }\n",
       "\n",
       "    .dataframe tbody tr th {\n",
       "        vertical-align: top;\n",
       "    }\n",
       "\n",
       "    .dataframe thead th {\n",
       "        text-align: right;\n",
       "    }\n",
       "</style>\n",
       "<table border=\"1\" class=\"dataframe\">\n",
       "  <thead>\n",
       "    <tr style=\"text-align: right;\">\n",
       "      <th></th>\n",
       "      <th>ImageId</th>\n",
       "      <th>Label</th>\n",
       "    </tr>\n",
       "  </thead>\n",
       "  <tbody>\n",
       "    <tr>\n",
       "      <th>0</th>\n",
       "      <td>1</td>\n",
       "      <td>2</td>\n",
       "    </tr>\n",
       "    <tr>\n",
       "      <th>1</th>\n",
       "      <td>2</td>\n",
       "      <td>0</td>\n",
       "    </tr>\n",
       "    <tr>\n",
       "      <th>2</th>\n",
       "      <td>3</td>\n",
       "      <td>9</td>\n",
       "    </tr>\n",
       "    <tr>\n",
       "      <th>3</th>\n",
       "      <td>4</td>\n",
       "      <td>9</td>\n",
       "    </tr>\n",
       "    <tr>\n",
       "      <th>4</th>\n",
       "      <td>5</td>\n",
       "      <td>3</td>\n",
       "    </tr>\n",
       "  </tbody>\n",
       "</table>\n",
       "</div>"
      ],
      "text/plain": [
       "   ImageId  Label\n",
       "0        1      2\n",
       "1        2      0\n",
       "2        3      9\n",
       "3        4      9\n",
       "4        5      3"
      ]
     },
     "execution_count": 68,
     "metadata": {},
     "output_type": "execute_result"
    }
   ],
   "source": [
    "submission_example_data.head()"
   ]
  },
  {
   "cell_type": "code",
   "execution_count": 59,
   "id": "8f012e4b-c69c-4d1d-9a16-658d28f45db9",
   "metadata": {},
   "outputs": [
    {
     "data": {
      "text/plain": [
       "Index(['ImageId', 'Label'], dtype='object')"
      ]
     },
     "execution_count": 59,
     "metadata": {},
     "output_type": "execute_result"
    }
   ],
   "source": [
    "submission_data.columns"
   ]
  },
  {
   "cell_type": "code",
   "execution_count": 71,
   "id": "f3d07430-396e-4216-8e2d-1a163d042259",
   "metadata": {},
   "outputs": [],
   "source": [
    "submission_data['ImageId'] = numpy.arange(1,result.shape[0]+1)"
   ]
  },
  {
   "cell_type": "code",
   "execution_count": 72,
   "id": "5d7c3e3a-cc80-4c2c-a6f7-1964aefc5edd",
   "metadata": {},
   "outputs": [],
   "source": [
    "submission_data['Label'] = result"
   ]
  },
  {
   "cell_type": "code",
   "execution_count": 73,
   "id": "aa82b7d5-d08d-48e6-b045-d33b25d5c322",
   "metadata": {},
   "outputs": [
    {
     "data": {
      "text/html": [
       "<div>\n",
       "<style scoped>\n",
       "    .dataframe tbody tr th:only-of-type {\n",
       "        vertical-align: middle;\n",
       "    }\n",
       "\n",
       "    .dataframe tbody tr th {\n",
       "        vertical-align: top;\n",
       "    }\n",
       "\n",
       "    .dataframe thead th {\n",
       "        text-align: right;\n",
       "    }\n",
       "</style>\n",
       "<table border=\"1\" class=\"dataframe\">\n",
       "  <thead>\n",
       "    <tr style=\"text-align: right;\">\n",
       "      <th></th>\n",
       "      <th>ImageId</th>\n",
       "      <th>Label</th>\n",
       "    </tr>\n",
       "  </thead>\n",
       "  <tbody>\n",
       "    <tr>\n",
       "      <th>0</th>\n",
       "      <td>1</td>\n",
       "      <td>2</td>\n",
       "    </tr>\n",
       "    <tr>\n",
       "      <th>1</th>\n",
       "      <td>2</td>\n",
       "      <td>0</td>\n",
       "    </tr>\n",
       "    <tr>\n",
       "      <th>2</th>\n",
       "      <td>3</td>\n",
       "      <td>9</td>\n",
       "    </tr>\n",
       "    <tr>\n",
       "      <th>3</th>\n",
       "      <td>4</td>\n",
       "      <td>9</td>\n",
       "    </tr>\n",
       "    <tr>\n",
       "      <th>4</th>\n",
       "      <td>5</td>\n",
       "      <td>3</td>\n",
       "    </tr>\n",
       "  </tbody>\n",
       "</table>\n",
       "</div>"
      ],
      "text/plain": [
       "   ImageId  Label\n",
       "0        1      2\n",
       "1        2      0\n",
       "2        3      9\n",
       "3        4      9\n",
       "4        5      3"
      ]
     },
     "execution_count": 73,
     "metadata": {},
     "output_type": "execute_result"
    }
   ],
   "source": [
    "submission_data.head()"
   ]
  },
  {
   "cell_type": "code",
   "execution_count": 74,
   "id": "68195884-90ea-4984-9919-8ab2daab9673",
   "metadata": {},
   "outputs": [],
   "source": [
    "submission_data.to_csv(digit_folder+'submission.csv', index = False)"
   ]
  },
  {
   "cell_type": "code",
   "execution_count": 75,
   "id": "baa77311-9194-4ba2-94cc-a0dc652d41cb",
   "metadata": {},
   "outputs": [
    {
     "data": {
      "text/plain": [
       "array([    1,     2,     3, ..., 27998, 27999, 28000])"
      ]
     },
     "execution_count": 75,
     "metadata": {},
     "output_type": "execute_result"
    }
   ],
   "source": [
    "submission_data['ImageId'].unique()"
   ]
  },
  {
   "cell_type": "code",
   "execution_count": 1,
   "id": "9895d740-06d4-4054-a762-b9038d08422a",
   "metadata": {},
   "outputs": [],
   "source": [
    "# score after submission: 0.97707"
   ]
  },
  {
   "cell_type": "code",
   "execution_count": null,
   "id": "214cc71b-6de9-4037-9ec1-39b7ad47539c",
   "metadata": {},
   "outputs": [],
   "source": []
  }
 ],
 "metadata": {
  "kernelspec": {
   "display_name": "emotion",
   "language": "python",
   "name": "emotion"
  },
  "language_info": {
   "codemirror_mode": {
    "name": "ipython",
    "version": 3
   },
   "file_extension": ".py",
   "mimetype": "text/x-python",
   "name": "python",
   "nbconvert_exporter": "python",
   "pygments_lexer": "ipython3",
   "version": "3.11.7"
  }
 },
 "nbformat": 4,
 "nbformat_minor": 5
}
