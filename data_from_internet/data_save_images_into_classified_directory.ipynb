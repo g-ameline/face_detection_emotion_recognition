{
 "cells": [
  {
   "cell_type": "code",
   "execution_count": 1,
   "id": "89939baa-012d-412d-8e78-28aa7cb39ce2",
   "metadata": {},
   "outputs": [],
   "source": [
    "import fer"
   ]
  },
  {
   "cell_type": "code",
   "execution_count": 2,
   "id": "22f3b5e7-bee7-482e-a4bd-e37d4a081602",
   "metadata": {
    "scrolled": true
   },
   "outputs": [
    {
     "name": "stdout",
     "output_type": "stream",
     "text": [
      "\n",
      "downloading raw data from: https://assets.01-edu.org/ai-branch/project3/emotions-detector.zip\n",
      "at: ../data_png/downloaded_data.zip\n",
      "\n",
      "unizpping raw data from: ../data_png/downloaded_data.zip\n",
      "into: ../data_png/unzipped_data/\n",
      "\n",
      "reading data from: ../data_png/unzipped_data/data/icml_face_data.csv\n",
      "as data frame\n",
      "\n",
      "delete zipped and unzipped data\n",
      "\n",
      "checking data are conform\n",
      "\n",
      "under folder for each data set\n",
      "saving images as .png under emotion number folder\n",
      "saving ../data_png/set_name/emotion_number/index.png\n",
      "image file paths: image_file_paths[:5] = ['../data_png/train/0/0.png', '../data_png/train/0/1.png', '../data_png/train/2/2.png', '../data_png/train/4/3.png', '../data_png/train/6/4.png']\n",
      "saved_paths= 0           ../data_png/train/0/0.png\n",
      "1           ../data_png/train/0/1.png\n",
      "2           ../data_png/train/2/2.png\n",
      "3           ../data_png/train/4/3.png\n",
      "4           ../data_png/train/6/4.png\n",
      "                     ...             \n",
      "35882    ../data_png/test/6/35882.png\n",
      "35883    ../data_png/test/3/35883.png\n",
      "35884    ../data_png/test/0/35884.png\n",
      "35885    ../data_png/test/3/35885.png\n",
      "35886    ../data_png/test/2/35886.png\n",
      "Length: 35887, dtype: object\n",
      "done !\n"
     ]
    }
   ],
   "source": [
    "assert fer.saved_facial_emotion_recognition_data_sets_from_url(\n",
    "    data_folder_path='../data_png/',\n",
    "    image_saving_format='dataset/class/index.png'\n",
    ") is None"
   ]
  },
  {
   "cell_type": "code",
   "execution_count": null,
   "id": "1cc23b1e-c568-4004-88f8-620dbc60f1ab",
   "metadata": {},
   "outputs": [],
   "source": []
  }
 ],
 "metadata": {
  "kernelspec": {
   "display_name": "emotion_recognition",
   "language": "python",
   "name": "emotion_recognition"
  },
  "language_info": {
   "codemirror_mode": {
    "name": "ipython",
    "version": 3
   },
   "file_extension": ".py",
   "mimetype": "text/x-python",
   "name": "python",
   "nbconvert_exporter": "python",
   "pygments_lexer": "ipython3",
   "version": "3.12.6"
  }
 },
 "nbformat": 4,
 "nbformat_minor": 5
}
