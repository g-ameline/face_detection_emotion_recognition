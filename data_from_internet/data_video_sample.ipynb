{
 "cells": [
  {
   "cell_type": "code",
   "execution_count": 2,
   "id": "6df0bbbe-299d-4523-80d3-07cb1a59e381",
   "metadata": {},
   "outputs": [],
   "source": [
    "import os\n",
    "import yt_dlp\n",
    "import constant"
   ]
  },
  {
   "cell_type": "code",
   "execution_count": 6,
   "id": "843c7fce-7f27-4504-8726-cee3728474c2",
   "metadata": {},
   "outputs": [
    {
     "name": "stdout",
     "output_type": "stream",
     "text": [
      "                             \r"
     ]
    },
    {
     "data": {
      "text/plain": [
       "'../sample/facial_emotion_video_from_youtube.mp4'"
      ]
     },
     "execution_count": 6,
     "metadata": {},
     "output_type": "execute_result"
    }
   ],
   "source": [
    "from yt_dlp import YoutubeDL\n",
    "\n",
    "\n",
    "def downloaded_video_file_path_from_video_url(video_url, destination_folder_path, video_file_name):\n",
    "    if not os.path.exists(destination_folder_path):\n",
    "        os.makedirs(destination_folder_path)\n",
    "    destination_filepath = destination_folder_path+video_file_name\n",
    "    ydl_opts = {\n",
    "        'format': 'worstvideo/worst',  # Select the worst video-only format\n",
    "        'outtmpl': destination_filepath,        # Specify the output template\n",
    "        'no_warnings': True,           # Suppress warnings\n",
    "        'quiet': True                  # Suppress output\n",
    "    }\n",
    "    with yt_dlp.YoutubeDL(ydl_opts) as ydl:\n",
    "        ydl.download([video_url])\n",
    "    return destination_filepath\n",
    "\n",
    "constant.video_of_human_faces_file_url\n",
    "\n",
    "downloaded_video_file_path_from_video_url(\n",
    "    video_url=constant.video_of_human_faces_file_url, \n",
    "    destination_folder_path=constant.sample_data_folder_path ,\n",
    "    video_file_name=constant.video_of_human_faces_file_name,\n",
    ")"
   ]
  },
  {
   "cell_type": "code",
   "execution_count": null,
   "id": "0480c7a4-29c8-4619-aa2c-e6658ff2cb91",
   "metadata": {},
   "outputs": [],
   "source": []
  }
 ],
 "metadata": {
  "kernelspec": {
   "display_name": "data_from_internet",
   "language": "python",
   "name": "data_from_internet"
  },
  "language_info": {
   "codemirror_mode": {
    "name": "ipython",
    "version": 3
   },
   "file_extension": ".py",
   "mimetype": "text/x-python",
   "name": "python",
   "nbconvert_exporter": "python",
   "pygments_lexer": "ipython3",
   "version": "3.12.6"
  }
 },
 "nbformat": 4,
 "nbformat_minor": 5
}
