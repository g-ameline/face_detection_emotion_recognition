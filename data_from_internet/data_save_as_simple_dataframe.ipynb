{
 "cells": [
  {
   "cell_type": "code",
   "execution_count": 1,
   "id": "667dd3c2-b678-418a-80ea-89c2b6df21ea",
   "metadata": {},
   "outputs": [],
   "source": [
    "import utils"
   ]
  },
  {
   "cell_type": "code",
   "execution_count": 4,
   "id": "7c4a774b-9383-4835-8562-9e745114c214",
   "metadata": {},
   "outputs": [],
   "source": [
    "import fer"
   ]
  },
  {
   "cell_type": "code",
   "execution_count": 5,
   "id": "22f3b5e7-bee7-482e-a4bd-e37d4a081602",
   "metadata": {},
   "outputs": [
    {
     "name": "stdout",
     "output_type": "stream",
     "text": [
      "\n",
      "creating data_folder: ../data/\n",
      "\n",
      "downloading raw data from: https://assets.01-edu.org/ai-branch/project3/emotions-detector.zip\n",
      "at: ../data/downloaded_data.zip\n",
      "\n",
      "unizpping raw data from: ../data/downloaded_data.zip\n",
      "into: ../data/unzipped_data/\n",
      "\n",
      "reading data from: ../data/unzipped_data/data/icml_face_data.csv\n",
      "as data frame\n",
      "\n",
      "delete zipped and unzipped data\n",
      "\n",
      "checking data are conform\n",
      "\n",
      "under folder for each data set\n",
      "saving data as csv\n",
      "with images as uint8s (as is actually)\n",
      "done saved_data_frame_paths = {'../data/test/data.csv', '../data/train/data.csv', '../data/validate/data.csv'}\n"
     ]
    }
   ],
   "source": [
    "train_data_path, validate_data_path, test_data_path = fer.saved_facial_emotion_recognition_data_sets_from_url(\n",
    "    # data_folder_path=constant.data_folder_path,\n",
    "    image_saving_format='numerals',\n",
    ")"
   ]
  },
  {
   "cell_type": "code",
   "execution_count": 6,
   "id": "df42bb47-c026-4c2a-91aa-d3d2724a7c1d",
   "metadata": {},
   "outputs": [
    {
     "data": {
      "text/plain": [
       "('../data/test/data.csv',\n",
       " '../data/train/data.csv',\n",
       " '../data/validate/data.csv')"
      ]
     },
     "execution_count": 6,
     "metadata": {},
     "output_type": "execute_result"
    }
   ],
   "source": [
    "train_data_path, validate_data_path, test_data_path"
   ]
  },
  {
   "cell_type": "code",
   "execution_count": null,
   "id": "966c6a44-060e-4d2a-b0fd-3007be865f21",
   "metadata": {},
   "outputs": [],
   "source": []
  }
 ],
 "metadata": {
  "kernelspec": {
   "display_name": "data_from_internet",
   "language": "python",
   "name": "data_from_internet"
  },
  "language_info": {
   "codemirror_mode": {
    "name": "ipython",
    "version": 3
   },
   "file_extension": ".py",
   "mimetype": "text/x-python",
   "name": "python",
   "nbconvert_exporter": "python",
   "pygments_lexer": "ipython3",
   "version": "3.12.6"
  }
 },
 "nbformat": 4,
 "nbformat_minor": 5
}
