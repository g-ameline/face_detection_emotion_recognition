{
 "cells": [
  {
   "cell_type": "code",
   "execution_count": 1,
   "id": "1c888491-0583-4c68-83cd-ec85572f005d",
   "metadata": {},
   "outputs": [],
   "source": [
    "import cv2"
   ]
  },
  {
   "cell_type": "code",
   "execution_count": 12,
   "id": "a45fc101-4369-4ca8-ba2e-189ae044f05a",
   "metadata": {
    "scrolled": true
   },
   "outputs": [
    {
     "name": "stdout",
     "output_type": "stream",
     "text": [
      "\"Brio 100 (/dev/video66)\" at /dev/v4l/by-id/usb-046d_Brio_100_2338LZ516WG8-video-index0 -> /dev/video66\n",
      "\"ipu6 (/dev/video10)\" at /dev/v4l/by-path/pci-0000:00:05.0-video-index8 -> /dev/video10\n",
      "\"ipu6 (/dev/video11)\" at /dev/v4l/by-path/pci-0000:00:05.0-video-index9 -> /dev/video11\n",
      "\"ipu6 (/dev/video12)\" at /dev/v4l/by-path/pci-0000:00:05.0-video-index10 -> /dev/video12\n",
      "\"ipu6 (/dev/video13)\" at /dev/v4l/by-path/pci-0000:00:05.0-video-index11 -> /dev/video13\n",
      "\"ipu6 (/dev/video14)\" at /dev/v4l/by-path/pci-0000:00:05.0-video-index12 -> /dev/video14\n",
      "\"ipu6 (/dev/video15)\" at /dev/v4l/by-path/pci-0000:00:05.0-video-index13 -> /dev/video15\n",
      "\"ipu6 (/dev/video16)\" at /dev/v4l/by-path/pci-0000:00:05.0-video-index14 -> /dev/video16\n",
      "\"ipu6 (/dev/video17)\" at /dev/v4l/by-path/pci-0000:00:05.0-video-index15 -> /dev/video17\n",
      "\"ipu6 (/dev/video18)\" at /dev/v4l/by-path/pci-0000:00:05.0-video-index16 -> /dev/video18\n",
      "\"ipu6 (/dev/video19)\" at /dev/v4l/by-path/pci-0000:00:05.0-video-index17 -> /dev/video19\n",
      "\"ipu6 (/dev/video2)\" at /dev/v4l/by-path/pci-0000:00:05.0-video-index0 -> /dev/video2\n",
      "\"ipu6 (/dev/video20)\" at /dev/v4l/by-path/pci-0000:00:05.0-video-index18 -> /dev/video20\n",
      "\"ipu6 (/dev/video21)\" at /dev/v4l/by-path/pci-0000:00:05.0-video-index19 -> /dev/video21\n",
      "\"ipu6 (/dev/video22)\" at /dev/v4l/by-path/pci-0000:00:05.0-video-index20 -> /dev/video22\n",
      "\"ipu6 (/dev/video23)\" at /dev/v4l/by-path/pci-0000:00:05.0-video-index21 -> /dev/video23\n",
      "\"ipu6 (/dev/video24)\" at /dev/v4l/by-path/pci-0000:00:05.0-video-index22 -> /dev/video24\n",
      "\"ipu6 (/dev/video25)\" at /dev/v4l/by-path/pci-0000:00:05.0-video-index23 -> /dev/video25\n",
      "\"ipu6 (/dev/video26)\" at /dev/v4l/by-path/pci-0000:00:05.0-video-index24 -> /dev/video26\n",
      "\"ipu6 (/dev/video27)\" at /dev/v4l/by-path/pci-0000:00:05.0-video-index25 -> /dev/video27\n",
      "\"ipu6 (/dev/video28)\" at /dev/v4l/by-path/pci-0000:00:05.0-video-index26 -> /dev/video28\n",
      "\"ipu6 (/dev/video29)\" at /dev/v4l/by-path/pci-0000:00:05.0-video-index27 -> /dev/video29\n",
      "\"ipu6 (/dev/video3)\" at /dev/v4l/by-path/pci-0000:00:05.0-video-index1 -> /dev/video3\n",
      "\"ipu6 (/dev/video30)\" at /dev/v4l/by-path/pci-0000:00:05.0-video-index28 -> /dev/video30\n",
      "\"ipu6 (/dev/video31)\" at /dev/v4l/by-path/pci-0000:00:05.0-video-index29 -> /dev/video31\n",
      "\"ipu6 (/dev/video32)\" at /dev/v4l/by-path/pci-0000:00:05.0-video-index30 -> /dev/video32\n",
      "\"ipu6 (/dev/video33)\" at /dev/v4l/by-path/pci-0000:00:05.0-video-index31 -> /dev/video33\n",
      "\"ipu6 (/dev/video34)\" at /dev/v4l/by-path/pci-0000:00:05.0-video-index32 -> /dev/video34\n",
      "\"ipu6 (/dev/video35)\" at /dev/v4l/by-path/pci-0000:00:05.0-video-index33 -> /dev/video35\n",
      "\"ipu6 (/dev/video36)\" at /dev/v4l/by-path/pci-0000:00:05.0-video-index34 -> /dev/video36\n",
      "\"ipu6 (/dev/video37)\" at /dev/v4l/by-path/pci-0000:00:05.0-video-index35 -> /dev/video37\n",
      "\"ipu6 (/dev/video38)\" at /dev/v4l/by-path/pci-0000:00:05.0-video-index36 -> /dev/video38\n",
      "\"ipu6 (/dev/video39)\" at /dev/v4l/by-path/pci-0000:00:05.0-video-index37 -> /dev/video39\n",
      "\"ipu6 (/dev/video4)\" at /dev/v4l/by-path/pci-0000:00:05.0-video-index2 -> /dev/video4\n",
      "\"ipu6 (/dev/video40)\" at /dev/v4l/by-path/pci-0000:00:05.0-video-index38 -> /dev/video40\n",
      "\"ipu6 (/dev/video41)\" at /dev/v4l/by-path/pci-0000:00:05.0-video-index39 -> /dev/video41\n",
      "\"ipu6 (/dev/video42)\" at /dev/v4l/by-path/pci-0000:00:05.0-video-index40 -> /dev/video42\n",
      "\"ipu6 (/dev/video43)\" at /dev/v4l/by-path/pci-0000:00:05.0-video-index41 -> /dev/video43\n",
      "\"ipu6 (/dev/video44)\" at /dev/v4l/by-path/pci-0000:00:05.0-video-index42 -> /dev/video44\n",
      "\"ipu6 (/dev/video45)\" at /dev/v4l/by-path/pci-0000:00:05.0-video-index43 -> /dev/video45\n",
      "\"ipu6 (/dev/video46)\" at /dev/v4l/by-path/pci-0000:00:05.0-video-index44 -> /dev/video46\n",
      "\"ipu6 (/dev/video47)\" at /dev/v4l/by-path/pci-0000:00:05.0-video-index45 -> /dev/video47\n",
      "\"ipu6 (/dev/video48)\" at /dev/v4l/by-path/pci-0000:00:05.0-video-index46 -> /dev/video48\n",
      "\"ipu6 (/dev/video49)\" at /dev/v4l/by-path/pci-0000:00:05.0-video-index47 -> /dev/video49\n",
      "\"ipu6 (/dev/video5)\" at /dev/v4l/by-path/pci-0000:00:05.0-video-index3 -> /dev/video5\n",
      "\"ipu6 (/dev/video50)\" at /dev/v4l/by-path/pci-0000:00:05.0-video-index48 -> /dev/video50\n",
      "\"ipu6 (/dev/video51)\" at /dev/v4l/by-path/pci-0000:00:05.0-video-index49 -> /dev/video51\n",
      "\"ipu6 (/dev/video52)\" at /dev/v4l/by-path/pci-0000:00:05.0-video-index50 -> /dev/video52\n",
      "\"ipu6 (/dev/video53)\" at /dev/v4l/by-path/pci-0000:00:05.0-video-index51 -> /dev/video53\n",
      "\"ipu6 (/dev/video54)\" at /dev/v4l/by-path/pci-0000:00:05.0-video-index52 -> /dev/video54\n",
      "\"ipu6 (/dev/video55)\" at /dev/v4l/by-path/pci-0000:00:05.0-video-index53 -> /dev/video55\n",
      "\"ipu6 (/dev/video56)\" at /dev/v4l/by-path/pci-0000:00:05.0-video-index54 -> /dev/video56\n",
      "\"ipu6 (/dev/video57)\" at /dev/v4l/by-path/pci-0000:00:05.0-video-index55 -> /dev/video57\n",
      "\"ipu6 (/dev/video58)\" at /dev/v4l/by-path/pci-0000:00:05.0-video-index56 -> /dev/video58\n",
      "\"ipu6 (/dev/video59)\" at /dev/v4l/by-path/pci-0000:00:05.0-video-index57 -> /dev/video59\n",
      "\"ipu6 (/dev/video6)\" at /dev/v4l/by-path/pci-0000:00:05.0-video-index4 -> /dev/video6\n",
      "\"ipu6 (/dev/video60)\" at /dev/v4l/by-path/pci-0000:00:05.0-video-index58 -> /dev/video60\n",
      "\"ipu6 (/dev/video61)\" at /dev/v4l/by-path/pci-0000:00:05.0-video-index59 -> /dev/video61\n",
      "\"ipu6 (/dev/video62)\" at /dev/v4l/by-path/pci-0000:00:05.0-video-index60 -> /dev/video62\n",
      "\"ipu6 (/dev/video63)\" at /dev/v4l/by-path/pci-0000:00:05.0-video-index61 -> /dev/video63\n",
      "\"ipu6 (/dev/video64)\" at /dev/v4l/by-path/pci-0000:00:05.0-video-index62 -> /dev/video64\n",
      "\"ipu6 (/dev/video65)\" at /dev/v4l/by-path/pci-0000:00:05.0-video-index63 -> /dev/video65\n",
      "\"ipu6 (/dev/video7)\" at /dev/v4l/by-path/pci-0000:00:05.0-video-index5 -> /dev/video7\n",
      "\"ipu6 (/dev/video8)\" at /dev/v4l/by-path/pci-0000:00:05.0-video-index6 -> /dev/video8\n",
      "\"ipu6 (/dev/video9)\" at /dev/v4l/by-path/pci-0000:00:05.0-video-index7 -> /dev/video9\n"
     ]
    }
   ],
   "source": [
    "# find your webcam (assuming you know it's name)\n",
    "!cameractrls -L\n",
    "# for me it was top line\n",
    "# \"Brio 100 (/dev/video0)\" at /dev/v4l/by-id/usb-046d_Brio_100_2338LZ516WG8-video-index0 -> /dev/video0\n",
    "# so the filename cv2.VideoCapture expect is `/dev/video0`"
   ]
  },
  {
   "cell_type": "code",
   "execution_count": 9,
   "id": "1d2f81b9-dd25-488f-b12a-d843ac59bbe1",
   "metadata": {},
   "outputs": [
    {
     "name": "stdout",
     "output_type": "stream",
     "text": [
      "ERROR:root:os.open(/dev/video0, os.O_RDWR, 0) failed: [Errno 2] No such file or directory: '/dev/video0'\n"
     ]
    }
   ],
   "source": [
    "!cameractrls -l"
   ]
  },
  {
   "cell_type": "code",
   "execution_count": 4,
   "id": "90c897be-ec4c-44a5-8514-d9c2899675b4",
   "metadata": {
    "scrolled": true
   },
   "outputs": [
    {
     "name": "stdout",
     "output_type": "stream",
     "text": [
      "Cannot open device /dev/video0, exiting.\n"
     ]
    }
   ],
   "source": [
    "# this command helps also but output 3 paths but only one worked\n",
    "!v4l2-ctl --list-device"
   ]
  },
  {
   "cell_type": "code",
   "execution_count": 5,
   "id": "c6512583-0d27-4c87-a95d-89a4a5ce53e5",
   "metadata": {},
   "outputs": [],
   "source": [
    "def show_webcam_video(filename):\n",
    "    # Open the video file\n",
    "    video_capture = cv2.VideoCapture(filename=filename)\n",
    "    if not video_capture.isOpened():\n",
    "        print(f\"Cannot open camera {video_capture = }\")\n",
    "        return\n",
    "    # frame_counter = 0\n",
    "    print(f\"opening video capture {video_capture = }\")\n",
    "    while True:\n",
    "        ok, frame = video_capture.read()\n",
    "        if not ok:\n",
    "            print(f\"end of video stream {ok = }\")\n",
    "            break\n",
    "        cv2.imshow('frame', frame) # showing webcam output\n",
    "        cv2.imshow('other frame', frame) # showing webcam output\n",
    "        if cv2.waitKey(1) & 0xFF == ord('q'):\n",
    "            print(\"q is pressed, exit\")\n",
    "            break\n",
    "    \n",
    "    video_capture.release()\n",
    "    cv2.destroyAllWindows()"
   ]
  },
  {
   "cell_type": "code",
   "execution_count": 10,
   "id": "1c0ef037-a2bd-41bd-8f4b-392e0a3630ce",
   "metadata": {
    "scrolled": true
   },
   "outputs": [
    {
     "name": "stdout",
     "output_type": "stream",
     "text": [
      "opening video capture video_capture = < cv2.VideoCapture 0x7830cd533cd0>\n",
      "q is pressed, exit\n"
     ]
    }
   ],
   "source": [
    "show_webcam_video(filename=\"/dev/video66\")"
   ]
  },
  {
   "cell_type": "code",
   "execution_count": null,
   "id": "0cc7c1ad-c6c8-4af9-9330-b8ac7cb2b53b",
   "metadata": {},
   "outputs": [],
   "source": [
    "1/0"
   ]
  },
  {
   "cell_type": "code",
   "execution_count": null,
   "id": "d23d30ae-32a9-4482-a694-26039f513820",
   "metadata": {},
   "outputs": [],
   "source": [
    "def show_webcam_video_bis(filename):\n",
    "    import numpy\n",
    "    # Open the video file\n",
    "    video_capture = cv2.VideoCapture(filename=filename)\n",
    "    if not video_capture.isOpened():\n",
    "        print(f\"Cannot open camera {video_capture = }\")\n",
    "        return\n",
    "    # frame_counter = 0\n",
    "    while True:\n",
    "        ok, frame = video_capture.read()\n",
    "        if not ok:\n",
    "            print(f\"end of video stream {ok = }\")\n",
    "            break\n",
    "        frame = cv2.resize(frame, (200, 200))\n",
    "        # frame2 = cv2.resize(frame2, (640, 480))\n",
    "        combined_frame = numpy.hstack((frame, frame))\n",
    "        cv2.imshow('frame', combined_frame) # showing webcam output\n",
    "        if cv2.waitKey(1) & 0xFF == ord('q'):\n",
    "            break\n",
    "    \n",
    "    video_capture.release()\n",
    "    cv2.destroyAllWindows()"
   ]
  },
  {
   "cell_type": "code",
   "execution_count": null,
   "id": "2fb9b94f-87bf-4227-acc8-2a5419634cf2",
   "metadata": {},
   "outputs": [],
   "source": [
    "show_webcam_video_bis(filename=\"/dev/video66\")"
   ]
  },
  {
   "cell_type": "code",
   "execution_count": null,
   "id": "1e4995cf-7fa2-4427-b98b-f79b97a9a769",
   "metadata": {},
   "outputs": [],
   "source": []
  }
 ],
 "metadata": {
  "kernelspec": {
   "display_name": "faces_from_image",
   "language": "python",
   "name": "faces_from_image"
  },
  "language_info": {
   "codemirror_mode": {
    "name": "ipython",
    "version": 3
   },
   "file_extension": ".py",
   "mimetype": "text/x-python",
   "name": "python",
   "nbconvert_exporter": "python",
   "pygments_lexer": "ipython3",
   "version": "3.12.6"
  }
 },
 "nbformat": 4,
 "nbformat_minor": 5
}
