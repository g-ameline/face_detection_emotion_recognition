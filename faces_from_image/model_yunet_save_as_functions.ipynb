{
 "cells": [
  {
   "cell_type": "code",
   "execution_count": 1,
   "id": "1c888491-0583-4c68-83cd-ec85572f005d",
   "metadata": {},
   "outputs": [],
   "source": [
    "import cv2"
   ]
  },
  {
   "cell_type": "code",
   "execution_count": 2,
   "id": "5e593e32-1dcf-41c1-82e6-89fd28959863",
   "metadata": {},
   "outputs": [],
   "source": [
    "import utils"
   ]
  },
  {
   "cell_type": "code",
   "execution_count": 3,
   "id": "c406ee0b-5f31-42ae-96fa-e9a079b99c08",
   "metadata": {},
   "outputs": [],
   "source": [
    "import constant"
   ]
  },
  {
   "cell_type": "code",
   "execution_count": 4,
   "id": "69c40ef6-cb93-4b2c-ae42-1d2b65114872",
   "metadata": {},
   "outputs": [],
   "source": [
    "import numpy"
   ]
  },
  {
   "cell_type": "code",
   "execution_count": 5,
   "id": "46a7b04f-610d-4f05-875b-b87954d43792",
   "metadata": {},
   "outputs": [],
   "source": [
    "import video"
   ]
  },
  {
   "cell_type": "code",
   "execution_count": null,
   "id": "c0fb7f92-166c-48fc-ae4d-e618b45f1253",
   "metadata": {},
   "outputs": [],
   "source": [
    "yunet_model_file_path = utils.fetch_file_stream(\n",
    "    url=constant.yunet_model_url, \n",
    "    destination_folder_path=constant.model_folder_path, \n",
    "    data_file_name=constant.yunet_model_file_name,\n",
    "    redownload=False,\n",
    ")\n",
    "utils.show_folders_and_files(constant.model_folder_path)"
   ]
  },
  {
   "cell_type": "code",
   "execution_count": null,
   "id": "654b36d9-da63-4c8e-98a3-85701d0b1853",
   "metadata": {},
   "outputs": [],
   "source": [
    "def yunet_model_with_proper_input_shape_from_yunet_model_file_path(yunet_model_file_path):\n",
    "    yunet_model = cv2.FaceDetectorYN_create(\n",
    "        yunet_model_file_path, \n",
    "        \"\", # no idea what it is \n",
    "        (0,0), # same\n",
    "    )\n",
    "    yunet_model.setInputSize(video.find_webcam_shape()) \n",
    "    # will try any available device and return frame shape of the first one that ca be opened\n",
    "    return yunet_model "
   ]
  },
  {
   "cell_type": "code",
   "execution_count": null,
   "id": "d7f35b24-a143-4e05-90a0-78462d8b6ed9",
   "metadata": {
    "scrolled": true
   },
   "outputs": [],
   "source": [
    "loaded_yunet_model = yunet_model_with_proper_input_shape_from_yunet_model_file_path(yunet_model_file_path)"
   ]
  },
  {
   "cell_type": "code",
   "execution_count": null,
   "id": "d37b68ed-4932-4581-ae43-04b0fdcf4974",
   "metadata": {},
   "outputs": [],
   "source": [
    "def create_functions_from_model(yunet_model, face_image_shape=(48,48)):\n",
    "    \n",
    "    def faces_and_rectangles_from_image(image_array):\n",
    "        # assert image_array.shape, f\"image must have a shape -> numpy matrix : {image_array = } {type(image_array) = }\"        \n",
    "        _truc, faces = yunet_model.detect(image_array)\n",
    "        # print(f\"{faces = }\")\n",
    "        # print(f\"output of the face extractor {_truc = } {faces = }\")\n",
    "        \n",
    "        extracted_faces = []\n",
    "        rectangles = []\n",
    "        try:\n",
    "            if faces is not None:\n",
    "                for face in faces:\n",
    "                    x, y, w, h = list( int(v) for v in face[:4] )\n",
    "                    face_rectangle = image_array[y:y+h, x:x+w]\n",
    "                    face_gray = cv2.cvtColor(face_rectangle, cv2.COLOR_BGR2GRAY)\n",
    "                    face_resized = cv2.resize(face_gray, face_image_shape)\n",
    "                    extracted_faces.append(face_resized)\n",
    "                    rectangles.append(top_left_and_bot_right:=((x, y), (x+w, y+h)))\n",
    "        except:\n",
    "            pass\n",
    "                \n",
    "        if faces is None:\n",
    "            pass\n",
    "        return extracted_faces, rectangles\n",
    "        \n",
    "    def faces_from_image(image_array):\n",
    "        # assert image_array.shape, f\"image must have a shape -> numpy matrix : {image_array = } {type(image_array) = }\"        \n",
    "        _truc, faces = yunet_model.detect(image_array)\n",
    "        # print(f\"{faces = }\")\n",
    "        # print(f\"output of the face extractor {_truc = } {faces = }\")\n",
    "        \n",
    "        extracted_faces = []\n",
    "        try:\n",
    "            if faces is not None:\n",
    "                for face in faces:\n",
    "                    x, y, w, h = list( int(v) for v in face[:4] )\n",
    "                    face_rectangle = image_array[y:y+h, x:x+w]\n",
    "                    face_gray = cv2.cvtColor(face_rectangle, cv2.COLOR_BGR2GRAY)\n",
    "                    face_resized = cv2.resize(face_gray, face_image_shape)\n",
    "                    extracted_faces.append(face_resized)\n",
    "        except:\n",
    "            pass\n",
    "                \n",
    "        if faces is None:\n",
    "            pass\n",
    "        return faces_from_image\n",
    "        \n",
    "    def face_rectangles_from_image(image_array):\n",
    "        # assert image_array.shape, f\"image must have a shape -> numpy matrix : {image_array = } {type(image_array) = }\"        \n",
    "        _truc, faces = yunet_model.detect(image_array)\n",
    "        # print(f\"{faces = }\")\n",
    "        # print(f\"output of the face extractor {_truc = } {faces = }\")\n",
    "        \n",
    "        rectangles = []\n",
    "        try:\n",
    "            if faces is not None:\n",
    "                for face in faces:\n",
    "                    x, y, w, h = list( int(v) for v in face[:4] )\n",
    "                    face_rectangle = image_array[y:y+h, x:x+w]\n",
    "                    face_gray = cv2.cvtColor(face_rectangle, cv2.COLOR_BGR2GRAY)\n",
    "                    face_resized = cv2.resize(face_gray, face_image_shape)\n",
    "                    rectangles.append(top_left_and_bot_right:=((x, y), (x+w, y+h)))\n",
    "        except:\n",
    "            pass\n",
    "                \n",
    "        if faces is None:\n",
    "            pass\n",
    "        return rectangles\n",
    "\n",
    "    return faces_and_rectangles_from_image, faces_from_image, face_rectangles_from_image\n",
    "\n",
    "def create_functions_from_yunet_model_file_path(yunet_model_file_path):\n",
    "    yunet_model = yunet_model_with_proper_input_shape_from_yunet_model_file_path(yunet_model_file_path)\n",
    "    return create_functions_from_model(yunet_model)\n",
    "\n",
    "def create_faces_and_rectangles_from_image_fnction_from_yunet_model_file_path(yunet_model_file_path):\n",
    "    yunet_model = yunet_model_with_proper_input_shape_from_yunet_model_file_path(yunet_model_file_path)\n",
    "    return create_functions_from_model(yunet_model)[0]\n",
    "\n",
    "def create_faces_from_image_function_from_yunet_model_file_path(yunet_model_file_path):\n",
    "    yunet_model = yunet_model_with_proper_input_shape_from_yunet_model_file_path(yunet_model_file_path)\n",
    "    return create_functions_from_model(yunet_model)[1]\n",
    "\n",
    "def create_face_rectangles_from_image_function_from_yunet_model_file_path(yunet_model_file_path):\n",
    "    yunet_model = yunet_model_with_proper_input_shape_from_yunet_model_file_path(yunet_model_file_path)\n",
    "    return create_functions_from_model(yunet_model)[2]"
   ]
  },
  {
   "cell_type": "code",
   "execution_count": null,
   "id": "a4a994dd-badc-4d42-bb26-5fb003fb1ca9",
   "metadata": {},
   "outputs": [],
   "source": [
    "create_functions_from_yunet_model_file_path(yunet_model_file_path)"
   ]
  },
  {
   "cell_type": "code",
   "execution_count": null,
   "id": "957c04e8-12f9-4f04-a4a9-b592a4439c65",
   "metadata": {},
   "outputs": [],
   "source": [
    "faces_and_rectangles_from_image, faces_from_image, face_rectangles_from_image = create_functions_from_model(loaded_yunet_model)"
   ]
  },
  {
   "cell_type": "code",
   "execution_count": null,
   "id": "843b3c8b-a78a-4634-987f-f06300e92211",
   "metadata": {},
   "outputs": [],
   "source": []
  }
 ],
 "metadata": {
  "kernelspec": {
   "display_name": "faces_from_image",
   "language": "python",
   "name": "faces_from_image"
  },
  "language_info": {
   "codemirror_mode": {
    "name": "ipython",
    "version": 3
   },
   "file_extension": ".py",
   "mimetype": "text/x-python",
   "name": "python",
   "nbconvert_exporter": "python",
   "pygments_lexer": "ipython3",
   "version": "3.12.6"
  }
 },
 "nbformat": 4,
 "nbformat_minor": 5
}
